{
 "cells": [
  {
   "cell_type": "markdown",
   "metadata": {},
   "source": [
    "# Import and extract gaze data\n",
    "`3.gaze-data_import`\n",
    "\n",
    "Import gaze data from the eye-tracking software, and incorporate trial outcomes into homogenized dataset"
   ]
  },
  {
   "cell_type": "code",
   "execution_count": 1,
   "metadata": {},
   "outputs": [],
   "source": [
    "import pandas as pd\n",
    "\n",
    "from pathlib import Path\n",
    "from shutil import copy\n",
    "from datetime import datetime\n",
    "\n",
    "from _utils import extract\n",
    "from _utils.transform import sum_oscillations, oscillation_rate"
   ]
  },
  {
   "cell_type": "code",
   "execution_count": 2,
   "metadata": {},
   "outputs": [],
   "source": [
    "date = datetime.today().strftime('%y%m%d')"
   ]
  },
  {
   "cell_type": "code",
   "execution_count": 4,
   "metadata": {},
   "outputs": [],
   "source": [
    "from config import sourcedata_dir as source_dir\n",
    "from config import derivatives_dir as derivs_dir\n",
    "\n",
    "staged_dir = source_dir / '.staging'\n",
    "homog_dir = derivs_dir / '02.homogenized'\n",
    "gaze_dir = derivs_dir / 'gaze-data'"
   ]
  },
  {
   "cell_type": "markdown",
   "metadata": {},
   "source": [
    "# Import dataframes"
   ]
  },
  {
   "cell_type": "code",
   "execution_count": 5,
   "metadata": {},
   "outputs": [],
   "source": [
    "fpath = homog_dir / ('econdec-full_task-main_beh_' + date + '.csv')\n",
    "beh_df = pd.read_csv(fpath)"
   ]
  },
  {
   "cell_type": "markdown",
   "metadata": {},
   "source": [
    "change the path below - replace with new gaze data paths"
   ]
  },
  {
   "cell_type": "code",
   "execution_count": 6,
   "metadata": {},
   "outputs": [],
   "source": [
    "trial_fpath = [f for f in staged_dir.glob('TrialReport.*.xls')][-1]\n",
    "choice_fpath = [f for f in staged_dir.glob('Choice.*.xls')][-1]\n",
    "outcome_fpath = [f for f in staged_dir.glob('StockOutcome.*.xls')][-1]"
   ]
  },
  {
   "cell_type": "code",
   "execution_count": 7,
   "metadata": {},
   "outputs": [
    {
     "name": "stderr",
     "output_type": "stream",
     "text": [
      "c:\\users\\ia406477\\appdata\\local\\programs\\python\\python37-32\\lib\\site-packages\\IPython\\core\\interactiveshell.py:2785: DtypeWarning: Columns (0,22,23,24,25,26,27,37,38,39,40,41,42,60,61,63,85,93,96,97,98,99) have mixed types. Specify dtype option on import or set low_memory=False.\n",
      "  interactivity=interactivity, compiler=compiler, result=result)\n",
      "c:\\users\\ia406477\\appdata\\local\\programs\\python\\python37-32\\lib\\site-packages\\IPython\\core\\interactiveshell.py:2785: DtypeWarning: Columns (0,22,31,32,33,34,35,36,45,46,47,48,49,58,59,61,83,91,94,95,96,97) have mixed types. Specify dtype option on import or set low_memory=False.\n",
      "  interactivity=interactivity, compiler=compiler, result=result)\n"
     ]
    }
   ],
   "source": [
    "trial_df = pd.read_csv(trial_fpath, sep='\\t')\n",
    "choice_df = pd.read_csv(choice_fpath, sep='\\t')\n",
    "outcome_df = pd.read_csv(outcome_fpath, sep='\\t')"
   ]
  },
  {
   "cell_type": "markdown",
   "metadata": {},
   "source": [
    "# Rename columns"
   ]
  },
  {
   "cell_type": "code",
   "execution_count": 8,
   "metadata": {},
   "outputs": [],
   "source": [
    "from config import new_columns"
   ]
  },
  {
   "cell_type": "code",
   "execution_count": 9,
   "metadata": {},
   "outputs": [],
   "source": [
    "trial_df = trial_df.rename(columns = new_columns)\n",
    "choice_df = choice_df.rename(columns = new_columns)\n",
    "outcome_df = outcome_df.rename(columns = new_columns)"
   ]
  },
  {
   "cell_type": "markdown",
   "metadata": {},
   "source": [
    "## Extract only the gaze data for main task series\n",
    "\n",
    "The dataframe contains gaze data for practice trials, where `practice == 1` or `practice == 2`.\n",
    "\n",
    "It also contains gaze data for the Memory task trials, where `Phase == Fract` or `Phase == Face`.\n",
    "\n",
    "We'll slice all these rows out, leaving only the relevant main task trials (1-72)."
   ]
  },
  {
   "cell_type": "code",
   "execution_count": 10,
   "metadata": {
    "scrolled": true
   },
   "outputs": [],
   "source": [
    "trial_df = trial_df[(trial_df['Phase'] == 'Main Task')]\n",
    "choice_df = choice_df[(choice_df['practice'] == 3) & (choice_df['Phase'] == 'Main Task')]\n",
    "outcome_df = outcome_df[(outcome_df['practice'] == 3) & (outcome_df['Phase'] == 'Main Task')]"
   ]
  },
  {
   "cell_type": "markdown",
   "metadata": {},
   "source": [
    "# Fix gaze trial numbers\n",
    "\n",
    "They were offset by 4 by the practice trials (1-4) we removed. Re-setting to initialize at 1"
   ]
  },
  {
   "cell_type": "code",
   "execution_count": 11,
   "metadata": {},
   "outputs": [
    {
     "data": {
      "text/plain": [
       "5    5266\n",
       "3    5261\n",
       "2    5261\n",
       "6    5256\n",
       "4    5256\n",
       "1    5256\n",
       "Name: trial, dtype: int64"
      ]
     },
     "execution_count": 11,
     "metadata": {},
     "output_type": "execute_result"
    }
   ],
   "source": [
    "choice_df['trial'].value_counts()"
   ]
  },
  {
   "cell_type": "code",
   "execution_count": 12,
   "metadata": {},
   "outputs": [],
   "source": [
    "trial_df['TRIAL_LABEL'] = trial_df['TRIAL_LABEL'].str.split(':').str[-1].astype(int)"
   ]
  },
  {
   "cell_type": "code",
   "execution_count": 13,
   "metadata": {},
   "outputs": [],
   "source": [
    "choice_df['TRIAL_LABEL'] = choice_df['TRIAL_LABEL'].str.split(':').str[-1].astype(int) - 4"
   ]
  },
  {
   "cell_type": "code",
   "execution_count": 14,
   "metadata": {},
   "outputs": [],
   "source": [
    "outcome_df['TRIAL_LABEL'] = outcome_df['TRIAL_LABEL'].str.split(':').str[-1].astype(int) - 4"
   ]
  },
  {
   "cell_type": "markdown",
   "metadata": {},
   "source": [
    "# Drop irrelevant columns\n",
    "\n",
    "There is a lot of data here, so we can implicitly select only the columns we need.\n",
    "\n",
    "We'll rename them to be a little more clear next."
   ]
  },
  {
   "cell_type": "code",
   "execution_count": 15,
   "metadata": {},
   "outputs": [
    {
     "ename": "NameError",
     "evalue": "name 'choice_gaze_frame' is not defined",
     "output_type": "error",
     "traceback": [
      "\u001b[1;31m---------------------------------------------------------------------------\u001b[0m",
      "\u001b[1;31mNameError\u001b[0m                                 Traceback (most recent call last)",
      "\u001b[1;32m<ipython-input-15-1f94c1a8bc86>\u001b[0m in \u001b[0;36m<module>\u001b[1;34m()\u001b[0m\n\u001b[1;32m----> 1\u001b[1;33m choice_gaze_frame = choice_gaze_frame[[\n\u001b[0m\u001b[0;32m      2\u001b[0m     \u001b[1;34m'RECORDING_SESSION_LABEL'\u001b[0m\u001b[1;33m,\u001b[0m\u001b[1;34m'TRIAL_LABEL'\u001b[0m\u001b[1;33m,\u001b[0m\u001b[1;33m\u001b[0m\u001b[0m\n\u001b[0;32m      3\u001b[0m     \u001b[1;34m'IA_LABEL'\u001b[0m\u001b[1;33m,\u001b[0m\u001b[1;34m'IA_ID'\u001b[0m\u001b[1;33m,\u001b[0m\u001b[1;33m\u001b[0m\u001b[0m\n\u001b[0;32m      4\u001b[0m     \u001b[1;34m'IA_FSA_COUNT_1'\u001b[0m\u001b[1;33m,\u001b[0m\u001b[1;34m'IA_FSA_COUNT_2'\u001b[0m\u001b[1;33m,\u001b[0m\u001b[1;33m\u001b[0m\u001b[0m\n\u001b[0;32m      5\u001b[0m     \u001b[1;34m'IA_FSA_COUNT_24'\u001b[0m\u001b[1;33m,\u001b[0m\u001b[1;34m'IA_FSA_COUNT_25'\u001b[0m\u001b[1;33m,\u001b[0m\u001b[1;33m\u001b[0m\u001b[0m\n",
      "\u001b[1;31mNameError\u001b[0m: name 'choice_gaze_frame' is not defined"
     ]
    }
   ],
   "source": [
    "choice_gaze_frame = choice_gaze_frame[[\n",
    "    'RECORDING_SESSION_LABEL','TRIAL_LABEL',\n",
    "    'IA_LABEL','IA_ID',\n",
    "    'IA_FSA_COUNT_1','IA_FSA_COUNT_2',\n",
    "    'IA_FSA_COUNT_24','IA_FSA_COUNT_25',\n",
    "    'IA_FSA_COUNT_26','IA_FSA_COUNT_27',\n",
    "]]"
   ]
  },
  {
   "cell_type": "code",
   "execution_count": 10,
   "metadata": {},
   "outputs": [],
   "source": [
    "outcome_gaze_frame = outcome_gaze_frame[[\n",
    "    'RECORDING_SESSION_LABEL','TRIAL_LABEL',\n",
    "    'IA_ID','IA_LABEL',\n",
    "    'IA_DWELL_TIME'\n",
    "]]"
   ]
  },
  {
   "cell_type": "markdown",
   "metadata": {},
   "source": [
    "# Rename remaining columns\n",
    "\n",
    "In the choice phase, we need to keep this entire matrix in order to calculate the oscillation rate. Each row represents an on-screen interest area for a given trial, denoted redundantly with `ia-id` and `ia-label`. There are six(6) relevant interest areas during the choice phase, so there are six(6) rows per trial.\n",
    "\n",
    "The matrix tells us how many times a saccade started in one interest area and ended in another. Each of these is called a \"fixation skip\" (FSA), starting in that row's interest area, and ending in the interest area denoted by the `fsa-ia-` columns."
   ]
  },
  {
   "cell_type": "code",
   "execution_count": 11,
   "metadata": {},
   "outputs": [],
   "source": [
    "choice_gaze_frame = choice_gaze_frame.rename(columns={\n",
    "    'RECORDING_SESSION_LABEL':'subjnum',\n",
    "    'TRIAL_LABEL':'trial',\n",
    "    'IA_ID':'ia-id',\n",
    "    'IA_LABEL':'ia-label',\n",
    "    'IA_DWELL_TIME':'dwell-time',\n",
    "    'IA_FSA_COUNT_1':'fsa-ia-01',\n",
    "    'IA_FSA_COUNT_2':'fsa-ia-02',\n",
    "    'IA_FSA_COUNT_24':'fsa-ia-24',\n",
    "    'IA_FSA_COUNT_25':'fsa-ia-25',\n",
    "    'IA_FSA_COUNT_26':'fsa-ia-26',\n",
    "    'IA_FSA_COUNT_27':'fsa-ia-27'\n",
    "})"
   ]
  },
  {
   "cell_type": "code",
   "execution_count": 12,
   "metadata": {},
   "outputs": [],
   "source": [
    "outcome_dwell_time = outcome_gaze_frame.rename(columns={\n",
    "    'RECORDING_SESSION_LABEL':'subjnum',\n",
    "    'TRIAL_LABEL':'trial',\n",
    "    'IA_ID':'ia-id',\n",
    "    'IA_LABEL':'ia-label',\n",
    "    'IA_DWELL_TIME':'dwell-time'\n",
    "})"
   ]
  },
  {
   "cell_type": "markdown",
   "metadata": {},
   "source": [
    "# Transform matrix into oscillation sum\n",
    "\n",
    "We'll first define a function `sum_oscillations` to use with `df.apply()` to sum up the number of oscillations from any a given row's interest area to any of the interest areas on the other side of the screen."
   ]
  },
  {
   "cell_type": "code",
   "execution_count": 13,
   "metadata": {},
   "outputs": [],
   "source": [
    "stock_ia_list = [1,24,26]\n",
    "bond_ia_list = [2,25,27]\n",
    "\n",
    "    \n",
    "choice_gaze_frame['oscillations'] = choice_gaze_frame.apply(sum_oscillations,axis=1)"
   ]
  },
  {
   "cell_type": "markdown",
   "metadata": {},
   "source": [
    "Next we use `df.groupby()` and `df.sum()` to collect and summate the oscillations into trialwise rows for merging into `beh_frame`"
   ]
  },
  {
   "cell_type": "code",
   "execution_count": 14,
   "metadata": {
    "scrolled": true
   },
   "outputs": [],
   "source": [
    "oscillations = choice_gaze_frame.groupby(['subjnum','trial'])\n",
    "oscillations = oscillations.sum()['oscillations']\n",
    "oscillations = oscillations.reset_index()"
   ]
  },
  {
   "cell_type": "code",
   "execution_count": 15,
   "metadata": {
    "scrolled": true
   },
   "outputs": [],
   "source": [
    "beh_frame = beh_frame.merge(oscillations,'left')"
   ]
  },
  {
   "cell_type": "markdown",
   "metadata": {},
   "source": [
    "# Extract outcome \"Bubble\" dwell time\n",
    "\n",
    "All we need here is the `dwell-time` for one interest area in particular (`ia-id == 5`)"
   ]
  },
  {
   "cell_type": "code",
   "execution_count": 16,
   "metadata": {},
   "outputs": [],
   "source": [
    "outcome_dwell_time = outcome_dwell_time[outcome_dwell_time['ia-id']==5]"
   ]
  },
  {
   "cell_type": "code",
   "execution_count": 17,
   "metadata": {
    "scrolled": true
   },
   "outputs": [],
   "source": [
    "outcome_dwell_time = outcome_dwell_time[['subjnum','trial','dwell-time']]"
   ]
  },
  {
   "cell_type": "code",
   "execution_count": 18,
   "metadata": {},
   "outputs": [],
   "source": [
    "beh_frame = beh_frame.merge(outcome_dwell_time,'left')"
   ]
  },
  {
   "cell_type": "markdown",
   "metadata": {},
   "source": [
    "# Calculate oscillation rate\n",
    "\n",
    "Divide the sum count of oscillations by the number of seconds spent on the choice phase"
   ]
  },
  {
   "cell_type": "code",
   "execution_count": 20,
   "metadata": {},
   "outputs": [],
   "source": [
    "beh_frame['osc-rate'] = beh_frame.apply(oscillation_rate,axis=1)"
   ]
  },
  {
   "cell_type": "markdown",
   "metadata": {},
   "source": [
    "# Output"
   ]
  },
  {
   "cell_type": "code",
   "execution_count": 14,
   "metadata": {},
   "outputs": [],
   "source": [
    "gaze_dir = derivs_dir / '03.gaze-import'\n",
    "if not Path.exists(gaze_dir): Path.mkdir(gaze_dir)"
   ]
  },
  {
   "cell_type": "code",
   "execution_count": 15,
   "metadata": {},
   "outputs": [],
   "source": [
    "fpath = gaze_dir / ('econdec-full_task-all_eye_' + date + '.csv')"
   ]
  },
  {
   "cell_type": "code",
   "execution_count": 23,
   "metadata": {},
   "outputs": [],
   "source": [
    "beh_frame.to_csv(fpath,index=False)"
   ]
  }
 ],
 "metadata": {
  "kernelspec": {
   "display_name": "Python 3",
   "language": "python",
   "name": "python3"
  },
  "language_info": {
   "codemirror_mode": {
    "name": "ipython",
    "version": 3
   },
   "file_extension": ".py",
   "mimetype": "text/x-python",
   "name": "python",
   "nbconvert_exporter": "python",
   "pygments_lexer": "ipython3",
   "version": "3.7.0"
  }
 },
 "nbformat": 4,
 "nbformat_minor": 2
}
