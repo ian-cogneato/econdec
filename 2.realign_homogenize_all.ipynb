{
 "cells": [
  {
   "cell_type": "markdown",
   "metadata": {},
   "source": [
    "# Realign & Homogenize ED-1, ED-2, ED-3\n",
    "\n",
    "`2.realign_homogenize_all`\n",
    "\n",
    "Realign and merge converted data from ED-3 into the concatenated data from ED-1 and ED-2.\n",
    "\n",
    "Differentiate, import, and reassociate memory data into the main-task trialwise dataset."
   ]
  },
  {
   "cell_type": "code",
   "execution_count": 1,
   "metadata": {},
   "outputs": [],
   "source": [
    "import os\n",
    "import pandas as pd\n",
    "from datetime import datetime\n",
    "\n",
    "from _utils.clean import smooth_columns, eye_cleanup, label_study\n",
    "from _utils.clean import clean_selection, clean_stockpic, clean_bondpic, clean_stockchosen"
   ]
  },
  {
   "cell_type": "code",
   "execution_count": 2,
   "metadata": {},
   "outputs": [],
   "source": [
    "from _utils.clean import clean_paths"
   ]
  },
  {
   "cell_type": "code",
   "execution_count": 3,
   "metadata": {},
   "outputs": [],
   "source": [
    "date = datetime.today().strftime('%y%m%d')"
   ]
  },
  {
   "cell_type": "code",
   "execution_count": 4,
   "metadata": {},
   "outputs": [],
   "source": [
    "derivs_dir = os.path.join('..','derivatives')\n",
    "allsub_dir = os.path.join(derivs_dir,'00.allsub')"
   ]
  },
  {
   "cell_type": "code",
   "execution_count": 5,
   "metadata": {},
   "outputs": [],
   "source": [
    "eye_fpath = os.path.join(allsub_dir,'econdec-3_task-all_beh_' + date + '.csv')\n",
    "eye_frame = pd.read_csv(eye_fpath)\n",
    "main_eye_frame = smooth_columns(eye_frame[eye_frame['Phase'] == 'Main Task'])\n",
    "frac_eye_frame = smooth_columns(eye_frame[eye_frame['Phase'] == 'Fract'])\n",
    "face_eye_frame = smooth_columns(eye_frame[eye_frame['Phase'] == 'Face'])"
   ]
  },
  {
   "cell_type": "code",
   "execution_count": 6,
   "metadata": {},
   "outputs": [],
   "source": [
    "main_fpath = os.path.join(allsub_dir,'econdec-12_task-main_beh_' + date + '.csv')\n",
    "frac_fpath = os.path.join(allsub_dir,'econdec-12_task-frac_beh_' + date + '.csv')\n",
    "face_fpath = os.path.join(allsub_dir,'econdec-12_task-face_beh_' + date + '.csv')"
   ]
  },
  {
   "cell_type": "code",
   "execution_count": 7,
   "metadata": {},
   "outputs": [],
   "source": [
    "main_frame = smooth_columns(pd.read_csv(main_fpath))\n",
    "frac_frame = smooth_columns(pd.read_csv(frac_fpath))\n",
    "face_frame = smooth_columns(pd.read_csv(face_fpath))"
   ]
  },
  {
   "cell_type": "markdown",
   "metadata": {},
   "source": [
    "# Exclude bad subjects"
   ]
  },
  {
   "cell_type": "code",
   "execution_count": 8,
   "metadata": {},
   "outputs": [],
   "source": [
    "from config import exclusions"
   ]
  },
  {
   "cell_type": "markdown",
   "metadata": {},
   "source": [
    "#### Study-one"
   ]
  },
  {
   "cell_type": "code",
   "execution_count": 9,
   "metadata": {},
   "outputs": [],
   "source": [
    "main_frame = main_frame[~main_frame['subjnum'].isin(exclusions)]"
   ]
  },
  {
   "cell_type": "code",
   "execution_count": 10,
   "metadata": {},
   "outputs": [
    {
     "data": {
      "text/plain": [
       "189"
      ]
     },
     "execution_count": 10,
     "metadata": {},
     "output_type": "execute_result"
    }
   ],
   "source": [
    "len(main_frame.subjnum.unique())"
   ]
  },
  {
   "cell_type": "markdown",
   "metadata": {},
   "source": [
    "#### Study-eye"
   ]
  },
  {
   "cell_type": "code",
   "execution_count": 11,
   "metadata": {},
   "outputs": [],
   "source": [
    "main_eye_frame = main_eye_frame[~main_eye_frame['originalparticipant'].isin(exclusions)]"
   ]
  },
  {
   "cell_type": "code",
   "execution_count": 12,
   "metadata": {},
   "outputs": [
    {
     "data": {
      "text/plain": [
       "69"
      ]
     },
     "execution_count": 12,
     "metadata": {},
     "output_type": "execute_result"
    }
   ],
   "source": [
    "len(main_eye_frame.originalparticipant.unique())"
   ]
  },
  {
   "cell_type": "markdown",
   "metadata": {},
   "source": [
    "#### Output"
   ]
  },
  {
   "cell_type": "code",
   "execution_count": 13,
   "metadata": {},
   "outputs": [],
   "source": [
    "exclusions_dir = os.path.join(derivs_dir,'01.exclusions')\n",
    "if not os.path.isdir(exclusions_dir): os.mkdir(exclusions_dir)"
   ]
  },
  {
   "cell_type": "code",
   "execution_count": 14,
   "metadata": {},
   "outputs": [],
   "source": [
    "main_frame.to_csv(os.path.join(exclusions_dir,'econdec-12_task-main_beh_'+date+'.csv'))\n",
    "main_eye_frame.to_csv(os.path.join(exclusions_dir,'econdec-3_task-all_beh_'+date+'.csv'))"
   ]
  },
  {
   "cell_type": "markdown",
   "metadata": {},
   "source": [
    "# Main task"
   ]
  },
  {
   "cell_type": "markdown",
   "metadata": {},
   "source": [
    "## ED-1 & ED-2"
   ]
  },
  {
   "cell_type": "code",
   "execution_count": 15,
   "metadata": {
    "scrolled": true
   },
   "outputs": [
    {
     "data": {
      "text/html": [
       "<div>\n",
       "<style scoped>\n",
       "    .dataframe tbody tr th:only-of-type {\n",
       "        vertical-align: middle;\n",
       "    }\n",
       "\n",
       "    .dataframe tbody tr th {\n",
       "        vertical-align: top;\n",
       "    }\n",
       "\n",
       "    .dataframe thead th {\n",
       "        text-align: right;\n",
       "    }\n",
       "</style>\n",
       "<table border=\"1\" class=\"dataframe\">\n",
       "  <thead>\n",
       "    <tr style=\"text-align: right;\">\n",
       "      <th></th>\n",
       "      <th>subjnum</th>\n",
       "      <th>agegroup</th>\n",
       "      <th>experimentername</th>\n",
       "      <th>runnum</th>\n",
       "      <th>date</th>\n",
       "      <th>time</th>\n",
       "      <th>trialnum</th>\n",
       "      <th>trialnumbydomdist</th>\n",
       "      <th>domain</th>\n",
       "      <th>magnitude</th>\n",
       "      <th>...</th>\n",
       "      <th>probrt</th>\n",
       "      <th>confidence</th>\n",
       "      <th>confidencest</th>\n",
       "      <th>confidencert</th>\n",
       "      <th>stocknumber</th>\n",
       "      <th>bondnumber</th>\n",
       "      <th>genderjudgment</th>\n",
       "      <th>totalpayout</th>\n",
       "      <th>trueprobgood</th>\n",
       "      <th>estwithinrange?</th>\n",
       "    </tr>\n",
       "  </thead>\n",
       "  <tbody>\n",
       "    <tr>\n",
       "      <th>0</th>\n",
       "      <td>100</td>\n",
       "      <td>1</td>\n",
       "      <td>kf</td>\n",
       "      <td>1</td>\n",
       "      <td>10_12</td>\n",
       "      <td>11:31:01.963000</td>\n",
       "      <td>1</td>\n",
       "      <td>1</td>\n",
       "      <td>LOSS</td>\n",
       "      <td>low</td>\n",
       "      <td>...</td>\n",
       "      <td>6.077591</td>\n",
       "      <td>8</td>\n",
       "      <td>2.141471e+06</td>\n",
       "      <td>3.022637</td>\n",
       "      <td>16</td>\n",
       "      <td>9</td>\n",
       "      <td>1</td>\n",
       "      <td>-6</td>\n",
       "      <td>0.300000</td>\n",
       "      <td>0</td>\n",
       "    </tr>\n",
       "    <tr>\n",
       "      <th>1</th>\n",
       "      <td>100</td>\n",
       "      <td>1</td>\n",
       "      <td>kf</td>\n",
       "      <td>1</td>\n",
       "      <td>10_12</td>\n",
       "      <td>11:31:01.963000</td>\n",
       "      <td>2</td>\n",
       "      <td>2</td>\n",
       "      <td>LOSS</td>\n",
       "      <td>low</td>\n",
       "      <td>...</td>\n",
       "      <td>7.294263</td>\n",
       "      <td>8</td>\n",
       "      <td>2.141525e+06</td>\n",
       "      <td>3.695852</td>\n",
       "      <td>16</td>\n",
       "      <td>9</td>\n",
       "      <td>1</td>\n",
       "      <td>-12</td>\n",
       "      <td>0.155172</td>\n",
       "      <td>0</td>\n",
       "    </tr>\n",
       "    <tr>\n",
       "      <th>2</th>\n",
       "      <td>100</td>\n",
       "      <td>1</td>\n",
       "      <td>kf</td>\n",
       "      <td>1</td>\n",
       "      <td>10_12</td>\n",
       "      <td>11:31:01.963000</td>\n",
       "      <td>3</td>\n",
       "      <td>3</td>\n",
       "      <td>LOSS</td>\n",
       "      <td>low</td>\n",
       "      <td>...</td>\n",
       "      <td>7.635041</td>\n",
       "      <td>8</td>\n",
       "      <td>2.141546e+06</td>\n",
       "      <td>3.121775</td>\n",
       "      <td>16</td>\n",
       "      <td>9</td>\n",
       "      <td>1</td>\n",
       "      <td>-18</td>\n",
       "      <td>0.300000</td>\n",
       "      <td>1</td>\n",
       "    </tr>\n",
       "    <tr>\n",
       "      <th>3</th>\n",
       "      <td>100</td>\n",
       "      <td>1</td>\n",
       "      <td>kf</td>\n",
       "      <td>1</td>\n",
       "      <td>10_12</td>\n",
       "      <td>11:31:01.963000</td>\n",
       "      <td>4</td>\n",
       "      <td>4</td>\n",
       "      <td>LOSS</td>\n",
       "      <td>low</td>\n",
       "      <td>...</td>\n",
       "      <td>10.879553</td>\n",
       "      <td>7</td>\n",
       "      <td>2.141574e+06</td>\n",
       "      <td>3.406241</td>\n",
       "      <td>16</td>\n",
       "      <td>9</td>\n",
       "      <td>1</td>\n",
       "      <td>-24</td>\n",
       "      <td>0.500000</td>\n",
       "      <td>0</td>\n",
       "    </tr>\n",
       "    <tr>\n",
       "      <th>4</th>\n",
       "      <td>100</td>\n",
       "      <td>1</td>\n",
       "      <td>kf</td>\n",
       "      <td>1</td>\n",
       "      <td>10_12</td>\n",
       "      <td>11:31:01.963000</td>\n",
       "      <td>5</td>\n",
       "      <td>5</td>\n",
       "      <td>LOSS</td>\n",
       "      <td>low</td>\n",
       "      <td>...</td>\n",
       "      <td>16.525458</td>\n",
       "      <td>8</td>\n",
       "      <td>2.141602e+06</td>\n",
       "      <td>4.553061</td>\n",
       "      <td>16</td>\n",
       "      <td>9</td>\n",
       "      <td>1</td>\n",
       "      <td>-26</td>\n",
       "      <td>0.700000</td>\n",
       "      <td>0</td>\n",
       "    </tr>\n",
       "  </tbody>\n",
       "</table>\n",
       "<p>5 rows × 34 columns</p>\n",
       "</div>"
      ],
      "text/plain": [
       "   subjnum  agegroup experimentername  runnum   date             time  \\\n",
       "0      100         1               kf       1  10_12  11:31:01.963000   \n",
       "1      100         1               kf       1  10_12  11:31:01.963000   \n",
       "2      100         1               kf       1  10_12  11:31:01.963000   \n",
       "3      100         1               kf       1  10_12  11:31:01.963000   \n",
       "4      100         1               kf       1  10_12  11:31:01.963000   \n",
       "\n",
       "   trialnum  trialnumbydomdist domain magnitude       ...           probrt  \\\n",
       "0         1                  1   LOSS       low       ...         6.077591   \n",
       "1         2                  2   LOSS       low       ...         7.294263   \n",
       "2         3                  3   LOSS       low       ...         7.635041   \n",
       "3         4                  4   LOSS       low       ...        10.879553   \n",
       "4         5                  5   LOSS       low       ...        16.525458   \n",
       "\n",
       "  confidence  confidencest confidencert stocknumber bondnumber  \\\n",
       "0          8  2.141471e+06     3.022637          16          9   \n",
       "1          8  2.141525e+06     3.695852          16          9   \n",
       "2          8  2.141546e+06     3.121775          16          9   \n",
       "3          7  2.141574e+06     3.406241          16          9   \n",
       "4          8  2.141602e+06     4.553061          16          9   \n",
       "\n",
       "   genderjudgment  totalpayout  trueprobgood estwithinrange?  \n",
       "0               1           -6      0.300000               0  \n",
       "1               1          -12      0.155172               0  \n",
       "2               1          -18      0.300000               1  \n",
       "3               1          -24      0.500000               0  \n",
       "4               1          -26      0.700000               0  \n",
       "\n",
       "[5 rows x 34 columns]"
      ]
     },
     "execution_count": 15,
     "metadata": {},
     "output_type": "execute_result"
    }
   ],
   "source": [
    "main_frame.head()"
   ]
  },
  {
   "cell_type": "markdown",
   "metadata": {},
   "source": [
    "## Eye study"
   ]
  },
  {
   "cell_type": "code",
   "execution_count": 16,
   "metadata": {
    "scrolled": true
   },
   "outputs": [],
   "source": [
    "main_eye_frame = eye_cleanup(main_eye_frame)"
   ]
  },
  {
   "cell_type": "code",
   "execution_count": 17,
   "metadata": {},
   "outputs": [
    {
     "data": {
      "text/html": [
       "<div>\n",
       "<style scoped>\n",
       "    .dataframe tbody tr th:only-of-type {\n",
       "        vertical-align: middle;\n",
       "    }\n",
       "\n",
       "    .dataframe tbody tr th {\n",
       "        vertical-align: top;\n",
       "    }\n",
       "\n",
       "    .dataframe thead th {\n",
       "        text-align: right;\n",
       "    }\n",
       "</style>\n",
       "<table border=\"1\" class=\"dataframe\">\n",
       "  <thead>\n",
       "    <tr style=\"text-align: right;\">\n",
       "      <th></th>\n",
       "      <th>agegroup</th>\n",
       "      <th>accuracy</th>\n",
       "      <th>bankaccount</th>\n",
       "      <th>bypassed</th>\n",
       "      <th>confidencevalue</th>\n",
       "      <th>date</th>\n",
       "      <th>emotionresponse</th>\n",
       "      <th>estimationvalue</th>\n",
       "      <th>experimenter</th>\n",
       "      <th>facert</th>\n",
       "      <th>...</th>\n",
       "      <th>originaltrialnumber</th>\n",
       "      <th>originaltrialorder</th>\n",
       "      <th>practice</th>\n",
       "      <th>stockfractallocation</th>\n",
       "      <th>stockfractallocationtype</th>\n",
       "      <th>stockimagename</th>\n",
       "      <th>stocktext</th>\n",
       "      <th>stocktextlocation</th>\n",
       "      <th>stockvalue</th>\n",
       "      <th>trueprobability</th>\n",
       "    </tr>\n",
       "  </thead>\n",
       "  <tbody>\n",
       "    <tr>\n",
       "      <th>9</th>\n",
       "      <td>1.0</td>\n",
       "      <td>1.0</td>\n",
       "      <td>-6.0</td>\n",
       "      <td>0.0</td>\n",
       "      <td>8.0</td>\n",
       "      <td>11041300</td>\n",
       "      <td>58.0</td>\n",
       "      <td>70.0</td>\n",
       "      <td>mm</td>\n",
       "      <td>2811.0</td>\n",
       "      <td>...</td>\n",
       "      <td>1.0</td>\n",
       "      <td>1.0</td>\n",
       "      <td>3</td>\n",
       "      <td>(565, 540)</td>\n",
       "      <td>L</td>\n",
       "      <td>fractal12b.jpg</td>\n",
       "      <td>-$2   or  -$10</td>\n",
       "      <td>(640, 510)</td>\n",
       "      <td>-2.0</td>\n",
       "      <td>0.7</td>\n",
       "    </tr>\n",
       "    <tr>\n",
       "      <th>10</th>\n",
       "      <td>1.0</td>\n",
       "      <td>1.0</td>\n",
       "      <td>-12.0</td>\n",
       "      <td>0.0</td>\n",
       "      <td>8.0</td>\n",
       "      <td>11041300</td>\n",
       "      <td>58.0</td>\n",
       "      <td>50.0</td>\n",
       "      <td>mm</td>\n",
       "      <td>3289.0</td>\n",
       "      <td>...</td>\n",
       "      <td>1.0</td>\n",
       "      <td>2.0</td>\n",
       "      <td>3</td>\n",
       "      <td>(1355, 540)</td>\n",
       "      <td>R</td>\n",
       "      <td>fractal12b.jpg</td>\n",
       "      <td>-$2   or  -$10</td>\n",
       "      <td>(1280, 510)</td>\n",
       "      <td>-10.0</td>\n",
       "      <td>0.5</td>\n",
       "    </tr>\n",
       "    <tr>\n",
       "      <th>11</th>\n",
       "      <td>1.0</td>\n",
       "      <td>1.0</td>\n",
       "      <td>-18.0</td>\n",
       "      <td>0.0</td>\n",
       "      <td>7.0</td>\n",
       "      <td>11041300</td>\n",
       "      <td>58.0</td>\n",
       "      <td>30.0</td>\n",
       "      <td>mm</td>\n",
       "      <td>3242.0</td>\n",
       "      <td>...</td>\n",
       "      <td>1.0</td>\n",
       "      <td>3.0</td>\n",
       "      <td>3</td>\n",
       "      <td>(1355, 540)</td>\n",
       "      <td>R</td>\n",
       "      <td>fractal12b.jpg</td>\n",
       "      <td>-$2   or  -$10</td>\n",
       "      <td>(1280, 510)</td>\n",
       "      <td>-10.0</td>\n",
       "      <td>0.3</td>\n",
       "    </tr>\n",
       "    <tr>\n",
       "      <th>12</th>\n",
       "      <td>1.0</td>\n",
       "      <td>1.0</td>\n",
       "      <td>-20.0</td>\n",
       "      <td>0.0</td>\n",
       "      <td>6.0</td>\n",
       "      <td>11041300</td>\n",
       "      <td>58.0</td>\n",
       "      <td>50.0</td>\n",
       "      <td>mm</td>\n",
       "      <td>3904.0</td>\n",
       "      <td>...</td>\n",
       "      <td>1.0</td>\n",
       "      <td>4.0</td>\n",
       "      <td>3</td>\n",
       "      <td>(1355, 540)</td>\n",
       "      <td>R</td>\n",
       "      <td>fractal12b.jpg</td>\n",
       "      <td>-$2   or  -$10</td>\n",
       "      <td>(1280, 510)</td>\n",
       "      <td>-2.0</td>\n",
       "      <td>0.5</td>\n",
       "    </tr>\n",
       "    <tr>\n",
       "      <th>13</th>\n",
       "      <td>1.0</td>\n",
       "      <td>1.0</td>\n",
       "      <td>-30.0</td>\n",
       "      <td>0.0</td>\n",
       "      <td>7.0</td>\n",
       "      <td>11041300</td>\n",
       "      <td>58.0</td>\n",
       "      <td>30.0</td>\n",
       "      <td>mm</td>\n",
       "      <td>1997.0</td>\n",
       "      <td>...</td>\n",
       "      <td>1.0</td>\n",
       "      <td>5.0</td>\n",
       "      <td>3</td>\n",
       "      <td>(1355, 540)</td>\n",
       "      <td>R</td>\n",
       "      <td>fractal12b.jpg</td>\n",
       "      <td>-$2   or  -$10</td>\n",
       "      <td>(1280, 510)</td>\n",
       "      <td>-10.0</td>\n",
       "      <td>0.3</td>\n",
       "    </tr>\n",
       "  </tbody>\n",
       "</table>\n",
       "<p>5 rows × 52 columns</p>\n",
       "</div>"
      ],
      "text/plain": [
       "    agegroup  accuracy  bankaccount bypassed  confidencevalue      date  \\\n",
       "9        1.0       1.0         -6.0      0.0              8.0  11041300   \n",
       "10       1.0       1.0        -12.0      0.0              8.0  11041300   \n",
       "11       1.0       1.0        -18.0      0.0              7.0  11041300   \n",
       "12       1.0       1.0        -20.0      0.0              6.0  11041300   \n",
       "13       1.0       1.0        -30.0      0.0              7.0  11041300   \n",
       "\n",
       "    emotionresponse estimationvalue experimenter  facert       ...        \\\n",
       "9              58.0            70.0           mm  2811.0       ...         \n",
       "10             58.0            50.0           mm  3289.0       ...         \n",
       "11             58.0            30.0           mm  3242.0       ...         \n",
       "12             58.0            50.0           mm  3904.0       ...         \n",
       "13             58.0            30.0           mm  1997.0       ...         \n",
       "\n",
       "   originaltrialnumber originaltrialorder practice stockfractallocation  \\\n",
       "9                  1.0                1.0        3           (565, 540)   \n",
       "10                 1.0                2.0        3          (1355, 540)   \n",
       "11                 1.0                3.0        3          (1355, 540)   \n",
       "12                 1.0                4.0        3          (1355, 540)   \n",
       "13                 1.0                5.0        3          (1355, 540)   \n",
       "\n",
       "   stockfractallocationtype  stockimagename       stocktext stocktextlocation  \\\n",
       "9                         L  fractal12b.jpg  -$2   or  -$10        (640, 510)   \n",
       "10                        R  fractal12b.jpg  -$2   or  -$10       (1280, 510)   \n",
       "11                        R  fractal12b.jpg  -$2   or  -$10       (1280, 510)   \n",
       "12                        R  fractal12b.jpg  -$2   or  -$10       (1280, 510)   \n",
       "13                        R  fractal12b.jpg  -$2   or  -$10       (1280, 510)   \n",
       "\n",
       "   stockvalue trueprobability  \n",
       "9        -2.0             0.7  \n",
       "10      -10.0             0.5  \n",
       "11      -10.0             0.3  \n",
       "12       -2.0             0.5  \n",
       "13      -10.0             0.3  \n",
       "\n",
       "[5 rows x 52 columns]"
      ]
     },
     "execution_count": 17,
     "metadata": {},
     "output_type": "execute_result"
    }
   ],
   "source": [
    "main_eye_frame.head()"
   ]
  },
  {
   "cell_type": "markdown",
   "metadata": {},
   "source": [
    "## Main task columns"
   ]
  },
  {
   "cell_type": "markdown",
   "metadata": {},
   "source": [
    "### Prime study"
   ]
  },
  {
   "cell_type": "code",
   "execution_count": 18,
   "metadata": {},
   "outputs": [
    {
     "data": {
      "text/plain": [
       "Index(['subjnum', 'agegroup', 'experimentername', 'runnum', 'date', 'time',\n",
       "       'trialnum', 'trialnumbydomdist', 'domain', 'magnitude', 'cueonleft',\n",
       "       'cueonright', 'stockpic', 'bondpic', 'optionchosen', 'fractalchosen',\n",
       "       'fracst', 'fracrt', 'stockvalue', 'face', 'facest', 'facert',\n",
       "       'probgood', 'probst', 'probrt', 'confidence', 'confidencest',\n",
       "       'confidencert', 'stocknumber', 'bondnumber', 'genderjudgment',\n",
       "       'totalpayout', 'trueprobgood', 'estwithinrange?'],\n",
       "      dtype='object')"
      ]
     },
     "execution_count": 18,
     "metadata": {},
     "output_type": "execute_result"
    }
   ],
   "source": [
    "main_frame.columns"
   ]
  },
  {
   "cell_type": "code",
   "execution_count": 19,
   "metadata": {},
   "outputs": [],
   "source": [
    "new_main_columns = {'face':'facepic','runnum':'block','trialnum':'trial',\n",
    "               'fracrt':'choicert','fracst':'choicest',\n",
    "               'facert':'outcomert','facest':'outcomest',\n",
    "               'probrt':'esttaskrt','probst':'esttaskst',\n",
    "               'optionchosen':'stockchosen',\n",
    "               'probgood':'estimation','trueprobgood':'trueprob'}"
   ]
  },
  {
   "cell_type": "code",
   "execution_count": 20,
   "metadata": {
    "scrolled": true
   },
   "outputs": [],
   "source": [
    "main_frame = main_frame.rename(columns=new_main_columns)"
   ]
  },
  {
   "cell_type": "code",
   "execution_count": 21,
   "metadata": {
    "scrolled": true
   },
   "outputs": [],
   "source": [
    "new_main_frame = main_frame.drop(['agegroup','experimentername','date','time','trialnumbydomdist',\n",
    "                                  'choicest','outcomest','esttaskst',\n",
    "                                  'confidencest','stocknumber','bondnumber','genderjudgment',\n",
    "                                  'totalpayout','fractalchosen','estwithinrange?','confidencert'], axis=1)"
   ]
  },
  {
   "cell_type": "code",
   "execution_count": 22,
   "metadata": {},
   "outputs": [
    {
     "data": {
      "text/plain": [
       "Index(['subjnum', 'block', 'trial', 'domain', 'magnitude', 'cueonleft',\n",
       "       'cueonright', 'stockpic', 'bondpic', 'stockchosen', 'choicert',\n",
       "       'stockvalue', 'facepic', 'outcomert', 'estimation', 'esttaskrt',\n",
       "       'confidence', 'trueprob', 'study'],\n",
       "      dtype='object')"
      ]
     },
     "execution_count": 22,
     "metadata": {},
     "output_type": "execute_result"
    }
   ],
   "source": [
    "new_main_frame['study'] = new_main_frame.apply(label_study, axis=1)\n",
    "new_main_frame.columns"
   ]
  },
  {
   "cell_type": "markdown",
   "metadata": {},
   "source": [
    "### Eye study"
   ]
  },
  {
   "cell_type": "code",
   "execution_count": 23,
   "metadata": {},
   "outputs": [
    {
     "data": {
      "text/plain": [
       "Index(['agegroup', 'accuracy', 'bankaccount', 'bypassed', 'confidencevalue',\n",
       "       'date', 'emotionresponse', 'estimationvalue', 'experimenter', 'facert',\n",
       "       'facekeypressed', 'paymentaccuracy', 'phase', 'rt', 'selection',\n",
       "       'showinstruction', 'bondfractallocation', 'bondfractallocationtype',\n",
       "       'bondimagename', 'bondtext', 'bondtextlocation', 'bondvalue',\n",
       "       'bubblefile', 'correctfractal', 'correctfractallocation', 'domain',\n",
       "       'facedomain', 'facefile', 'faceimage', 'facestockvalue', 'fracdomain',\n",
       "       'fracmagnitude', 'gender', 'incorectfractal',\n",
       "       'incorrectfractallocation', 'magnitude', 'oldfaceequalstrue',\n",
       "       'originalblock', 'originalparticipant', 'originalparticipantnumber',\n",
       "       'originalsubjectnumber', 'originaltrailnumber', 'originaltrialnumber',\n",
       "       'originaltrialorder', 'practice', 'stockfractallocation',\n",
       "       'stockfractallocationtype', 'stockimagename', 'stocktext',\n",
       "       'stocktextlocation', 'stockvalue', 'trueprobability'],\n",
       "      dtype='object')"
      ]
     },
     "execution_count": 23,
     "metadata": {},
     "output_type": "execute_result"
    }
   ],
   "source": [
    "main_eye_frame.columns"
   ]
  },
  {
   "cell_type": "code",
   "execution_count": 24,
   "metadata": {
    "scrolled": true
   },
   "outputs": [],
   "source": [
    "new_eye_columns = {\n",
    "    'originalparticipant':'subjnum',\n",
    "    'experimenter':'experimentername',\n",
    "    'stockimagename':'stockpic',\n",
    "    'bondimagename':'bondpic',\n",
    "    'originalblock':'block',\n",
    "    'originaltrialorder':'trial',\n",
    "    #'stockfractallocationtype':'cueonleft',\n",
    "    #'bondfractallocationtype':'cueonright',\n",
    "    'faceimage':'facepic',\n",
    "    #'selection':'stockchosen',\n",
    "    'rt':'choicert',\n",
    "    'estimationvalue':'estimation',\n",
    "    'trueprobability':'trueprob',\n",
    "    'accuracy':'genderjudgment',\n",
    "    'confidencevalue':'confidence',\n",
    "    'facert':'outcomert'\n",
    "    }"
   ]
  },
  {
   "cell_type": "code",
   "execution_count": 25,
   "metadata": {},
   "outputs": [],
   "source": [
    "main_eye_frame = main_eye_frame.rename(columns=new_eye_columns)"
   ]
  },
  {
   "cell_type": "code",
   "execution_count": 26,
   "metadata": {},
   "outputs": [],
   "source": [
    "new_main_eye_frame = main_eye_frame.drop([\n",
    "    'practice','bankaccount','bubblefile','bondvalue','stocktext','bondtext',\n",
    "    'stocktextlocation','bondtextlocation','emotionresponse','bypassed','agegroup','experimentername',\n",
    "    'date','correctfractallocation','incorrectfractallocation','paymentaccuracy','phase',\n",
    "    'stockfractallocation','bondfractallocation','showinstruction','gender',\n",
    "    'correctfractal','incorectfractal','oldfaceequalstrue','facefile','facekeypressed',\n",
    "    'originalsubjectnumber','originalparticipantnumber','originaltrialnumber','originaltrailnumber',\n",
    "    'fracdomain','facedomain','fracmagnitude','facestockvalue',\n",
    "    'genderjudgment'], axis=1)"
   ]
  },
  {
   "cell_type": "code",
   "execution_count": 27,
   "metadata": {
    "scrolled": true
   },
   "outputs": [],
   "source": [
    "new_main_eye_frame['study'] = new_main_eye_frame.apply(label_study, axis=1)"
   ]
  },
  {
   "cell_type": "code",
   "execution_count": 28,
   "metadata": {},
   "outputs": [],
   "source": [
    "for col in ('choicert','outcomert'):\n",
    "    new_main_eye_frame[col] = new_main_eye_frame[col].astype(float) *.001"
   ]
  },
  {
   "cell_type": "markdown",
   "metadata": {},
   "source": [
    "### Unified columns"
   ]
  },
  {
   "cell_type": "markdown",
   "metadata": {},
   "source": [
    "#### final cleaning to put values in the same units, etc..."
   ]
  },
  {
   "cell_type": "code",
   "execution_count": 29,
   "metadata": {
    "scrolled": true
   },
   "outputs": [],
   "source": [
    "unified_main_frame = pd.concat([new_main_frame,new_main_eye_frame])"
   ]
  },
  {
   "cell_type": "code",
   "execution_count": 30,
   "metadata": {
    "scrolled": true
   },
   "outputs": [
    {
     "data": {
      "text/plain": [
       "18570"
      ]
     },
     "execution_count": 30,
     "metadata": {},
     "output_type": "execute_result"
    }
   ],
   "source": [
    "unified_main_frame['stockchosen'] = unified_main_frame.apply(clean_stockchosen, axis=1)\n",
    "unified_main_frame['bondpic'] = unified_main_frame.apply(clean_bondpic, axis=1)\n",
    "unified_main_frame['stockpic'] = unified_main_frame.apply(clean_stockpic, axis=1)\n",
    "len(unified_main_frame)"
   ]
  },
  {
   "cell_type": "markdown",
   "metadata": {},
   "source": [
    "# Fractal Memory"
   ]
  },
  {
   "cell_type": "markdown",
   "metadata": {},
   "source": [
    "## Prime study"
   ]
  },
  {
   "cell_type": "code",
   "execution_count": 31,
   "metadata": {
    "scrolled": true
   },
   "outputs": [],
   "source": [
    "frac_frame['oldfractal'] = frac_frame.apply(clean_paths, axis=1)"
   ]
  },
  {
   "cell_type": "code",
   "execution_count": 32,
   "metadata": {
    "scrolled": true
   },
   "outputs": [],
   "source": [
    "frac_lil_frame = frac_frame[['subjectid','oldfractal','judgment']].sort_values(['subjectid','oldfractal'])"
   ]
  },
  {
   "cell_type": "code",
   "execution_count": 33,
   "metadata": {
    "scrolled": true
   },
   "outputs": [],
   "source": [
    "frac_lil_bond_frame = frac_lil_frame.rename(columns={\n",
    "    'subjectid':'subjnum','oldfractal':'bondpic','judgment':'bondmem'\n",
    "})"
   ]
  },
  {
   "cell_type": "code",
   "execution_count": 34,
   "metadata": {
    "scrolled": true
   },
   "outputs": [],
   "source": [
    "frac_lil_stock_frame = frac_lil_frame.rename(columns={\n",
    "    'subjectid':'subjnum','oldfractal':'stockpic','judgment':'stockmem'\n",
    "})"
   ]
  },
  {
   "cell_type": "markdown",
   "metadata": {},
   "source": [
    "# Eye study"
   ]
  },
  {
   "cell_type": "code",
   "execution_count": 35,
   "metadata": {},
   "outputs": [
    {
     "name": "stderr",
     "output_type": "stream",
     "text": [
      "C:\\Users\\idalt\\Anaconda3\\lib\\site-packages\\ipykernel_launcher.py:2: SettingWithCopyWarning: \n",
      "A value is trying to be set on a copy of a slice from a DataFrame.\n",
      "Try using .loc[row_indexer,col_indexer] = value instead\n",
      "\n",
      "See the caveats in the documentation: http://pandas.pydata.org/pandas-docs/stable/indexing.html#indexing-view-versus-copy\n",
      "  \n"
     ]
    }
   ],
   "source": [
    "frac_eye_lil_frame = frac_eye_frame[['originalparticipant','correctfractal','selection','correctfractallocation']]\n",
    "frac_eye_lil_frame['selection'] = frac_eye_lil_frame.apply(clean_selection, axis=1)"
   ]
  },
  {
   "cell_type": "code",
   "execution_count": 36,
   "metadata": {},
   "outputs": [],
   "source": [
    "frac_eye_lil_bond_frame = frac_eye_lil_frame.rename(columns={\n",
    "    'originalparticipant':'subjnum',\n",
    "    'correctfractal':'bondpic',\n",
    "    'selection':'bondmem'\n",
    "}).drop(columns='correctfractallocation')\n",
    "\n",
    "frac_eye_lil_stock_frame = frac_eye_lil_frame.rename(columns={\n",
    "    'originalparticipant':'subjnum',\n",
    "    'correctfractal':'stockpic',\n",
    "    'selection':'stockmem'\n",
    "}).drop(columns='correctfractallocation')"
   ]
  },
  {
   "cell_type": "code",
   "execution_count": 37,
   "metadata": {},
   "outputs": [],
   "source": [
    "frac_lil_bond_frame = pd.concat([frac_lil_bond_frame,frac_eye_lil_bond_frame])\n",
    "frac_lil_stock_frame = pd.concat([frac_lil_stock_frame,frac_eye_lil_stock_frame])"
   ]
  },
  {
   "cell_type": "markdown",
   "metadata": {},
   "source": [
    "# Face Memory"
   ]
  },
  {
   "cell_type": "markdown",
   "metadata": {},
   "source": [
    "## Prime study"
   ]
  },
  {
   "cell_type": "code",
   "execution_count": 38,
   "metadata": {},
   "outputs": [],
   "source": [
    "face_lil_frame=face_frame[['subjectid','face','subjresp']]\n",
    "face_lil_frame=face_lil_frame.rename(columns={\n",
    "    'subjectid':'subjnum','face':'facepic','subjresp':'facemem'\n",
    "})"
   ]
  },
  {
   "cell_type": "markdown",
   "metadata": {},
   "source": [
    "## Eye study"
   ]
  },
  {
   "cell_type": "code",
   "execution_count": 40,
   "metadata": {},
   "outputs": [],
   "source": [
    "face_eye_lil_frame=face_eye_frame[\n",
    "    ['originalparticipant','facefile','selection']\n",
    "].rename(columns={\n",
    "    'originalparticipant':'subjnum',\n",
    "    'facefile':'facepic',\n",
    "    'selection':'facemem'\n",
    "})"
   ]
  },
  {
   "cell_type": "code",
   "execution_count": 41,
   "metadata": {},
   "outputs": [],
   "source": [
    "face_lil_frame=pd.concat([face_lil_frame,face_eye_lil_frame])"
   ]
  },
  {
   "cell_type": "markdown",
   "metadata": {},
   "source": [
    "#### output"
   ]
  },
  {
   "cell_type": "code",
   "execution_count": 42,
   "metadata": {},
   "outputs": [],
   "source": [
    "unified_main_frame = unified_main_frame.merge(frac_lil_bond_frame,how='left')\n",
    "unified_main_frame = unified_main_frame.merge(frac_lil_stock_frame,how='left')\n",
    "unified_main_frame = unified_main_frame.merge(face_lil_frame,how='left')\n",
    "# unified_main_frame[['subjnum','stockpic','bondpic','stockmem','bondmem']]"
   ]
  },
  {
   "cell_type": "code",
   "execution_count": 43,
   "metadata": {},
   "outputs": [],
   "source": [
    "trials=[]\n",
    "for s in range(len(unified_main_frame.subjnum.unique())):\n",
    "    for t in range(1,73):\n",
    "        trials.append(t)"
   ]
  },
  {
   "cell_type": "code",
   "execution_count": 44,
   "metadata": {},
   "outputs": [],
   "source": [
    "blocks=[]\n",
    "for s in range(len(unified_main_frame.subjnum.unique())):\n",
    "    for b in range(1,13):\n",
    "        for x in range(6):\n",
    "            blocks.append(b)"
   ]
  },
  {
   "cell_type": "markdown",
   "metadata": {},
   "source": [
    "# Check size\n",
    "Final merged DataFrame compared to expected number of blocks & trials:"
   ]
  },
  {
   "cell_type": "code",
   "execution_count": 65,
   "metadata": {},
   "outputs": [
    {
     "name": "stdout",
     "output_type": "stream",
     "text": [
      "18576\n",
      "18576\n",
      "18570\n"
     ]
    }
   ],
   "source": [
    "print(len(blocks))\n",
    "print(len(trials))\n",
    "print(len(unified_main_frame))"
   ]
  },
  {
   "cell_type": "code",
   "execution_count": 66,
   "metadata": {},
   "outputs": [
    {
     "ename": "AssertionError",
     "evalue": "",
     "output_type": "error",
     "traceback": [
      "\u001b[1;31m---------------------------------------------------------------------------\u001b[0m",
      "\u001b[1;31mAssertionError\u001b[0m                            Traceback (most recent call last)",
      "\u001b[1;32m<ipython-input-66-b2a773816c6a>\u001b[0m in \u001b[0;36m<module>\u001b[1;34m()\u001b[0m\n\u001b[0;32m      1\u001b[0m \u001b[1;32massert\u001b[0m \u001b[0mlen\u001b[0m\u001b[1;33m(\u001b[0m\u001b[0mblocks\u001b[0m\u001b[1;33m)\u001b[0m \u001b[1;33m==\u001b[0m \u001b[0mlen\u001b[0m\u001b[1;33m(\u001b[0m\u001b[0mtrials\u001b[0m\u001b[1;33m)\u001b[0m\u001b[1;33m\u001b[0m\u001b[0m\n\u001b[1;32m----> 2\u001b[1;33m \u001b[1;32massert\u001b[0m \u001b[0mlen\u001b[0m\u001b[1;33m(\u001b[0m\u001b[0mtrials\u001b[0m\u001b[1;33m)\u001b[0m \u001b[1;33m==\u001b[0m \u001b[0mlen\u001b[0m\u001b[1;33m(\u001b[0m\u001b[0munified_main_frame\u001b[0m\u001b[1;33m)\u001b[0m\u001b[1;33m\u001b[0m\u001b[0m\n\u001b[0m",
      "\u001b[1;31mAssertionError\u001b[0m: "
     ]
    }
   ],
   "source": [
    "assert len(blocks) == len(trials)\n",
    "assert len(trials) == len(unified_main_frame)"
   ]
  },
  {
   "cell_type": "markdown",
   "metadata": {},
   "source": [
    "6 ED3 subjects are missing a trial so the trial and block numbers won't match up if they are added here.\n",
    "\n",
    "Should move this step to early cleaning immediately after extraction."
   ]
  },
  {
   "cell_type": "code",
   "execution_count": 67,
   "metadata": {},
   "outputs": [
    {
     "data": {
      "text/plain": [
       "subjnum\n",
       "339.0    71\n",
       "340.0    71\n",
       "346.0    71\n",
       "347.0    71\n",
       "363.0    71\n",
       "372.0    71\n",
       "Name: block, dtype: int64"
      ]
     },
     "execution_count": 67,
     "metadata": {},
     "output_type": "execute_result"
    }
   ],
   "source": [
    "counts = unified_main_frame.groupby('subjnum').count()['block']\n",
    "counts[counts < 72]"
   ]
  },
  {
   "cell_type": "code",
   "execution_count": 49,
   "metadata": {},
   "outputs": [],
   "source": [
    "unified_main_frame['trial'] = pd.Series(trials)\n",
    "unified_main_frame['block'] = pd.Series(blocks)"
   ]
  },
  {
   "cell_type": "markdown",
   "metadata": {},
   "source": [
    "# Output\n",
    "\n",
    "ONly when all data is fully aligned and homogenized.\n",
    "\n",
    "**ALL** cleaning steps should be done before this point."
   ]
  },
  {
   "cell_type": "code",
   "execution_count": 70,
   "metadata": {},
   "outputs": [],
   "source": [
    "homog_dir=os.path.join(derivs_dir,'02.homogenized')\n",
    "if not os.path.isdir(homog_dir):\n",
    "    os.mkdir(homog_dir)"
   ]
  },
  {
   "cell_type": "code",
   "execution_count": 71,
   "metadata": {},
   "outputs": [],
   "source": [
    "fpath = os.path.join(homog_dir,'econdec-full_task-main_beh_' +date+ '.csv')    \n",
    "unified_main_frame.to_csv(fpath, index=False)"
   ]
  },
  {
   "cell_type": "code",
   "execution_count": 72,
   "metadata": {},
   "outputs": [
    {
     "data": {
      "text/plain": [
       "258"
      ]
     },
     "execution_count": 72,
     "metadata": {},
     "output_type": "execute_result"
    }
   ],
   "source": [
    "len(unified_main_frame.subjnum.unique())"
   ]
  },
  {
   "cell_type": "markdown",
   "metadata": {},
   "source": [
    "For reference:\n",
    "\n",
    "```\n",
    "final_columns=['study','subjnum','trial','block','domain','dom',\n",
    "               'estimation','trueprob','estdiff','valestdiff','valestdiffvalid',\n",
    "               'choicert','choicerta3sd','choicerti3sd','choicemed12v3','choicemed123'\n",
    "               'esttaskrt','esttaskrta3sd','esttaskrti3sd',\n",
    "               'outcomert','outcomerta3sd','outcomerti3sd','outcomemed12','outcomemed123'\n",
    "               'stockchosen','waschoiceoptimal','optimalchoiceshouldhavebeen',\n",
    "               'magnitude','stockvalue','absstockval','b4choiceprobability',\n",
    "               'stockpic','bondpic','facepic','stockmemresp','bondmemresp',\n",
    "               'studymedchoice','studysplitchoice','studymedoutcome','studysplitoutcome',\n",
    "               'primemedchoice','primesplitchoice','primemedoutcome','primesplitoutcome']\n",
    "               ```"
   ]
  }
 ],
 "metadata": {
  "kernelspec": {
   "display_name": "Python 3",
   "language": "python",
   "name": "python3"
  },
  "language_info": {
   "codemirror_mode": {
    "name": "ipython",
    "version": 3
   },
   "file_extension": ".py",
   "mimetype": "text/x-python",
   "name": "python",
   "nbconvert_exporter": "python",
   "pygments_lexer": "ipython3",
   "version": "3.7.0"
  }
 },
 "nbformat": 4,
 "nbformat_minor": 2
}
