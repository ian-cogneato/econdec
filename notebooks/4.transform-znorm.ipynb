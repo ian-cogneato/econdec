{
 "cells": [
  {
   "cell_type": "markdown",
   "metadata": {},
   "source": [
    "# Binarization, Median-splits, Z-norming\n",
    "`4.trial_bin_split_znorm`\n",
    "\n",
    "Binarize, apply median splits, mean-centering, and other secondary trial-level variant variables."
   ]
  },
  {
   "cell_type": "markdown",
   "metadata": {},
   "source": [
    "### Setup: Modules, Directories, & Data Import"
   ]
  },
  {
   "cell_type": "code",
   "execution_count": null,
   "metadata": {},
   "outputs": [],
   "source": [
    "from pathlib import Path\n",
    "from datetime import datetime\n",
    "\n",
    "import pandas as pd\n",
    "import numpy as np"
   ]
  },
  {
   "cell_type": "code",
   "execution_count": null,
   "metadata": {},
   "outputs": [],
   "source": [
    "date = datetime.today().strftime('%y%m%d')"
   ]
  },
  {
   "cell_type": "code",
   "execution_count": null,
   "metadata": {},
   "outputs": [],
   "source": [
    "from config import derivatives_dir\n",
    "gaze_dir = derivatives_dir / '03.gaze-import'\n",
    "bins_dir = derivatives_dir / '04.binarized'\n",
    "if not Path.exists(bins_dir): Path.mkdir(bins_dir)"
   ]
  },
  {
   "cell_type": "code",
   "execution_count": null,
   "metadata": {},
   "outputs": [],
   "source": [
    "file = gaze_dir / ('econdec-full_task-all_eye_' + date + '.csv')\n",
    "data = pd.read_csv(file)"
   ]
  },
  {
   "cell_type": "code",
   "execution_count": null,
   "metadata": {},
   "outputs": [],
   "source": [
    "columns=[\n",
    "    'study','subjnum','block','trial','domain',#'binary-domain',\n",
    "    'estimation','trueprob',\n",
    "    #'val-estdiff','val-estdiff-valid','val-estdiff-valid-mc-12','val-estdiff-valid-mc-123',\n",
    "    #'abs-estdiff','abs-estdiff-valid','abs-estdiff-valid-mc-12','abs-estdiff-valid-mc-123',\n",
    "    'choicert',#'choicert-3sd-12','esttaskrt-3sd-123','choicert-mc-12','choicert-mc-123',\n",
    "    'esttaskrt',#'esttaskrt-3sd-12','esttaskrt-3sd-123','esttaskrt-mc-12','esttaskrt-mc-123',\n",
    "    'outcomert',#'outcomert-3sd-12','outcomert-3sd-123','outcomert-mc-12','esttaskrt-mc-123',\n",
    "    'stockchosen',#'waschoiceoptimal','optimalchoicewas',\n",
    "    'stockvalue',#'abs-stockvalue','bin-abs-stockvalue',\n",
    "    #'bin-abs-stockvalue-mc-12','bin-abs-stockvalue-mc-123','b4choiceprob',\n",
    "    'stockpic','bondpic','facepic','bondmem','stockmem','facemem',\n",
    "    #'facemem-clean-reverse','facemem-mc-123','facemem-split-123','facemem-median-123',\n",
    "    #'choice-split-12','choice-split-123','outcome-split-12','outcome-split-123',\n",
    "    #'choice-median-12','choice-median-123','outcome-median-12','outcome-median-123'\n",
    "    'oscillations','dwell-time','osc-rate'\n",
    "]"
   ]
  },
  {
   "cell_type": "code",
   "execution_count": null,
   "metadata": {
    "scrolled": true
   },
   "outputs": [],
   "source": [
    "data = data[columns]"
   ]
  },
  {
   "cell_type": "markdown",
   "metadata": {},
   "source": [
    "# Relatively simple measures"
   ]
  },
  {
   "cell_type": "markdown",
   "metadata": {},
   "source": [
    "Validate and calculate Valenced & Absolute Estimated Difference:"
   ]
  },
  {
   "cell_type": "code",
   "execution_count": null,
   "metadata": {},
   "outputs": [],
   "source": [
    "data['val-estdiff-valid'] = (pd.to_numeric(data.loc[:,'estimation'], errors = 'coerce') / 100) - (pd.to_numeric(data.loc[:,'trueprob']))\n",
    "data['abs-estdiff-valid'] = abs(data['val-estdiff-valid'])"
   ]
  },
  {
   "cell_type": "markdown",
   "metadata": {},
   "source": [
    "Turn `trueprob` into `trueprob-good` and `trueprob-bad` based on study label"
   ]
  },
  {
   "cell_type": "code",
   "execution_count": null,
   "metadata": {},
   "outputs": [],
   "source": [
    "def clean_trueprob(row):\n",
    "    study_label = row['study']\n",
    "    true_prob = row['trueprob']\n",
    "    \n",
    "    if study_label == 2:\n",
    "        return (1 - true_prob)\n",
    "    else:\n",
    "        return(true_prob)"
   ]
  },
  {
   "cell_type": "code",
   "execution_count": null,
   "metadata": {},
   "outputs": [],
   "source": [
    "data['trueprob-good'] = data.apply(clean_trueprob, axis=1)\n",
    "data['trueprob-bad'] = 1 - data['trueprob-good']\n",
    "data.drop(columns='trueprob', inplace=True)"
   ]
  },
  {
   "cell_type": "markdown",
   "metadata": {},
   "source": [
    "## Calculate Optimal Choice"
   ]
  },
  {
   "cell_type": "raw",
   "metadata": {},
   "source": [
    "data['b4choiceprob']"
   ]
  },
  {
   "cell_type": "raw",
   "metadata": {},
   "source": [
    "def calculate_waschoiceoptimal(row):\n",
    "    stock_chosen = row['stockchosen']\n",
    "    optimal_choicewas = row['optimalchoicewas']\n",
    "    b4choice_prob = row['b4choiceprob']\n",
    "    \n",
    "    if b4choice_prob > .50:\n",
    "        if optimal_choicewas == stock_chosen:\n",
    "            return 1\n",
    "        else:\n",
    "            return 0\n",
    "    elif b4choice_prob < .50:\n",
    "        if optimal_choicewas == stock_chosen:\n",
    "            return 1\n",
    "        else:\n",
    "            return 0\n",
    "    elif b4choice_prob == .50:\n",
    "        return 'NaN'"
   ]
  },
  {
   "cell_type": "raw",
   "metadata": {},
   "source": [
    "data['waschoiceoptimal'] = data.apply(calculate_waschoiceoptimal, axis=1)\n"
   ]
  },
  {
   "cell_type": "raw",
   "metadata": {},
   "source": [
    "data['waschoiceoptimal']"
   ]
  },
  {
   "cell_type": "markdown",
   "metadata": {},
   "source": [
    "## Median Splits"
   ]
  },
  {
   "cell_type": "markdown",
   "metadata": {},
   "source": [
    "### ChoiceRT"
   ]
  },
  {
   "cell_type": "markdown",
   "metadata": {},
   "source": [
    "#### choicert-median-12"
   ]
  },
  {
   "cell_type": "code",
   "execution_count": null,
   "metadata": {},
   "outputs": [],
   "source": [
    "data[data['study'] != 3]['choicert'].median()"
   ]
  },
  {
   "cell_type": "markdown",
   "metadata": {},
   "source": [
    "#### choicert-median-123"
   ]
  },
  {
   "cell_type": "code",
   "execution_count": null,
   "metadata": {},
   "outputs": [],
   "source": [
    "data.groupby(['study']).median()['choicert']"
   ]
  },
  {
   "cell_type": "markdown",
   "metadata": {},
   "source": [
    "### OutcomeRT"
   ]
  },
  {
   "cell_type": "markdown",
   "metadata": {},
   "source": [
    "#### outcomert-median-12"
   ]
  },
  {
   "cell_type": "code",
   "execution_count": null,
   "metadata": {},
   "outputs": [],
   "source": [
    "data[data['study'] != 3]['outcomert'].median()"
   ]
  },
  {
   "cell_type": "markdown",
   "metadata": {},
   "source": [
    "#### outcomert-median-123"
   ]
  },
  {
   "cell_type": "code",
   "execution_count": null,
   "metadata": {},
   "outputs": [],
   "source": [
    "data.groupby(['study']).median()['outcomert']"
   ]
  },
  {
   "cell_type": "markdown",
   "metadata": {},
   "source": [
    "### FaceMem"
   ]
  },
  {
   "cell_type": "markdown",
   "metadata": {},
   "source": [
    "#### clean and reverse-scale"
   ]
  },
  {
   "cell_type": "code",
   "execution_count": null,
   "metadata": {
    "scrolled": true
   },
   "outputs": [],
   "source": [
    "data['facemem-clean-reverse'] = (pd.to_numeric(data['facemem'], errors='coerce') * -1) + 5"
   ]
  },
  {
   "cell_type": "markdown",
   "metadata": {},
   "source": [
    "#### median-split not necessary. Mean-center?"
   ]
  },
  {
   "cell_type": "code",
   "execution_count": null,
   "metadata": {
    "scrolled": true
   },
   "outputs": [],
   "source": [
    "data[data['study'] != 3]['facemem-clean-reverse'].median()"
   ]
  },
  {
   "cell_type": "code",
   "execution_count": null,
   "metadata": {},
   "outputs": [],
   "source": [
    "data.groupby(['study']).median()['facemem-clean-reverse']"
   ]
  },
  {
   "cell_type": "markdown",
   "metadata": {},
   "source": [
    "### Output"
   ]
  },
  {
   "cell_type": "code",
   "execution_count": null,
   "metadata": {},
   "outputs": [],
   "source": [
    "data.sample(11)"
   ]
  },
  {
   "cell_type": "code",
   "execution_count": null,
   "metadata": {},
   "outputs": [],
   "source": [
    "file = bins_dir / ('econdec-all_task-all.' + date + 'csv')\n",
    "data.to_csv(file, index=False)"
   ]
  }
 ],
 "metadata": {
  "kernelspec": {
   "display_name": "Python 3",
   "language": "python",
   "name": "python3"
  },
  "language_info": {
   "codemirror_mode": {
    "name": "ipython",
    "version": 3
   },
   "file_extension": ".py",
   "mimetype": "text/x-python",
   "name": "python",
   "nbconvert_exporter": "python",
   "pygments_lexer": "ipython3",
   "version": "3.7.0"
  }
 },
 "nbformat": 4,
 "nbformat_minor": 2
}
