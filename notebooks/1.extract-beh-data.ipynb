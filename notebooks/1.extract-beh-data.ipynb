{
 "cells": [
  {
   "cell_type": "markdown",
   "metadata": {},
   "source": [
    "### Configuration"
   ]
  },
  {
   "cell_type": "code",
   "execution_count": 2,
   "metadata": {},
   "outputs": [],
   "source": [
    "from pathlib import Path\n",
    "\n",
    "import pandas as pd\n",
    "from datetime import datetime"
   ]
  },
  {
   "cell_type": "code",
   "execution_count": 3,
   "metadata": {},
   "outputs": [],
   "source": [
    "from _utils import extract"
   ]
  },
  {
   "cell_type": "code",
   "execution_count": 4,
   "metadata": {},
   "outputs": [],
   "source": [
    "date = datetime.today().strftime('%y%m%d')"
   ]
  },
  {
   "cell_type": "code",
   "execution_count": 5,
   "metadata": {},
   "outputs": [],
   "source": [
    "verbose = False"
   ]
  },
  {
   "cell_type": "code",
   "execution_count": 6,
   "metadata": {},
   "outputs": [],
   "source": [
    "from config import sourcedata_dir as source_dir\n",
    "from config import derivatives_dir as derivs_dir\n",
    "#source_dir = Path('..') / 'sourcedata'\n",
    "output_dir = derivs_dir / '00.allsub'\n",
    "if not Path.is_dir(output_dir): Path.mkdir(output_dir)"
   ]
  },
  {
   "cell_type": "markdown",
   "metadata": {},
   "source": [
    "### Define Datasets"
   ]
  },
  {
   "cell_type": "code",
   "execution_count": 7,
   "metadata": {},
   "outputs": [
    {
     "data": {
      "text/plain": [
       "[WindowsPath('R:/experiments/econdec/code/../sourcedata/ds1'),\n",
       " WindowsPath('R:/experiments/econdec/code/../sourcedata/ds2'),\n",
       " WindowsPath('R:/experiments/econdec/code/../sourcedata/ds3')]"
      ]
     },
     "execution_count": 7,
     "metadata": {},
     "output_type": "execute_result"
    }
   ],
   "source": [
    "datasets = [d for d in source_dir.glob('ds*')]\n",
    "datasets"
   ]
  },
  {
   "cell_type": "markdown",
   "metadata": {},
   "source": [
    "## Extract and concatenate Task-wise data from each dataset"
   ]
  },
  {
   "cell_type": "markdown",
   "metadata": {},
   "source": [
    "#### Dataset 1:"
   ]
  },
  {
   "cell_type": "code",
   "execution_count": 8,
   "metadata": {},
   "outputs": [
    {
     "name": "stdout",
     "output_type": "stream",
     "text": [
      "[Errno 2] No such file or directory: 'R:\\\\experiments\\\\econdec\\\\code\\\\..\\\\sourcedata\\\\ds1\\\\sub-165\\\\sub-165_task-main_beh.xlsx'\n",
      "[Errno 2] No such file or directory: 'R:\\\\experiments\\\\econdec\\\\code\\\\..\\\\sourcedata\\\\ds1\\\\sub-183\\\\sub-183_task-main_beh.xlsx'\n",
      "[Errno 2] No such file or directory: 'R:\\\\experiments\\\\econdec\\\\code\\\\..\\\\sourcedata\\\\ds1\\\\sub-144\\\\sub-144_task-frac_beh.xlsx'\n",
      "[Errno 2] No such file or directory: 'R:\\\\experiments\\\\econdec\\\\code\\\\..\\\\sourcedata\\\\ds1\\\\sub-165\\\\sub-165_task-frac_beh.xlsx'\n",
      "[Errno 2] No such file or directory: 'R:\\\\experiments\\\\econdec\\\\code\\\\..\\\\sourcedata\\\\ds1\\\\sub-183\\\\sub-183_task-frac_beh.xlsx'\n",
      "[Errno 2] No such file or directory: 'R:\\\\experiments\\\\econdec\\\\code\\\\..\\\\sourcedata\\\\ds1\\\\sub-144\\\\sub-144_task-face_beh.xlsx'\n",
      "[Errno 2] No such file or directory: 'R:\\\\experiments\\\\econdec\\\\code\\\\..\\\\sourcedata\\\\ds1\\\\sub-165\\\\sub-165_task-face_beh.xlsx'\n",
      "[Errno 2] No such file or directory: 'R:\\\\experiments\\\\econdec\\\\code\\\\..\\\\sourcedata\\\\ds1\\\\sub-183\\\\sub-183_task-face_beh.xlsx'\n"
     ]
    }
   ],
   "source": [
    "ds1_main = extract.concat(datasets[0],'main')\n",
    "ds1_frac = extract.concat(datasets[0],'frac')\n",
    "ds1_face = extract.concat(datasets[0],'face')"
   ]
  },
  {
   "cell_type": "markdown",
   "metadata": {},
   "source": [
    "#### Dataset 2:"
   ]
  },
  {
   "cell_type": "code",
   "execution_count": 9,
   "metadata": {},
   "outputs": [
    {
     "name": "stdout",
     "output_type": "stream",
     "text": [
      "[Errno 2] No such file or directory: 'R:\\\\experiments\\\\econdec\\\\code\\\\..\\\\sourcedata\\\\ds2\\\\sub-217\\\\sub-217_task-main_beh.xlsx'\n",
      "[Errno 2] No such file or directory: 'R:\\\\experiments\\\\econdec\\\\code\\\\..\\\\sourcedata\\\\ds2\\\\sub-265\\\\sub-265_task-main_beh.xlsx'\n",
      "[Errno 2] No such file or directory: 'R:\\\\experiments\\\\econdec\\\\code\\\\..\\\\sourcedata\\\\ds2\\\\sub-270\\\\sub-270_task-main_beh.xlsx'\n",
      "[Errno 2] No such file or directory: 'R:\\\\experiments\\\\econdec\\\\code\\\\..\\\\sourcedata\\\\ds2\\\\sub-278\\\\sub-278_task-main_beh.xlsx'\n",
      "[Errno 2] No such file or directory: 'R:\\\\experiments\\\\econdec\\\\code\\\\..\\\\sourcedata\\\\ds2\\\\sub-283\\\\sub-283_task-main_beh.xlsx'\n",
      "[Errno 2] No such file or directory: 'R:\\\\experiments\\\\econdec\\\\code\\\\..\\\\sourcedata\\\\ds2\\\\sub-284\\\\sub-284_task-main_beh.xlsx'\n",
      "[Errno 2] No such file or directory: 'R:\\\\experiments\\\\econdec\\\\code\\\\..\\\\sourcedata\\\\ds2\\\\sub-201\\\\sub-201_task-frac_beh.xlsx'\n",
      "[Errno 2] No such file or directory: 'R:\\\\experiments\\\\econdec\\\\code\\\\..\\\\sourcedata\\\\ds2\\\\sub-2010\\\\sub-2010_task-frac_beh.xlsx'\n",
      "[Errno 2] No such file or directory: 'R:\\\\experiments\\\\econdec\\\\code\\\\..\\\\sourcedata\\\\ds2\\\\sub-221\\\\sub-221_task-frac_beh.xlsx'\n",
      "[Errno 2] No such file or directory: 'R:\\\\experiments\\\\econdec\\\\code\\\\..\\\\sourcedata\\\\ds2\\\\sub-253\\\\sub-253_task-frac_beh.xlsx'\n",
      "[Errno 2] No such file or directory: 'R:\\\\experiments\\\\econdec\\\\code\\\\..\\\\sourcedata\\\\ds2\\\\sub-265\\\\sub-265_task-frac_beh.xlsx'\n",
      "[Errno 2] No such file or directory: 'R:\\\\experiments\\\\econdec\\\\code\\\\..\\\\sourcedata\\\\ds2\\\\sub-270\\\\sub-270_task-frac_beh.xlsx'\n",
      "[Errno 2] No such file or directory: 'R:\\\\experiments\\\\econdec\\\\code\\\\..\\\\sourcedata\\\\ds2\\\\sub-278\\\\sub-278_task-frac_beh.xlsx'\n",
      "[Errno 2] No such file or directory: 'R:\\\\experiments\\\\econdec\\\\code\\\\..\\\\sourcedata\\\\ds2\\\\sub-283\\\\sub-283_task-frac_beh.xlsx'\n",
      "[Errno 2] No such file or directory: 'R:\\\\experiments\\\\econdec\\\\code\\\\..\\\\sourcedata\\\\ds2\\\\sub-284\\\\sub-284_task-frac_beh.xlsx'\n",
      "[Errno 2] No such file or directory: 'R:\\\\experiments\\\\econdec\\\\code\\\\..\\\\sourcedata\\\\ds2\\\\sub-295\\\\sub-295_task-frac_beh.xlsx'\n",
      "[Errno 2] No such file or directory: 'R:\\\\experiments\\\\econdec\\\\code\\\\..\\\\sourcedata\\\\ds2\\\\sub-201\\\\sub-201_task-face_beh.xlsx'\n",
      "[Errno 2] No such file or directory: 'R:\\\\experiments\\\\econdec\\\\code\\\\..\\\\sourcedata\\\\ds2\\\\sub-2010\\\\sub-2010_task-face_beh.xlsx'\n",
      "[Errno 2] No such file or directory: 'R:\\\\experiments\\\\econdec\\\\code\\\\..\\\\sourcedata\\\\ds2\\\\sub-221\\\\sub-221_task-face_beh.xlsx'\n",
      "[Errno 2] No such file or directory: 'R:\\\\experiments\\\\econdec\\\\code\\\\..\\\\sourcedata\\\\ds2\\\\sub-226\\\\sub-226_task-face_beh.xlsx'\n",
      "[Errno 2] No such file or directory: 'R:\\\\experiments\\\\econdec\\\\code\\\\..\\\\sourcedata\\\\ds2\\\\sub-253\\\\sub-253_task-face_beh.xlsx'\n",
      "[Errno 2] No such file or directory: 'R:\\\\experiments\\\\econdec\\\\code\\\\..\\\\sourcedata\\\\ds2\\\\sub-265\\\\sub-265_task-face_beh.xlsx'\n",
      "[Errno 2] No such file or directory: 'R:\\\\experiments\\\\econdec\\\\code\\\\..\\\\sourcedata\\\\ds2\\\\sub-270\\\\sub-270_task-face_beh.xlsx'\n",
      "[Errno 2] No such file or directory: 'R:\\\\experiments\\\\econdec\\\\code\\\\..\\\\sourcedata\\\\ds2\\\\sub-278\\\\sub-278_task-face_beh.xlsx'\n",
      "[Errno 2] No such file or directory: 'R:\\\\experiments\\\\econdec\\\\code\\\\..\\\\sourcedata\\\\ds2\\\\sub-283\\\\sub-283_task-face_beh.xlsx'\n",
      "[Errno 2] No such file or directory: 'R:\\\\experiments\\\\econdec\\\\code\\\\..\\\\sourcedata\\\\ds2\\\\sub-284\\\\sub-284_task-face_beh.xlsx'\n",
      "[Errno 2] No such file or directory: 'R:\\\\experiments\\\\econdec\\\\code\\\\..\\\\sourcedata\\\\ds2\\\\sub-295\\\\sub-295_task-face_beh.xlsx'\n"
     ]
    }
   ],
   "source": [
    "ds2_main = extract.concat(datasets[1],'main')\n",
    "ds2_frac = extract.concat(datasets[1],'frac')\n",
    "ds2_face = extract.concat(datasets[1],'face')"
   ]
  },
  {
   "cell_type": "markdown",
   "metadata": {},
   "source": [
    "#### Dataset 3:"
   ]
  },
  {
   "cell_type": "code",
   "execution_count": 10,
   "metadata": {},
   "outputs": [
    {
     "name": "stderr",
     "output_type": "stream",
     "text": [
      "R:\\experiments\\econdec\\code\\_utils\\extract.py:37: FutureWarning: Sorting because non-concatenation axis is not aligned. A future version\n",
      "of pandas will change to not sort by default.\n",
      "\n",
      "To accept the future behavior, pass 'sort=False'.\n",
      "\n",
      "To retain the current behavior and silence the warning, pass 'sort=True'.\n",
      "\n",
      "  dataframe = pd.concat(dataframes_list)\n"
     ]
    }
   ],
   "source": [
    "ds3 = extract.concat(datasets[2],'all')\n",
    "\n",
    "ds3_main = ds3[ds3['Phase'] == 'Main Task']\n",
    "ds3_frac = ds3[ds3['Phase'] == 'Fract']\n",
    "ds3_face = ds3[ds3['Phase'] == 'Face']"
   ]
  },
  {
   "cell_type": "markdown",
   "metadata": {},
   "source": [
    "## Output concatenated datasets"
   ]
  },
  {
   "cell_type": "code",
   "execution_count": 11,
   "metadata": {},
   "outputs": [],
   "source": [
    "ds1_main.to_csv(output_dir / ('econdec-1_task-main_beh_' + date + '.csv'), index=False)\n",
    "ds1_frac.to_csv(output_dir / ('econdec-1_task-frac_beh_' + date + '.csv'), index=False)\n",
    "ds1_face.to_csv(output_dir / ('econdec-1_task-face_beh_' + date + '.csv'), index=False)"
   ]
  },
  {
   "cell_type": "code",
   "execution_count": 12,
   "metadata": {},
   "outputs": [],
   "source": [
    "ds2_main.to_csv(output_dir / ('econdec-2_task-main_beh_' + date + '.csv'), index=False)\n",
    "ds2_frac.to_csv(output_dir / ('econdec-2_task-frac_beh_' + date + '.csv'), index=False)\n",
    "ds2_face.to_csv(output_dir / ('econdec-2_task-face_beh_' + date + '.csv'), index=False)"
   ]
  },
  {
   "cell_type": "code",
   "execution_count": 13,
   "metadata": {},
   "outputs": [],
   "source": [
    "ds3_main.to_csv(output_dir / ('econdec-3_task-main_beh_' + date + '.csv'), index=False)\n",
    "ds3_frac.to_csv(output_dir / ('econdec-3_task-frac_beh_' + date + '.csv'), index=False)\n",
    "ds3_face.to_csv(output_dir / ('econdec-3_task-face_beh_' + date + '.csv'), index=False)"
   ]
  }
 ],
 "metadata": {
  "kernelspec": {
   "display_name": "Python 3",
   "language": "python",
   "name": "python3"
  },
  "language_info": {
   "codemirror_mode": {
    "name": "ipython",
    "version": 3
   },
   "file_extension": ".py",
   "mimetype": "text/x-python",
   "name": "python",
   "nbconvert_exporter": "python",
   "pygments_lexer": "ipython3",
   "version": "3.7.0"
  }
 },
 "nbformat": 4,
 "nbformat_minor": 2
}
