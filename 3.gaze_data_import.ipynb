{
 "cells": [
  {
   "cell_type": "markdown",
   "metadata": {},
   "source": [
    "# Setup directories"
   ]
  },
  {
   "cell_type": "code",
   "execution_count": 1,
   "metadata": {
    "collapsed": true
   },
   "outputs": [],
   "source": [
    "import os\n",
    "derivs_dir = os.path.join('..','derivatives')\n",
    "homog_dir = os.path.join(derivs_dir,'02.homogenized')\n",
    "source_dir = os.path.join('..','sourcedata')"
   ]
  },
  {
   "cell_type": "markdown",
   "metadata": {},
   "source": [
    "# Import dataframes"
   ]
  },
  {
   "cell_type": "code",
   "execution_count": 2,
   "metadata": {
    "collapsed": true
   },
   "outputs": [],
   "source": [
    "import pandas as pd\n",
    "fpath = os.path.join(homog_dir,'econdec-full_task-main_beh.xlsx')\n",
    "beh_frame = pd.read_excel(fpath)"
   ]
  },
  {
   "cell_type": "code",
   "execution_count": 3,
   "metadata": {
    "collapsed": true
   },
   "outputs": [],
   "source": [
    "fpath = os.path.join(source_dir,'raw-gaze-data.xlsx')\n",
    "choice_gaze_frame = pd.read_excel(fpath, sheet_name=0)"
   ]
  },
  {
   "cell_type": "code",
   "execution_count": 4,
   "metadata": {
    "collapsed": true
   },
   "outputs": [],
   "source": [
    "outcome_gaze_frame = pd.read_excel(fpath, sheet_name=1)"
   ]
  },
  {
   "cell_type": "markdown",
   "metadata": {},
   "source": [
    "# Extract only the gaze data for main task series\n",
    "\n",
    "The dataframe contains gaze data for practice trials, where `practice == 1` or `practice == 2`.\n",
    "\n",
    "It also contains gaze data for the Memory task trials, where `Phase == Fract` or `Phase == Face`.\n",
    "\n",
    "We'll slice all these rows out, leaving only the relevant main task trials (1-72)."
   ]
  },
  {
   "cell_type": "code",
   "execution_count": 5,
   "metadata": {
    "scrolled": true
   },
   "outputs": [
    {
     "name": "stderr",
     "output_type": "stream",
     "text": [
      "C:\\Users\\ia406477\\AppData\\Local\\Continuum\\anaconda2\\lib\\site-packages\\ipykernel_launcher.py:4: UserWarning: Boolean Series key will be reindexed to match DataFrame index.\n",
      "  after removing the cwd from sys.path.\n"
     ]
    }
   ],
   "source": [
    "choice_gaze_frame = choice_gaze_frame[\n",
    "    choice_gaze_frame['practice']==3\n",
    "][\n",
    "    choice_gaze_frame['Phase'] == 'Main Task'\n",
    "]"
   ]
  },
  {
   "cell_type": "code",
   "execution_count": 6,
   "metadata": {},
   "outputs": [
    {
     "name": "stderr",
     "output_type": "stream",
     "text": [
      "C:\\Users\\ia406477\\AppData\\Local\\Continuum\\anaconda2\\lib\\site-packages\\ipykernel_launcher.py:4: UserWarning: Boolean Series key will be reindexed to match DataFrame index.\n",
      "  after removing the cwd from sys.path.\n"
     ]
    }
   ],
   "source": [
    "outcome_gaze_frame = outcome_gaze_frame[\n",
    "    outcome_gaze_frame['practice'] == 3\n",
    "][\n",
    "    outcome_gaze_frame['Phase'] == 'Main Task'\n",
    "]"
   ]
  },
  {
   "cell_type": "markdown",
   "metadata": {},
   "source": [
    "# Fix gaze trial numbers\n",
    "\n",
    "They were offset by 4 by the practice trials (1-4) we removed. Re-setting to initialize at 1"
   ]
  },
  {
   "cell_type": "code",
   "execution_count": 7,
   "metadata": {
    "collapsed": true
   },
   "outputs": [],
   "source": [
    "choice_gaze_frame['TRIAL_LABEL'] = choice_gaze_frame['TRIAL_LABEL']-4"
   ]
  },
  {
   "cell_type": "code",
   "execution_count": 8,
   "metadata": {
    "collapsed": true
   },
   "outputs": [],
   "source": [
    "outcome_gaze_frame['TRIAL_LABEL'] = outcome_gaze_frame['TRIAL_LABEL']-4"
   ]
  },
  {
   "cell_type": "markdown",
   "metadata": {},
   "source": [
    "# Drop irrelevant columns\n",
    "\n",
    "There is a lot of data here, so we can implicitly select only the columns we need.\n",
    "\n",
    "We'll rename them to be a little more clear next."
   ]
  },
  {
   "cell_type": "code",
   "execution_count": 9,
   "metadata": {
    "collapsed": true
   },
   "outputs": [],
   "source": [
    "choice_gaze_frame = choice_gaze_frame[[\n",
    "    'RECORDING_SESSION_LABEL','TRIAL_LABEL',\n",
    "    'IA_LABEL','IA_ID',\n",
    "    'IA_FSA_COUNT_1','IA_FSA_COUNT_2',\n",
    "    'IA_FSA_COUNT_24','IA_FSA_COUNT_25',\n",
    "    'IA_FSA_COUNT_26','IA_FSA_COUNT_27',\n",
    "]]"
   ]
  },
  {
   "cell_type": "code",
   "execution_count": 10,
   "metadata": {
    "collapsed": true
   },
   "outputs": [],
   "source": [
    "outcome_gaze_frame = outcome_gaze_frame[[\n",
    "    'RECORDING_SESSION_LABEL','TRIAL_LABEL',\n",
    "    'IA_ID','IA_LABEL',\n",
    "    'IA_DWELL_TIME'\n",
    "]]"
   ]
  },
  {
   "cell_type": "markdown",
   "metadata": {},
   "source": [
    "# Rename remaining columns\n",
    "\n",
    "In the choice phase, we need to keep this entire matrix in order to calculate the oscillation rate. Each row represents an on-screen interest area for a given trial, denoted redundantly with `ia-id` and `ia-label`. There are six(6) relevant interest areas during the choice phase, so there are six(6) rows per trial.\n",
    "\n",
    "The matrix tells us how many times a saccade started in one interest area and ended in another. Each of these is called a \"fixation skip\" (FSA), starting in that row's interest area, and ending in the interest area denoted by the `fsa-ia-` columns."
   ]
  },
  {
   "cell_type": "code",
   "execution_count": 11,
   "metadata": {
    "collapsed": true
   },
   "outputs": [],
   "source": [
    "choice_gaze_frame = choice_gaze_frame.rename(columns={\n",
    "    'RECORDING_SESSION_LABEL':'subjnum',\n",
    "    'TRIAL_LABEL':'trial',\n",
    "    'IA_ID':'ia-id',\n",
    "    'IA_LABEL':'ia-label',\n",
    "    'IA_DWELL_TIME':'dwell-time',\n",
    "    'IA_FSA_COUNT_1':'fsa-ia-01',\n",
    "    'IA_FSA_COUNT_2':'fsa-ia-02',\n",
    "    'IA_FSA_COUNT_24':'fsa-ia-24',\n",
    "    'IA_FSA_COUNT_25':'fsa-ia-25',\n",
    "    'IA_FSA_COUNT_26':'fsa-ia-26',\n",
    "    'IA_FSA_COUNT_27':'fsa-ia-27'\n",
    "})"
   ]
  },
  {
   "cell_type": "code",
   "execution_count": 12,
   "metadata": {
    "collapsed": true
   },
   "outputs": [],
   "source": [
    "outcome_dwell_time = outcome_gaze_frame.rename(columns={\n",
    "    'RECORDING_SESSION_LABEL':'subjnum',\n",
    "    'TRIAL_LABEL':'trial',\n",
    "    'IA_ID':'ia-id',\n",
    "    'IA_LABEL':'ia-label',\n",
    "    'IA_DWELL_TIME':'dwell-time'\n",
    "})"
   ]
  },
  {
   "cell_type": "markdown",
   "metadata": {},
   "source": [
    "# Transform matrix into oscillation sum\n",
    "\n",
    "We'll first define a function `sum_oscillations` to use with `df.apply()` to sum up the number of oscillations from any a given row's interest area to any of the interest areas on the other side of the screen."
   ]
  },
  {
   "cell_type": "code",
   "execution_count": 13,
   "metadata": {
    "collapsed": true
   },
   "outputs": [],
   "source": [
    "stock_ia_list = [1,24,26]\n",
    "bond_ia_list = [2,25,27]\n",
    "\n",
    "def sum_oscillations(row):\n",
    "    if row['ia-id'] in stock_ia_list:\n",
    "        return sum([row['fsa-ia-02'],row['fsa-ia-25'],row['fsa-ia-27']])\n",
    "    elif row['ia-id'] in bond_ia_list:\n",
    "        return sum([row['fsa-ia-01'],row['fsa-ia-24'],row['fsa-ia-26']])\n",
    "    \n",
    "choice_gaze_frame['oscillations'] = choice_gaze_frame.apply(sum_oscillations,axis=1)"
   ]
  },
  {
   "cell_type": "markdown",
   "metadata": {},
   "source": [
    "Next we use `df.groupby()` and `df.sum()` to collect and summate the oscillations into trialwise rows for merging into `beh_frame`"
   ]
  },
  {
   "cell_type": "code",
   "execution_count": 14,
   "metadata": {
    "collapsed": true,
    "scrolled": true
   },
   "outputs": [],
   "source": [
    "oscillations = choice_gaze_frame.groupby(['subjnum','trial'])\n",
    "oscillations = oscillations.sum()['oscillations']\n",
    "oscillations = oscillations.reset_index()"
   ]
  },
  {
   "cell_type": "code",
   "execution_count": 15,
   "metadata": {
    "collapsed": true,
    "scrolled": true
   },
   "outputs": [],
   "source": [
    "beh_frame = beh_frame.merge(oscillations,'left')"
   ]
  },
  {
   "cell_type": "markdown",
   "metadata": {},
   "source": [
    "# Extract outcome \"Bubble\" dwell time\n",
    "\n",
    "All we need here is the `dwell-time` for one interest area in particular (`ia-id == 5`)"
   ]
  },
  {
   "cell_type": "code",
   "execution_count": 16,
   "metadata": {
    "collapsed": true
   },
   "outputs": [],
   "source": [
    "outcome_dwell_time = outcome_dwell_time[outcome_dwell_time['ia-id']==5]"
   ]
  },
  {
   "cell_type": "code",
   "execution_count": 17,
   "metadata": {
    "collapsed": true,
    "scrolled": true
   },
   "outputs": [],
   "source": [
    "outcome_dwell_time = outcome_dwell_time[['subjnum','trial','dwell-time']]"
   ]
  },
  {
   "cell_type": "code",
   "execution_count": 18,
   "metadata": {
    "collapsed": true
   },
   "outputs": [],
   "source": [
    "beh_frame = beh_frame.merge(outcome_dwell_time,'left')"
   ]
  },
  {
   "cell_type": "markdown",
   "metadata": {},
   "source": [
    "# Calculate oscillation rate\n",
    "\n",
    "Divide the sum count of oscillations by the number of seconds spent on the choice phase"
   ]
  },
  {
   "cell_type": "code",
   "execution_count": 19,
   "metadata": {
    "collapsed": true
   },
   "outputs": [],
   "source": [
    "def oscillation_rate(row):\n",
    "    return float(row['oscillations'] / row['choicert'])"
   ]
  },
  {
   "cell_type": "code",
   "execution_count": 20,
   "metadata": {
    "collapsed": true
   },
   "outputs": [],
   "source": [
    "beh_frame['osc-rate'] = beh_frame.apply(oscillation_rate,axis=1)"
   ]
  },
  {
   "cell_type": "markdown",
   "metadata": {},
   "source": [
    "# Output"
   ]
  },
  {
   "cell_type": "code",
   "execution_count": 22,
   "metadata": {},
   "outputs": [
    {
     "name": "stdout",
     "output_type": "stream",
     "text": [
      "[Error 183] Cannot create a file when that file already exists: '..\\\\derivatives\\\\03.gaze-import'\n"
     ]
    }
   ],
   "source": [
    "gaze_dir = os.path.join(derivs_dir,'03.gaze-import')\n",
    "try: os.mkdir(gaze_dir)\n",
    "except OSError as e:\n",
    "    print e"
   ]
  },
  {
   "cell_type": "code",
   "execution_count": 23,
   "metadata": {
    "collapsed": true
   },
   "outputs": [],
   "source": [
    "fpath = os.path.join(gaze_dir,'econdec-full_task-all_eye.xlsx')"
   ]
  },
  {
   "cell_type": "code",
   "execution_count": 24,
   "metadata": {
    "collapsed": true
   },
   "outputs": [],
   "source": [
    "beh_frame.to_excel(fpath,index=False)"
   ]
  }
 ],
 "metadata": {
  "kernelspec": {
   "display_name": "Python 3",
   "language": "python",
   "name": "python3"
  },
  "language_info": {
   "codemirror_mode": {
    "name": "ipython",
    "version": 3
   },
   "file_extension": ".py",
   "mimetype": "text/x-python",
   "name": "python",
   "nbconvert_exporter": "python",
   "pygments_lexer": "ipython3",
   "version": "3.7.0"
  }
 },
 "nbformat": 4,
 "nbformat_minor": 2
}
