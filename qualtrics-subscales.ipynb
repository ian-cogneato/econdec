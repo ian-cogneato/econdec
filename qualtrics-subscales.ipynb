{
 "cells": [
  {
   "cell_type": "code",
   "execution_count": 32,
   "metadata": {
    "collapsed": true
   },
   "outputs": [],
   "source": [
    "import os\n",
    "import pandas as pd"
   ]
  },
  {
   "cell_type": "code",
   "execution_count": 33,
   "metadata": {
    "collapsed": true
   },
   "outputs": [],
   "source": [
    "source_dir = os.path.join(os.path.abspath('..'),'sourcedata','qualtrics')\n",
    "derivs_dir = os.path.join(os.path.abspath('..'),'derivatives','qualtrics')"
   ]
  },
  {
   "cell_type": "code",
   "execution_count": 34,
   "metadata": {},
   "outputs": [],
   "source": [
    "frames={}"
   ]
  },
  {
   "cell_type": "code",
   "execution_count": 35,
   "metadata": {},
   "outputs": [],
   "source": [
    "for f in os.listdir(source_dir):\n",
    "    if f.startswith('180514'):\n",
    "        keyname = f.strip('.csv')\n",
    "        fname = os.path.join(source_dir, f)\n",
    "        frames[keyname] = pd.read_csv(fname)"
   ]
  },
  {
   "cell_type": "code",
   "execution_count": 36,
   "metadata": {
    "scrolled": true
   },
   "outputs": [
    {
     "data": {
      "text/plain": [
       "['180514_eyetrack-pre',\n",
       " '180514_econdec-pre',\n",
       " '180514_eyetrack-post',\n",
       " '180514_econdec-post']"
      ]
     },
     "execution_count": 36,
     "metadata": {},
     "output_type": "execute_result"
    }
   ],
   "source": [
    "frames.keys()"
   ]
  },
  {
   "cell_type": "code",
   "execution_count": 55,
   "metadata": {},
   "outputs": [
    {
     "data": {
      "text/plain": [
       "0     Participant Number:\n",
       "6                     314\n",
       "7                     311\n",
       "8                     310\n",
       "9                     309\n",
       "10                    308\n",
       "11                    306\n",
       "12                    305\n",
       "13                    304\n",
       "14                    303\n",
       "15                    302\n",
       "16                    301\n",
       "18                    315\n",
       "19                    312\n",
       "20                    313\n",
       "Name: SSID, dtype: object"
      ]
     },
     "execution_count": 55,
     "metadata": {},
     "output_type": "execute_result"
    }
   ],
   "source": [
    "dupes = frames['180514_eyetrack-post']['SSID'][frames['180514_eyetrack-post']['SSID'].isin(frames['180514_econdec-post']['SSID'])]\n",
    "dupes"
   ]
  },
  {
   "cell_type": "code",
   "execution_count": null,
   "metadata": {
    "collapsed": true
   },
   "outputs": [],
   "source": []
  },
  {
   "cell_type": "code",
   "execution_count": 49,
   "metadata": {},
   "outputs": [
    {
     "name": "stdout",
     "output_type": "stream",
     "text": [
      "180514_eyetrack-pre\n",
      "2     300\n",
      "3     301\n",
      "4     302\n",
      "5     303\n",
      "6     304\n",
      "7     305\n",
      "8     306\n",
      "9     308\n",
      "10    309\n",
      "11    310\n",
      "12    311\n",
      "13    312\n",
      "14    313\n",
      "15    314\n",
      "16    315\n",
      "17    316\n",
      "18    317\n",
      "19    318\n",
      "20    319\n",
      "21    320\n",
      "22    321\n",
      "23    322\n",
      "24    323\n",
      "25    324\n",
      "26    325\n",
      "27    326\n",
      "28    327\n",
      "29    328\n",
      "Name: SSID, dtype: object\n",
      "180514_econdec-pre\n",
      "2       201\n",
      "3       202\n",
      "4       203\n",
      "5       146\n",
      "6       205\n",
      "7       206\n",
      "8       207\n",
      "9       208\n",
      "10      209\n",
      "11      210\n",
      "12      211\n",
      "13      212\n",
      "14      213\n",
      "15      148\n",
      "16      150\n",
      "17      147\n",
      "18      214\n",
      "19      215\n",
      "20      216\n",
      "21      152\n",
      "22      153\n",
      "23      217\n",
      "24      155\n",
      "25      218\n",
      "26      219\n",
      "27      157\n",
      "28      220\n",
      "29      221\n",
      "30      222\n",
      "31      223\n",
      "       ... \n",
      "173     290\n",
      "174     291\n",
      "175     292\n",
      "176     293\n",
      "177     294\n",
      "178     295\n",
      "179     296\n",
      "180     228\n",
      "181     229\n",
      "182     297\n",
      "183     298\n",
      "184     299\n",
      "185    2002\n",
      "186    2003\n",
      "187    2004\n",
      "188    2006\n",
      "189    2005\n",
      "190    2008\n",
      "191    2009\n",
      "192    2010\n",
      "193    2007\n",
      "194    2011\n",
      "195     258\n",
      "196     266\n",
      "197     167\n",
      "198     204\n",
      "199     256\n",
      "200    2001\n",
      "201     270\n",
      "202     280\n",
      "Name: SSID, Length: 201, dtype: object\n",
      "180514_eyetrack-post\n",
      "2     NaN\n",
      "3     316\n",
      "4     317\n",
      "5     318\n",
      "6     314\n",
      "7     311\n",
      "8     310\n",
      "9     309\n",
      "10    308\n",
      "11    306\n",
      "12    305\n",
      "13    304\n",
      "14    303\n",
      "15    302\n",
      "16    301\n",
      "17    319\n",
      "18    315\n",
      "19    312\n",
      "20    313\n",
      "21    320\n",
      "22    321\n",
      "23    322\n",
      "24    323\n",
      "25    324\n",
      "26    325\n",
      "27    326\n",
      "28    327\n",
      "29    328\n",
      "Name: SSID, dtype: object\n",
      "180514_econdec-post\n",
      "2       201\n",
      "3       202\n",
      "4       203\n",
      "5       145\n",
      "6       204\n",
      "7       205\n",
      "8       206\n",
      "9       207\n",
      "10      208\n",
      "11      209\n",
      "12      210\n",
      "13      211\n",
      "14      212\n",
      "15      213\n",
      "16      150\n",
      "17      147\n",
      "18      214\n",
      "19      215\n",
      "20      216\n",
      "21      217\n",
      "22      218\n",
      "23      219\n",
      "24      156\n",
      "25      157\n",
      "26      158\n",
      "27      220\n",
      "28      221\n",
      "29      222\n",
      "30      223\n",
      "31      224\n",
      "       ... \n",
      "184     294\n",
      "185     295\n",
      "186     296\n",
      "187     297\n",
      "188     298\n",
      "189     299\n",
      "190    2002\n",
      "191    2001\n",
      "192    2003\n",
      "193    2004\n",
      "194    2006\n",
      "195    2005\n",
      "196    2008\n",
      "197    2009\n",
      "198    2007\n",
      "200     301\n",
      "201     302\n",
      "202     303\n",
      "203     304\n",
      "204     305\n",
      "205     306\n",
      "206     308\n",
      "207     309\n",
      "208     310\n",
      "209     311\n",
      "210     314\n",
      "211     313\n",
      "212     312\n",
      "214    2011\n",
      "215     266\n",
      "Name: SSID, Length: 212, dtype: object\n"
     ]
    }
   ],
   "source": [
    "for key in frames.keys():\n",
    "    print key\n",
    "    print(frames[key][frames[key]['Finished'] == '1']['SSID'])"
   ]
  },
  {
   "cell_type": "code",
   "execution_count": null,
   "metadata": {
    "collapsed": true
   },
   "outputs": [],
   "source": []
  }
 ],
 "metadata": {
  "kernelspec": {
   "display_name": "Python 2",
   "language": "python",
   "name": "python2"
  },
  "language_info": {
   "codemirror_mode": {
    "name": "ipython",
    "version": 2
   },
   "file_extension": ".py",
   "mimetype": "text/x-python",
   "name": "python",
   "nbconvert_exporter": "python",
   "pygments_lexer": "ipython2",
   "version": "2.7.14"
  }
 },
 "nbformat": 4,
 "nbformat_minor": 2
}
