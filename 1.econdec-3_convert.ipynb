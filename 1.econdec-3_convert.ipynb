{
 "cells": [
  {
   "cell_type": "markdown",
   "metadata": {},
   "source": [
    "# EconDec-3 Conversion\n",
    "`1.econdec-3_convert`\n",
    "\n",
    "Concatenate converted Eye-study files and situate them for downstream homogenization with Study-1 and Study-2"
   ]
  },
  {
   "cell_type": "code",
   "execution_count": 1,
   "metadata": {},
   "outputs": [],
   "source": [
    "import os\n",
    "import pandas as pd\n",
    "from datetime import datetime"
   ]
  },
  {
   "cell_type": "code",
   "execution_count": 6,
   "metadata": {},
   "outputs": [],
   "source": [
    "verbose = False"
   ]
  },
  {
   "cell_type": "code",
   "execution_count": 2,
   "metadata": {},
   "outputs": [],
   "source": [
    "source_dir = os.path.join('..','sourcedata','ds3')\n",
    "output_dir = os.path.join('..','derivatives','00.allsub')"
   ]
  },
  {
   "cell_type": "code",
   "execution_count": 3,
   "metadata": {},
   "outputs": [],
   "source": [
    "date = datetime.today().strftime(\"%y%m%d\")"
   ]
  },
  {
   "cell_type": "code",
   "execution_count": 7,
   "metadata": {},
   "outputs": [],
   "source": [
    "Frames = []\n",
    "subs = []\n",
    "for s in os.listdir(source_dir):\n",
    "    if s.startswith('sub-'):\n",
    "        subs.append(s)\n",
    "        sub_dir = os.path.join(source_dir,s)\n",
    "        file_path = os.path.join(sub_dir,'RESULTS_FILE.txt')\n",
    "        if verbose: print('Reading: '+file_path)\n",
    "        file = pd.read_csv(file_path, delimiter='\\t')\n",
    "        Frames.append(file)"
   ]
  },
  {
   "cell_type": "code",
   "execution_count": 8,
   "metadata": {},
   "outputs": [
    {
     "name": "stdout",
     "output_type": "stream",
     "text": [
      "[Collected]: sub-300,sub-301,sub-302,sub-303,sub-304,sub-305,sub-306,sub-308,sub-309,sub-310,sub-311,sub-312,sub-313,sub-314,sub-315,sub-316,sub-317,sub-318,sub-319,sub-320,sub-321,sub-322,sub-323,sub-324,sub-325,sub-326,sub-327,sub-328,sub-329,sub-330,sub-331,sub-332,sub-333,sub-334,sub-335,sub-336,sub-337,sub-338,sub-339,sub-340,sub-341,sub-342,sub-343,sub-344,sub-345,sub-346,sub-347,sub-348,sub-349,sub-350,sub-351,sub-352,sub-353,sub-354,sub-355,sub-356,sub-357,sub-358,sub-359,sub-360,sub-361,sub-362,sub-363,sub-364,sub-365,sub-366,sub-367,sub-368,sub-369,sub-370,sub-371,sub-372,sub-373,sub-374\n"
     ]
    }
   ],
   "source": [
    "print('[Collected]:',','.join(subs))"
   ]
  },
  {
   "cell_type": "code",
   "execution_count": 4,
   "metadata": {},
   "outputs": [
    {
     "name": "stderr",
     "output_type": "stream",
     "text": [
      "c:\\users\\ia406477\\appdata\\local\\programs\\python\\python37-32\\lib\\site-packages\\ipykernel_launcher.py:1: FutureWarning: Sorting because non-concatenation axis is not aligned. A future version\n",
      "of pandas will change to not sort by default.\n",
      "\n",
      "To accept the future behavior, pass 'sort=False'.\n",
      "\n",
      "To retain the current behavior and silence the warning, pass 'sort=True'.\n",
      "\n",
      "  \"\"\"Entry point for launching an IPython kernel.\n"
     ]
    }
   ],
   "source": [
    "output_frame = pd.concat(Frames)\n",
    "output_path = os.path.join(output_dir,'study-eye_task-all_beh.csv')\n",
    "output_frame.to_csv(output_path, index=False)"
   ]
  }
 ],
 "metadata": {
  "kernelspec": {
   "display_name": "Python 3",
   "language": "python",
   "name": "python3"
  },
  "language_info": {
   "codemirror_mode": {
    "name": "ipython",
    "version": 3
   },
   "file_extension": ".py",
   "mimetype": "text/x-python",
   "name": "python",
   "nbconvert_exporter": "python",
   "pygments_lexer": "ipython3",
   "version": "3.7.0"
  }
 },
 "nbformat": 4,
 "nbformat_minor": 2
}
