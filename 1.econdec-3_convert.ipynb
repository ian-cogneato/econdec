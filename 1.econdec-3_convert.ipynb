{
 "cells": [
  {
   "cell_type": "markdown",
   "metadata": {},
   "source": [
    "# EconDec-3 Conversion\n",
    "`1.econdec-3_convert`\n",
    "\n",
    "Concatenate converted Eye-study files and situate them for downstream homogenization with Study-1 and Study-2"
   ]
  },
  {
   "cell_type": "code",
   "execution_count": 1,
   "metadata": {},
   "outputs": [],
   "source": [
    "import os\n",
    "import pandas as pd"
   ]
  },
  {
   "cell_type": "code",
   "execution_count": 2,
   "metadata": {},
   "outputs": [],
   "source": [
    "source_dir = os.path.join('..','sourcedata','ds3')\n",
    "output_dir = os.path.join('..','derivatives','00.allsub')"
   ]
  },
  {
   "cell_type": "code",
   "execution_count": 3,
   "metadata": {},
   "outputs": [
    {
     "name": "stdout",
     "output_type": "stream",
     "text": [
      "Reading: ..\\sourcedata\\ds3\\sub-300\\RESULTS_FILE.txt\n",
      "Reading: ..\\sourcedata\\ds3\\sub-301\\RESULTS_FILE.txt\n",
      "Reading: ..\\sourcedata\\ds3\\sub-302\\RESULTS_FILE.txt\n",
      "Reading: ..\\sourcedata\\ds3\\sub-303\\RESULTS_FILE.txt\n",
      "Reading: ..\\sourcedata\\ds3\\sub-304\\RESULTS_FILE.txt\n",
      "Reading: ..\\sourcedata\\ds3\\sub-305\\RESULTS_FILE.txt\n",
      "Reading: ..\\sourcedata\\ds3\\sub-306\\RESULTS_FILE.txt\n",
      "Reading: ..\\sourcedata\\ds3\\sub-308\\RESULTS_FILE.txt\n",
      "Reading: ..\\sourcedata\\ds3\\sub-309\\RESULTS_FILE.txt\n",
      "Reading: ..\\sourcedata\\ds3\\sub-310\\RESULTS_FILE.txt\n",
      "Reading: ..\\sourcedata\\ds3\\sub-311\\RESULTS_FILE.txt\n",
      "Reading: ..\\sourcedata\\ds3\\sub-312\\RESULTS_FILE.txt\n",
      "Reading: ..\\sourcedata\\ds3\\sub-313\\RESULTS_FILE.txt\n",
      "Reading: ..\\sourcedata\\ds3\\sub-314\\RESULTS_FILE.txt\n",
      "Reading: ..\\sourcedata\\ds3\\sub-315\\RESULTS_FILE.txt\n",
      "Reading: ..\\sourcedata\\ds3\\sub-316\\RESULTS_FILE.txt\n",
      "Reading: ..\\sourcedata\\ds3\\sub-317\\RESULTS_FILE.txt\n",
      "Reading: ..\\sourcedata\\ds3\\sub-318\\RESULTS_FILE.txt\n",
      "Reading: ..\\sourcedata\\ds3\\sub-319\\RESULTS_FILE.txt\n",
      "Reading: ..\\sourcedata\\ds3\\sub-320\\RESULTS_FILE.txt\n",
      "Reading: ..\\sourcedata\\ds3\\sub-321\\RESULTS_FILE.txt\n",
      "Reading: ..\\sourcedata\\ds3\\sub-322\\RESULTS_FILE.txt\n",
      "Reading: ..\\sourcedata\\ds3\\sub-323\\RESULTS_FILE.txt\n",
      "Reading: ..\\sourcedata\\ds3\\sub-324\\RESULTS_FILE.txt\n",
      "Reading: ..\\sourcedata\\ds3\\sub-325\\RESULTS_FILE.txt\n",
      "Reading: ..\\sourcedata\\ds3\\sub-326\\RESULTS_FILE.txt\n",
      "Reading: ..\\sourcedata\\ds3\\sub-327\\RESULTS_FILE.txt\n",
      "Reading: ..\\sourcedata\\ds3\\sub-328\\RESULTS_FILE.txt\n",
      "Reading: ..\\sourcedata\\ds3\\sub-329\\RESULTS_FILE.txt\n",
      "Reading: ..\\sourcedata\\ds3\\sub-330\\RESULTS_FILE.txt\n",
      "Reading: ..\\sourcedata\\ds3\\sub-331\\RESULTS_FILE.txt\n",
      "Reading: ..\\sourcedata\\ds3\\sub-332\\RESULTS_FILE.txt\n",
      "Reading: ..\\sourcedata\\ds3\\sub-333\\RESULTS_FILE.txt\n",
      "Reading: ..\\sourcedata\\ds3\\sub-334\\RESULTS_FILE.txt\n",
      "Reading: ..\\sourcedata\\ds3\\sub-335\\RESULTS_FILE.txt\n",
      "Reading: ..\\sourcedata\\ds3\\sub-336\\RESULTS_FILE.txt\n",
      "Reading: ..\\sourcedata\\ds3\\sub-337\\RESULTS_FILE.txt\n"
     ]
    }
   ],
   "source": [
    "Frames = []\n",
    "for sd in os.listdir(source_dir):\n",
    "    sub_dir = os.path.join(source_dir,sd)\n",
    "    file_path = os.path.join(sub_dir,'RESULTS_FILE.txt')\n",
    "    print('Reading: '+file_path)\n",
    "    file = pd.read_csv(file_path, delimiter='\\t')\n",
    "    Frames.append(file)"
   ]
  },
  {
   "cell_type": "code",
   "execution_count": 4,
   "metadata": {},
   "outputs": [
    {
     "name": "stderr",
     "output_type": "stream",
     "text": [
      "c:\\users\\ia406477\\appdata\\local\\programs\\python\\python37-32\\lib\\site-packages\\ipykernel_launcher.py:1: FutureWarning: Sorting because non-concatenation axis is not aligned. A future version\n",
      "of pandas will change to not sort by default.\n",
      "\n",
      "To accept the future behavior, pass 'sort=False'.\n",
      "\n",
      "To retain the current behavior and silence the warning, pass 'sort=True'.\n",
      "\n",
      "  \"\"\"Entry point for launching an IPython kernel.\n"
     ]
    }
   ],
   "source": [
    "output_frame = pd.concat(Frames)\n",
    "output_path = os.path.join(output_dir,'study-eye_task-all_beh.csv')\n",
    "output_frame.to_csv(output_path, index=False)"
   ]
  }
 ],
 "metadata": {
  "kernelspec": {
   "display_name": "Python 3",
   "language": "python",
   "name": "python3"
  },
  "language_info": {
   "codemirror_mode": {
    "name": "ipython",
    "version": 3
   },
   "file_extension": ".py",
   "mimetype": "text/x-python",
   "name": "python",
   "nbconvert_exporter": "python",
   "pygments_lexer": "ipython3",
   "version": "3.7.0"
  }
 },
 "nbformat": 4,
 "nbformat_minor": 2
}
