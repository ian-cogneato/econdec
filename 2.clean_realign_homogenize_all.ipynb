{
 "cells": [
  {
   "cell_type": "markdown",
   "metadata": {},
   "source": [
    "# Realign & Homogenize ED-1, ED-2, ED-3\n",
    "\n",
    "`2.clean_realign_homogenize_all`\n",
    "\n",
    "Realign and merge converted data from ED-3 into the concatenated data from ED-1 and ED-2.\n",
    "\n",
    "Differentiate, import, and reassociate memory data into the main-task trialwise dataset."
   ]
  },
  {
   "cell_type": "markdown",
   "metadata": {},
   "source": [
    "### Configuration"
   ]
  },
  {
   "cell_type": "code",
   "execution_count": 1,
   "metadata": {},
   "outputs": [],
   "source": [
    "from pathlib import Path\n",
    "\n",
    "import pandas as pd\n",
    "from datetime import datetime\n",
    "\n",
    "from _utils import clean"
   ]
  },
  {
   "cell_type": "code",
   "execution_count": 2,
   "metadata": {},
   "outputs": [],
   "source": [
    "date = datetime.today().strftime('%y%m%d')"
   ]
  },
  {
   "cell_type": "code",
   "execution_count": 3,
   "metadata": {},
   "outputs": [],
   "source": [
    "derivs_dir = Path('..') / 'derivatives'\n",
    "allsub_dir = derivs_dir / '00.allsub'"
   ]
  },
  {
   "cell_type": "markdown",
   "metadata": {},
   "source": [
    "## Pull Concatenated Task-wise data"
   ]
  },
  {
   "cell_type": "markdown",
   "metadata": {},
   "source": [
    "Dataset 1"
   ]
  },
  {
   "cell_type": "code",
   "execution_count": 4,
   "metadata": {},
   "outputs": [],
   "source": [
    "main_fpath_1 = allsub_dir / ('econdec-1_task-main_beh_' + date + '.csv')\n",
    "frac_fpath_1 = allsub_dir / ('econdec-1_task-frac_beh_' + date + '.csv')\n",
    "face_fpath_1 = allsub_dir / ('econdec-1_task-face_beh_' + date + '.csv')"
   ]
  },
  {
   "cell_type": "code",
   "execution_count": 7,
   "metadata": {},
   "outputs": [],
   "source": [
    "main_df_1 = clean.smooth_columns(pd.read_csv(main_fpath_1))\n",
    "frac_df_1 = clean.smooth_columns(pd.read_csv(frac_fpath_1))\n",
    "face_df_1 = clean.smooth_columns(pd.read_csv(face_fpath_1))"
   ]
  },
  {
   "cell_type": "markdown",
   "metadata": {},
   "source": [
    "Dataset 2"
   ]
  },
  {
   "cell_type": "code",
   "execution_count": 8,
   "metadata": {},
   "outputs": [],
   "source": [
    "main_fpath_2 = allsub_dir / ('econdec-2_task-main_beh_' + date + '.csv')\n",
    "frac_fpath_2 = allsub_dir / ('econdec-2_task-frac_beh_' + date + '.csv')\n",
    "face_fpath_2 = allsub_dir / ('econdec-2_task-face_beh_' + date + '.csv')"
   ]
  },
  {
   "cell_type": "code",
   "execution_count": 9,
   "metadata": {},
   "outputs": [],
   "source": [
    "main_df_2 = clean.smooth_columns(pd.read_csv(main_fpath_2))\n",
    "frac_df_2 = clean.smooth_columns(pd.read_csv(frac_fpath_2))\n",
    "face_df_2 = clean.smooth_columns(pd.read_csv(face_fpath_2))"
   ]
  },
  {
   "cell_type": "markdown",
   "metadata": {},
   "source": [
    "Dataset 3"
   ]
  },
  {
   "cell_type": "code",
   "execution_count": 10,
   "metadata": {},
   "outputs": [],
   "source": [
    "main_fpath_3 = allsub_dir / ('econdec-3_task-main_beh_' + date + '.csv')\n",
    "frac_fpath_3 = allsub_dir / ('econdec-3_task-frac_beh_' + date + '.csv')\n",
    "face_fpath_3 = allsub_dir / ('econdec-3_task-face_beh_' + date + '.csv')"
   ]
  },
  {
   "cell_type": "code",
   "execution_count": 11,
   "metadata": {},
   "outputs": [],
   "source": [
    "main_df_3 = clean.smooth_columns(pd.read_csv(main_fpath_3))\n",
    "frac_df_3 = clean.smooth_columns(pd.read_csv(frac_fpath_3))\n",
    "face_df_3 = clean.smooth_columns(pd.read_csv(face_fpath_3))"
   ]
  },
  {
   "cell_type": "markdown",
   "metadata": {},
   "source": [
    "## Note\n",
    "\n",
    "I'm unsure whether the above (repetitive), or one of the options below (unintuitive) is a cleaner way to represent the data corpus at this stage."
   ]
  },
  {
   "cell_type": "markdown",
   "metadata": {},
   "source": [
    "still sorta repetitive:"
   ]
  },
  {
   "cell_type": "raw",
   "metadata": {},
   "source": [
    "data = {\n",
    "    'main':{\n",
    "        1:smooth_columns(pd.read_csv(allsub_dir / ('econdec-1_task-main_beh_' + date + '.csv'))),\n",
    "        2:smooth_columns(pd.read_csv(allsub_dir / ('econdec-2_task-main_beh_' + date + '.csv'))),\n",
    "        3:smooth_columns(pd.read_csv(allsub_dir / ('econdec-3_task-main_beh_' + date + '.csv'))),\n",
    "    },\n",
    "    'frac':{\n",
    "        1:smooth_columns(pd.read_csv(allsub_dir / ('econdec-1_task-frac_beh_' + date + '.csv'))),\n",
    "        2:smooth_columns(pd.read_csv(allsub_dir / ('econdec-2_task-frac_beh_' + date + '.csv'))),\n",
    "        3:smooth_columns(pd.read_csv(allsub_dir / ('econdec-3_task-frac_beh_' + date + '.csv'))),\n",
    "    },\n",
    "    'face':{\n",
    "        1:smooth_columns(pd.read_csv(allsub_dir / ('econdec-1_task-face_beh_' + date + '.csv'))),\n",
    "        2:smooth_columns(pd.read_csv(allsub_dir / ('econdec-2_task-face_beh_' + date + '.csv'))),\n",
    "        3:smooth_columns(pd.read_csv(allsub_dir / ('econdec-3_task-face_beh_' + date + '.csv'))),\n",
    "    }\n",
    "}"
   ]
  },
  {
   "cell_type": "markdown",
   "metadata": {},
   "source": [
    "hard to read (what's even going on here?):"
   ]
  },
  {
   "cell_type": "raw",
   "metadata": {},
   "source": [
    "data = {}\n",
    "for task in ['main', 'frac', 'face']:\n",
    "    data[task] = {}\n",
    "    for ds in [1, 2, 3]:\n",
    "        data[task][ds] = smooth_columns(pd.read_csv(\n",
    "            allsub_dir / ('econdec-' + str(ds) + '_task-' + task + '_beh_' + date + '.csv')\n",
    "        ))"
   ]
  },
  {
   "cell_type": "markdown",
   "metadata": {},
   "source": [
    "## Exclude bad subjects"
   ]
  },
  {
   "cell_type": "code",
   "execution_count": 12,
   "metadata": {},
   "outputs": [],
   "source": [
    "from config import exclusions"
   ]
  },
  {
   "cell_type": "markdown",
   "metadata": {},
   "source": [
    "Dataset 1"
   ]
  },
  {
   "cell_type": "code",
   "execution_count": 13,
   "metadata": {},
   "outputs": [],
   "source": [
    "main_df_1 = main_df_1[~main_df_1['subjnum'].isin(exclusions)]"
   ]
  },
  {
   "cell_type": "code",
   "execution_count": 14,
   "metadata": {},
   "outputs": [
    {
     "data": {
      "text/plain": [
       "88"
      ]
     },
     "execution_count": 14,
     "metadata": {},
     "output_type": "execute_result"
    }
   ],
   "source": [
    "len(main_df_1.subjnum.unique())"
   ]
  },
  {
   "cell_type": "markdown",
   "metadata": {},
   "source": [
    "Dataset 2"
   ]
  },
  {
   "cell_type": "code",
   "execution_count": 15,
   "metadata": {},
   "outputs": [],
   "source": [
    "main_df_2 = main_df_2[~main_df_2['subjnum'].isin(exclusions)]"
   ]
  },
  {
   "cell_type": "code",
   "execution_count": 16,
   "metadata": {},
   "outputs": [
    {
     "data": {
      "text/plain": [
       "101"
      ]
     },
     "execution_count": 16,
     "metadata": {},
     "output_type": "execute_result"
    }
   ],
   "source": [
    "len(main_df_2.subjnum.unique())"
   ]
  },
  {
   "cell_type": "markdown",
   "metadata": {},
   "source": [
    "#### Study-eye"
   ]
  },
  {
   "cell_type": "code",
   "execution_count": 17,
   "metadata": {},
   "outputs": [],
   "source": [
    "main_df_3 = main_df_3[~main_df_3['originalparticipant'].isin(exclusions)]"
   ]
  },
  {
   "cell_type": "code",
   "execution_count": 19,
   "metadata": {},
   "outputs": [
    {
     "data": {
      "text/plain": [
       "72"
      ]
     },
     "execution_count": 19,
     "metadata": {},
     "output_type": "execute_result"
    }
   ],
   "source": [
    "len(main_df_3.originalparticipant.unique())"
   ]
  },
  {
   "cell_type": "markdown",
   "metadata": {},
   "source": [
    "#### Output"
   ]
  },
  {
   "cell_type": "code",
   "execution_count": 20,
   "metadata": {},
   "outputs": [],
   "source": [
    "exclusions_dir = derivs_dir / '01.exclusions'\n",
    "if not Path.exists(exclusions_dir): Path.mkdir(exclusions_dir)"
   ]
  },
  {
   "cell_type": "code",
   "execution_count": 21,
   "metadata": {},
   "outputs": [],
   "source": [
    "main_df_1.to_csv(exclusions_dir / ('econdec-1_task-main_beh_' + date + '.csv'))\n",
    "main_df_2.to_csv(exclusions_dir / ('econdec-2_task-main_beh_' + date + '.csv'))\n",
    "main_df_3.to_csv(exclusions_dir / ('exondec-3_task-main_beh_' + date + '.csv'))"
   ]
  },
  {
   "cell_type": "markdown",
   "metadata": {},
   "source": [
    "# Main task"
   ]
  },
  {
   "cell_type": "markdown",
   "metadata": {},
   "source": [
    "## ED-1"
   ]
  },
  {
   "cell_type": "code",
   "execution_count": 22,
   "metadata": {
    "scrolled": true
   },
   "outputs": [
    {
     "data": {
      "text/html": [
       "<div>\n",
       "<style scoped>\n",
       "    .dataframe tbody tr th:only-of-type {\n",
       "        vertical-align: middle;\n",
       "    }\n",
       "\n",
       "    .dataframe tbody tr th {\n",
       "        vertical-align: top;\n",
       "    }\n",
       "\n",
       "    .dataframe thead th {\n",
       "        text-align: right;\n",
       "    }\n",
       "</style>\n",
       "<table border=\"1\" class=\"dataframe\">\n",
       "  <thead>\n",
       "    <tr style=\"text-align: right;\">\n",
       "      <th></th>\n",
       "      <th>subjnum</th>\n",
       "      <th>agegroup</th>\n",
       "      <th>experimentername</th>\n",
       "      <th>runnum</th>\n",
       "      <th>date</th>\n",
       "      <th>time</th>\n",
       "      <th>trialnum</th>\n",
       "      <th>trialnumbydomdist</th>\n",
       "      <th>domain</th>\n",
       "      <th>magnitude</th>\n",
       "      <th>...</th>\n",
       "      <th>probrt</th>\n",
       "      <th>confidence</th>\n",
       "      <th>confidencest</th>\n",
       "      <th>confidencert</th>\n",
       "      <th>stocknumber</th>\n",
       "      <th>bondnumber</th>\n",
       "      <th>genderjudgment</th>\n",
       "      <th>totalpayout</th>\n",
       "      <th>trueprobgood</th>\n",
       "      <th>estwithinrange?</th>\n",
       "    </tr>\n",
       "  </thead>\n",
       "  <tbody>\n",
       "    <tr>\n",
       "      <th>0</th>\n",
       "      <td>100</td>\n",
       "      <td>1</td>\n",
       "      <td>kf</td>\n",
       "      <td>1</td>\n",
       "      <td>10_12</td>\n",
       "      <td>11:31:01.963000</td>\n",
       "      <td>1</td>\n",
       "      <td>1</td>\n",
       "      <td>LOSS</td>\n",
       "      <td>low</td>\n",
       "      <td>...</td>\n",
       "      <td>6.077591</td>\n",
       "      <td>8</td>\n",
       "      <td>2.141471e+06</td>\n",
       "      <td>3.022637</td>\n",
       "      <td>16</td>\n",
       "      <td>9</td>\n",
       "      <td>1</td>\n",
       "      <td>-6</td>\n",
       "      <td>0.300000</td>\n",
       "      <td>0</td>\n",
       "    </tr>\n",
       "    <tr>\n",
       "      <th>1</th>\n",
       "      <td>100</td>\n",
       "      <td>1</td>\n",
       "      <td>kf</td>\n",
       "      <td>1</td>\n",
       "      <td>10_12</td>\n",
       "      <td>11:31:01.963000</td>\n",
       "      <td>2</td>\n",
       "      <td>2</td>\n",
       "      <td>LOSS</td>\n",
       "      <td>low</td>\n",
       "      <td>...</td>\n",
       "      <td>7.294263</td>\n",
       "      <td>8</td>\n",
       "      <td>2.141525e+06</td>\n",
       "      <td>3.695852</td>\n",
       "      <td>16</td>\n",
       "      <td>9</td>\n",
       "      <td>1</td>\n",
       "      <td>-12</td>\n",
       "      <td>0.155172</td>\n",
       "      <td>0</td>\n",
       "    </tr>\n",
       "    <tr>\n",
       "      <th>2</th>\n",
       "      <td>100</td>\n",
       "      <td>1</td>\n",
       "      <td>kf</td>\n",
       "      <td>1</td>\n",
       "      <td>10_12</td>\n",
       "      <td>11:31:01.963000</td>\n",
       "      <td>3</td>\n",
       "      <td>3</td>\n",
       "      <td>LOSS</td>\n",
       "      <td>low</td>\n",
       "      <td>...</td>\n",
       "      <td>7.635041</td>\n",
       "      <td>8</td>\n",
       "      <td>2.141546e+06</td>\n",
       "      <td>3.121775</td>\n",
       "      <td>16</td>\n",
       "      <td>9</td>\n",
       "      <td>1</td>\n",
       "      <td>-18</td>\n",
       "      <td>0.300000</td>\n",
       "      <td>1</td>\n",
       "    </tr>\n",
       "    <tr>\n",
       "      <th>3</th>\n",
       "      <td>100</td>\n",
       "      <td>1</td>\n",
       "      <td>kf</td>\n",
       "      <td>1</td>\n",
       "      <td>10_12</td>\n",
       "      <td>11:31:01.963000</td>\n",
       "      <td>4</td>\n",
       "      <td>4</td>\n",
       "      <td>LOSS</td>\n",
       "      <td>low</td>\n",
       "      <td>...</td>\n",
       "      <td>10.879553</td>\n",
       "      <td>7</td>\n",
       "      <td>2.141574e+06</td>\n",
       "      <td>3.406241</td>\n",
       "      <td>16</td>\n",
       "      <td>9</td>\n",
       "      <td>1</td>\n",
       "      <td>-24</td>\n",
       "      <td>0.500000</td>\n",
       "      <td>0</td>\n",
       "    </tr>\n",
       "    <tr>\n",
       "      <th>4</th>\n",
       "      <td>100</td>\n",
       "      <td>1</td>\n",
       "      <td>kf</td>\n",
       "      <td>1</td>\n",
       "      <td>10_12</td>\n",
       "      <td>11:31:01.963000</td>\n",
       "      <td>5</td>\n",
       "      <td>5</td>\n",
       "      <td>LOSS</td>\n",
       "      <td>low</td>\n",
       "      <td>...</td>\n",
       "      <td>16.525458</td>\n",
       "      <td>8</td>\n",
       "      <td>2.141602e+06</td>\n",
       "      <td>4.553061</td>\n",
       "      <td>16</td>\n",
       "      <td>9</td>\n",
       "      <td>1</td>\n",
       "      <td>-26</td>\n",
       "      <td>0.700000</td>\n",
       "      <td>0</td>\n",
       "    </tr>\n",
       "  </tbody>\n",
       "</table>\n",
       "<p>5 rows × 34 columns</p>\n",
       "</div>"
      ],
      "text/plain": [
       "   subjnum  agegroup experimentername  runnum   date             time  \\\n",
       "0      100         1               kf       1  10_12  11:31:01.963000   \n",
       "1      100         1               kf       1  10_12  11:31:01.963000   \n",
       "2      100         1               kf       1  10_12  11:31:01.963000   \n",
       "3      100         1               kf       1  10_12  11:31:01.963000   \n",
       "4      100         1               kf       1  10_12  11:31:01.963000   \n",
       "\n",
       "   trialnum  trialnumbydomdist domain magnitude       ...           probrt  \\\n",
       "0         1                  1   LOSS       low       ...         6.077591   \n",
       "1         2                  2   LOSS       low       ...         7.294263   \n",
       "2         3                  3   LOSS       low       ...         7.635041   \n",
       "3         4                  4   LOSS       low       ...        10.879553   \n",
       "4         5                  5   LOSS       low       ...        16.525458   \n",
       "\n",
       "  confidence  confidencest confidencert stocknumber bondnumber  \\\n",
       "0          8  2.141471e+06     3.022637          16          9   \n",
       "1          8  2.141525e+06     3.695852          16          9   \n",
       "2          8  2.141546e+06     3.121775          16          9   \n",
       "3          7  2.141574e+06     3.406241          16          9   \n",
       "4          8  2.141602e+06     4.553061          16          9   \n",
       "\n",
       "   genderjudgment  totalpayout  trueprobgood estwithinrange?  \n",
       "0               1           -6      0.300000               0  \n",
       "1               1          -12      0.155172               0  \n",
       "2               1          -18      0.300000               1  \n",
       "3               1          -24      0.500000               0  \n",
       "4               1          -26      0.700000               0  \n",
       "\n",
       "[5 rows x 34 columns]"
      ]
     },
     "execution_count": 22,
     "metadata": {},
     "output_type": "execute_result"
    }
   ],
   "source": [
    "main_df_1.head()"
   ]
  },
  {
   "cell_type": "markdown",
   "metadata": {},
   "source": [
    " ## ED-2"
   ]
  },
  {
   "cell_type": "code",
   "execution_count": 23,
   "metadata": {},
   "outputs": [
    {
     "data": {
      "text/html": [
       "<div>\n",
       "<style scoped>\n",
       "    .dataframe tbody tr th:only-of-type {\n",
       "        vertical-align: middle;\n",
       "    }\n",
       "\n",
       "    .dataframe tbody tr th {\n",
       "        vertical-align: top;\n",
       "    }\n",
       "\n",
       "    .dataframe thead th {\n",
       "        text-align: right;\n",
       "    }\n",
       "</style>\n",
       "<table border=\"1\" class=\"dataframe\">\n",
       "  <thead>\n",
       "    <tr style=\"text-align: right;\">\n",
       "      <th></th>\n",
       "      <th>subjnum</th>\n",
       "      <th>agegroup</th>\n",
       "      <th>experimentername</th>\n",
       "      <th>runnum</th>\n",
       "      <th>date</th>\n",
       "      <th>time</th>\n",
       "      <th>trialnum</th>\n",
       "      <th>trialnumbydomdist</th>\n",
       "      <th>domain</th>\n",
       "      <th>magnitude</th>\n",
       "      <th>...</th>\n",
       "      <th>probrt</th>\n",
       "      <th>confidence</th>\n",
       "      <th>confidencest</th>\n",
       "      <th>confidencert</th>\n",
       "      <th>stocknumber</th>\n",
       "      <th>bondnumber</th>\n",
       "      <th>genderjudgment</th>\n",
       "      <th>totalpayout</th>\n",
       "      <th>trueprobgood</th>\n",
       "      <th>estwithinrange?</th>\n",
       "    </tr>\n",
       "  </thead>\n",
       "  <tbody>\n",
       "    <tr>\n",
       "      <th>0</th>\n",
       "      <td>2001</td>\n",
       "      <td>1</td>\n",
       "      <td>ed</td>\n",
       "      <td>1</td>\n",
       "      <td>9_7</td>\n",
       "      <td>14:56:22.840000</td>\n",
       "      <td>1</td>\n",
       "      <td>1</td>\n",
       "      <td>GAIN</td>\n",
       "      <td>low</td>\n",
       "      <td>...</td>\n",
       "      <td>4.165232</td>\n",
       "      <td>9.0</td>\n",
       "      <td>22151.347369</td>\n",
       "      <td>2.155163</td>\n",
       "      <td>18</td>\n",
       "      <td>1</td>\n",
       "      <td>0</td>\n",
       "      <td>6</td>\n",
       "      <td>0.700000</td>\n",
       "      <td>0</td>\n",
       "    </tr>\n",
       "    <tr>\n",
       "      <th>1</th>\n",
       "      <td>2001</td>\n",
       "      <td>1</td>\n",
       "      <td>ed</td>\n",
       "      <td>1</td>\n",
       "      <td>9_7</td>\n",
       "      <td>14:56:22.840000</td>\n",
       "      <td>2</td>\n",
       "      <td>2</td>\n",
       "      <td>GAIN</td>\n",
       "      <td>low</td>\n",
       "      <td>...</td>\n",
       "      <td>2.122263</td>\n",
       "      <td>9.0</td>\n",
       "      <td>22168.689525</td>\n",
       "      <td>0.900590</td>\n",
       "      <td>18</td>\n",
       "      <td>1</td>\n",
       "      <td>1</td>\n",
       "      <td>12</td>\n",
       "      <td>0.844828</td>\n",
       "      <td>0</td>\n",
       "    </tr>\n",
       "    <tr>\n",
       "      <th>2</th>\n",
       "      <td>2001</td>\n",
       "      <td>1</td>\n",
       "      <td>ed</td>\n",
       "      <td>1</td>\n",
       "      <td>9_7</td>\n",
       "      <td>14:56:22.840000</td>\n",
       "      <td>3</td>\n",
       "      <td>3</td>\n",
       "      <td>GAIN</td>\n",
       "      <td>low</td>\n",
       "      <td>...</td>\n",
       "      <td>3.157299</td>\n",
       "      <td>8.0</td>\n",
       "      <td>22185.804354</td>\n",
       "      <td>1.129109</td>\n",
       "      <td>18</td>\n",
       "      <td>1</td>\n",
       "      <td>1</td>\n",
       "      <td>14</td>\n",
       "      <td>0.927027</td>\n",
       "      <td>0</td>\n",
       "    </tr>\n",
       "    <tr>\n",
       "      <th>3</th>\n",
       "      <td>2001</td>\n",
       "      <td>1</td>\n",
       "      <td>ed</td>\n",
       "      <td>1</td>\n",
       "      <td>9_7</td>\n",
       "      <td>14:56:22.840000</td>\n",
       "      <td>4</td>\n",
       "      <td>4</td>\n",
       "      <td>GAIN</td>\n",
       "      <td>low</td>\n",
       "      <td>...</td>\n",
       "      <td>3.599311</td>\n",
       "      <td>8.0</td>\n",
       "      <td>22206.712546</td>\n",
       "      <td>1.060679</td>\n",
       "      <td>18</td>\n",
       "      <td>1</td>\n",
       "      <td>1</td>\n",
       "      <td>16</td>\n",
       "      <td>0.967365</td>\n",
       "      <td>0</td>\n",
       "    </tr>\n",
       "    <tr>\n",
       "      <th>4</th>\n",
       "      <td>2001</td>\n",
       "      <td>1</td>\n",
       "      <td>ed</td>\n",
       "      <td>1</td>\n",
       "      <td>9_7</td>\n",
       "      <td>14:56:22.840000</td>\n",
       "      <td>5</td>\n",
       "      <td>5</td>\n",
       "      <td>GAIN</td>\n",
       "      <td>low</td>\n",
       "      <td>...</td>\n",
       "      <td>2.064677</td>\n",
       "      <td>8.0</td>\n",
       "      <td>22223.815899</td>\n",
       "      <td>1.148896</td>\n",
       "      <td>18</td>\n",
       "      <td>1</td>\n",
       "      <td>1</td>\n",
       "      <td>22</td>\n",
       "      <td>0.985748</td>\n",
       "      <td>0</td>\n",
       "    </tr>\n",
       "  </tbody>\n",
       "</table>\n",
       "<p>5 rows × 34 columns</p>\n",
       "</div>"
      ],
      "text/plain": [
       "   subjnum  agegroup experimentername  runnum date             time  trialnum  \\\n",
       "0     2001         1               ed       1  9_7  14:56:22.840000         1   \n",
       "1     2001         1               ed       1  9_7  14:56:22.840000         2   \n",
       "2     2001         1               ed       1  9_7  14:56:22.840000         3   \n",
       "3     2001         1               ed       1  9_7  14:56:22.840000         4   \n",
       "4     2001         1               ed       1  9_7  14:56:22.840000         5   \n",
       "\n",
       "   trialnumbydomdist domain magnitude       ...          probrt confidence  \\\n",
       "0                  1   GAIN       low       ...        4.165232        9.0   \n",
       "1                  2   GAIN       low       ...        2.122263        9.0   \n",
       "2                  3   GAIN       low       ...        3.157299        8.0   \n",
       "3                  4   GAIN       low       ...        3.599311        8.0   \n",
       "4                  5   GAIN       low       ...        2.064677        8.0   \n",
       "\n",
       "   confidencest confidencert stocknumber bondnumber  genderjudgment  \\\n",
       "0  22151.347369     2.155163          18          1               0   \n",
       "1  22168.689525     0.900590          18          1               1   \n",
       "2  22185.804354     1.129109          18          1               1   \n",
       "3  22206.712546     1.060679          18          1               1   \n",
       "4  22223.815899     1.148896          18          1               1   \n",
       "\n",
       "   totalpayout  trueprobgood estwithinrange?  \n",
       "0            6      0.700000               0  \n",
       "1           12      0.844828               0  \n",
       "2           14      0.927027               0  \n",
       "3           16      0.967365               0  \n",
       "4           22      0.985748               0  \n",
       "\n",
       "[5 rows x 34 columns]"
      ]
     },
     "execution_count": 23,
     "metadata": {},
     "output_type": "execute_result"
    }
   ],
   "source": [
    "main_df_2.head()"
   ]
  },
  {
   "cell_type": "markdown",
   "metadata": {},
   "source": [
    "## ED-3"
   ]
  },
  {
   "cell_type": "code",
   "execution_count": 26,
   "metadata": {
    "scrolled": true
   },
   "outputs": [],
   "source": [
    "main_df_3 = clean.eye_cleanup(main_df_3)"
   ]
  },
  {
   "cell_type": "markdown",
   "metadata": {},
   "source": [
    "Remove practice data "
   ]
  },
  {
   "cell_type": "code",
   "execution_count": 27,
   "metadata": {},
   "outputs": [
    {
     "name": "stdout",
     "output_type": "stream",
     "text": [
      "\n",
      "    Removes rows from a DataFrame based on predetermined indicators of extraneous data, or an indicator that the row represents unwanted practice data.\n",
      "    \n"
     ]
    }
   ],
   "source": [
    "print(clean.eye_cleanup.__doc__)"
   ]
  },
  {
   "cell_type": "code",
   "execution_count": 28,
   "metadata": {},
   "outputs": [
    {
     "data": {
      "text/html": [
       "<div>\n",
       "<style scoped>\n",
       "    .dataframe tbody tr th:only-of-type {\n",
       "        vertical-align: middle;\n",
       "    }\n",
       "\n",
       "    .dataframe tbody tr th {\n",
       "        vertical-align: top;\n",
       "    }\n",
       "\n",
       "    .dataframe thead th {\n",
       "        text-align: right;\n",
       "    }\n",
       "</style>\n",
       "<table border=\"1\" class=\"dataframe\">\n",
       "  <thead>\n",
       "    <tr style=\"text-align: right;\">\n",
       "      <th></th>\n",
       "      <th>agegroup</th>\n",
       "      <th>accuracy</th>\n",
       "      <th>bankaccount</th>\n",
       "      <th>bypassed</th>\n",
       "      <th>confidencevalue</th>\n",
       "      <th>date</th>\n",
       "      <th>emotionresponse</th>\n",
       "      <th>estimationvalue</th>\n",
       "      <th>experimenter</th>\n",
       "      <th>facert</th>\n",
       "      <th>...</th>\n",
       "      <th>originaltrialnumber</th>\n",
       "      <th>originaltrialorder</th>\n",
       "      <th>practice</th>\n",
       "      <th>stockfractallocation</th>\n",
       "      <th>stockfractallocationtype</th>\n",
       "      <th>stockimagename</th>\n",
       "      <th>stocktext</th>\n",
       "      <th>stocktextlocation</th>\n",
       "      <th>stockvalue</th>\n",
       "      <th>trueprobability</th>\n",
       "    </tr>\n",
       "  </thead>\n",
       "  <tbody>\n",
       "    <tr>\n",
       "      <th>9</th>\n",
       "      <td>1</td>\n",
       "      <td>1</td>\n",
       "      <td>-6.0</td>\n",
       "      <td>0</td>\n",
       "      <td>8.0</td>\n",
       "      <td>11041300</td>\n",
       "      <td>58</td>\n",
       "      <td>70</td>\n",
       "      <td>mm</td>\n",
       "      <td>2811</td>\n",
       "      <td>...</td>\n",
       "      <td>1.0</td>\n",
       "      <td>1</td>\n",
       "      <td>3</td>\n",
       "      <td>(565, 540)</td>\n",
       "      <td>L</td>\n",
       "      <td>fractal12b.jpg</td>\n",
       "      <td>-$2   or  -$10</td>\n",
       "      <td>(640, 510)</td>\n",
       "      <td>-2</td>\n",
       "      <td>0.7</td>\n",
       "    </tr>\n",
       "    <tr>\n",
       "      <th>10</th>\n",
       "      <td>1</td>\n",
       "      <td>1</td>\n",
       "      <td>-12.0</td>\n",
       "      <td>0</td>\n",
       "      <td>8.0</td>\n",
       "      <td>11041300</td>\n",
       "      <td>58</td>\n",
       "      <td>50</td>\n",
       "      <td>mm</td>\n",
       "      <td>3289</td>\n",
       "      <td>...</td>\n",
       "      <td>1.0</td>\n",
       "      <td>2</td>\n",
       "      <td>3</td>\n",
       "      <td>(1355, 540)</td>\n",
       "      <td>R</td>\n",
       "      <td>fractal12b.jpg</td>\n",
       "      <td>-$2   or  -$10</td>\n",
       "      <td>(1280, 510)</td>\n",
       "      <td>-10</td>\n",
       "      <td>0.5</td>\n",
       "    </tr>\n",
       "    <tr>\n",
       "      <th>11</th>\n",
       "      <td>1</td>\n",
       "      <td>1</td>\n",
       "      <td>-18.0</td>\n",
       "      <td>0</td>\n",
       "      <td>7.0</td>\n",
       "      <td>11041300</td>\n",
       "      <td>58</td>\n",
       "      <td>30</td>\n",
       "      <td>mm</td>\n",
       "      <td>3242</td>\n",
       "      <td>...</td>\n",
       "      <td>1.0</td>\n",
       "      <td>3</td>\n",
       "      <td>3</td>\n",
       "      <td>(1355, 540)</td>\n",
       "      <td>R</td>\n",
       "      <td>fractal12b.jpg</td>\n",
       "      <td>-$2   or  -$10</td>\n",
       "      <td>(1280, 510)</td>\n",
       "      <td>-10</td>\n",
       "      <td>0.3</td>\n",
       "    </tr>\n",
       "    <tr>\n",
       "      <th>12</th>\n",
       "      <td>1</td>\n",
       "      <td>1</td>\n",
       "      <td>-20.0</td>\n",
       "      <td>0</td>\n",
       "      <td>6.0</td>\n",
       "      <td>11041300</td>\n",
       "      <td>58</td>\n",
       "      <td>50</td>\n",
       "      <td>mm</td>\n",
       "      <td>3904</td>\n",
       "      <td>...</td>\n",
       "      <td>1.0</td>\n",
       "      <td>4</td>\n",
       "      <td>3</td>\n",
       "      <td>(1355, 540)</td>\n",
       "      <td>R</td>\n",
       "      <td>fractal12b.jpg</td>\n",
       "      <td>-$2   or  -$10</td>\n",
       "      <td>(1280, 510)</td>\n",
       "      <td>-2</td>\n",
       "      <td>0.5</td>\n",
       "    </tr>\n",
       "    <tr>\n",
       "      <th>13</th>\n",
       "      <td>1</td>\n",
       "      <td>1</td>\n",
       "      <td>-30.0</td>\n",
       "      <td>0</td>\n",
       "      <td>7.0</td>\n",
       "      <td>11041300</td>\n",
       "      <td>58</td>\n",
       "      <td>30</td>\n",
       "      <td>mm</td>\n",
       "      <td>1997</td>\n",
       "      <td>...</td>\n",
       "      <td>1.0</td>\n",
       "      <td>5</td>\n",
       "      <td>3</td>\n",
       "      <td>(1355, 540)</td>\n",
       "      <td>R</td>\n",
       "      <td>fractal12b.jpg</td>\n",
       "      <td>-$2   or  -$10</td>\n",
       "      <td>(1280, 510)</td>\n",
       "      <td>-10</td>\n",
       "      <td>0.3</td>\n",
       "    </tr>\n",
       "  </tbody>\n",
       "</table>\n",
       "<p>5 rows × 52 columns</p>\n",
       "</div>"
      ],
      "text/plain": [
       "    agegroup  accuracy  bankaccount  bypassed  confidencevalue      date  \\\n",
       "9          1         1         -6.0         0              8.0  11041300   \n",
       "10         1         1        -12.0         0              8.0  11041300   \n",
       "11         1         1        -18.0         0              7.0  11041300   \n",
       "12         1         1        -20.0         0              6.0  11041300   \n",
       "13         1         1        -30.0         0              7.0  11041300   \n",
       "\n",
       "    emotionresponse  estimationvalue experimenter  facert       ...        \\\n",
       "9                58               70           mm    2811       ...         \n",
       "10               58               50           mm    3289       ...         \n",
       "11               58               30           mm    3242       ...         \n",
       "12               58               50           mm    3904       ...         \n",
       "13               58               30           mm    1997       ...         \n",
       "\n",
       "   originaltrialnumber  originaltrialorder practice  stockfractallocation  \\\n",
       "9                  1.0                   1        3            (565, 540)   \n",
       "10                 1.0                   2        3           (1355, 540)   \n",
       "11                 1.0                   3        3           (1355, 540)   \n",
       "12                 1.0                   4        3           (1355, 540)   \n",
       "13                 1.0                   5        3           (1355, 540)   \n",
       "\n",
       "    stockfractallocationtype  stockimagename       stocktext  \\\n",
       "9                          L  fractal12b.jpg  -$2   or  -$10   \n",
       "10                         R  fractal12b.jpg  -$2   or  -$10   \n",
       "11                         R  fractal12b.jpg  -$2   or  -$10   \n",
       "12                         R  fractal12b.jpg  -$2   or  -$10   \n",
       "13                         R  fractal12b.jpg  -$2   or  -$10   \n",
       "\n",
       "   stocktextlocation stockvalue trueprobability  \n",
       "9         (640, 510)         -2             0.7  \n",
       "10       (1280, 510)        -10             0.5  \n",
       "11       (1280, 510)        -10             0.3  \n",
       "12       (1280, 510)         -2             0.5  \n",
       "13       (1280, 510)        -10             0.3  \n",
       "\n",
       "[5 rows x 52 columns]"
      ]
     },
     "execution_count": 28,
     "metadata": {},
     "output_type": "execute_result"
    }
   ],
   "source": [
    "main_df_3.head()"
   ]
  },
  {
   "cell_type": "markdown",
   "metadata": {},
   "source": [
    "## Main task columns"
   ]
  },
  {
   "cell_type": "code",
   "execution_count": 30,
   "metadata": {},
   "outputs": [],
   "source": [
    "new_main_columns = {'face':'facepic','runnum':'block','trialnum':'trial',\n",
    "               'fracrt':'choicert','fracst':'choicest',\n",
    "               'facert':'outcomert','facest':'outcomest',\n",
    "               'probrt':'esttaskrt','probst':'esttaskst',\n",
    "               'optionchosen':'stockchosen',\n",
    "               'probgood':'estimation','trueprobgood':'trueprob'}"
   ]
  },
  {
   "cell_type": "markdown",
   "metadata": {},
   "source": [
    "### ED-1"
   ]
  },
  {
   "cell_type": "code",
   "execution_count": 31,
   "metadata": {
    "scrolled": true
   },
   "outputs": [],
   "source": [
    "main_df_1 = main_df_1.rename(columns=new_main_columns)"
   ]
  },
  {
   "cell_type": "code",
   "execution_count": 32,
   "metadata": {
    "scrolled": true
   },
   "outputs": [],
   "source": [
    "main_df_1 = main_df_1.drop(['agegroup','experimentername','date','time','trialnumbydomdist',\n",
    "                                  'choicest','outcomest','esttaskst',\n",
    "                                  'confidencest','stocknumber','bondnumber','genderjudgment',\n",
    "                                  'totalpayout','fractalchosen','estwithinrange?','confidencert'], axis=1)"
   ]
  },
  {
   "cell_type": "code",
   "execution_count": 34,
   "metadata": {},
   "outputs": [
    {
     "data": {
      "text/plain": [
       "Index(['subjnum', 'block', 'trial', 'domain', 'magnitude', 'cueonleft',\n",
       "       'cueonright', 'stockpic', 'bondpic', 'stockchosen', 'choicert',\n",
       "       'stockvalue', 'facepic', 'outcomert', 'estimation', 'esttaskrt',\n",
       "       'confidence', 'trueprob', 'study'],\n",
       "      dtype='object')"
      ]
     },
     "execution_count": 34,
     "metadata": {},
     "output_type": "execute_result"
    }
   ],
   "source": [
    "main_df_1['study'] = main_df_1.apply(clean.label_study, axis=1)\n",
    "main_df_1.columns"
   ]
  },
  {
   "cell_type": "markdown",
   "metadata": {},
   "source": [
    "### ED-2"
   ]
  },
  {
   "cell_type": "code",
   "execution_count": 35,
   "metadata": {},
   "outputs": [],
   "source": [
    "main_df_2 = main_df_2.rename(columns=new_main_columns)"
   ]
  },
  {
   "cell_type": "code",
   "execution_count": 38,
   "metadata": {},
   "outputs": [],
   "source": [
    "main_df_2 = main_df_2.drop([\n",
    "    'agegroup','experimentername','date','time','trialnumbydomdist',\n",
    "    'choicest','outcomest','esttaskst',\n",
    "    'confidencest','stocknumber','bondnumber','genderjudgment',\n",
    "    'totalpayout','fractalchosen','estwithinrange?','confidencert'\n",
    "], axis=1)"
   ]
  },
  {
   "cell_type": "code",
   "execution_count": 40,
   "metadata": {},
   "outputs": [
    {
     "data": {
      "text/plain": [
       "Index(['subjnum', 'block', 'trial', 'domain', 'magnitude', 'cueonleft',\n",
       "       'cueonright', 'stockpic', 'bondpic', 'stockchosen', 'choicert',\n",
       "       'stockvalue', 'facepic', 'outcomert', 'estimation', 'esttaskrt',\n",
       "       'confidence', 'trueprob', 'study'],\n",
       "      dtype='object')"
      ]
     },
     "execution_count": 40,
     "metadata": {},
     "output_type": "execute_result"
    }
   ],
   "source": [
    "main_df_2['study'] = main_df_2.apply(clean.label_study, axis=1)\n",
    "main_df_2.columns"
   ]
  },
  {
   "cell_type": "markdown",
   "metadata": {},
   "source": [
    "### ED-3"
   ]
  },
  {
   "cell_type": "code",
   "execution_count": 42,
   "metadata": {},
   "outputs": [
    {
     "data": {
      "text/plain": [
       "Index(['agegroup', 'accuracy', 'bankaccount', 'bypassed', 'confidencevalue',\n",
       "       'date', 'emotionresponse', 'estimationvalue', 'experimenter', 'facert',\n",
       "       'facekeypressed', 'paymentaccuracy', 'phase', 'rt', 'selection',\n",
       "       'showinstruction', 'bondfractallocation', 'bondfractallocationtype',\n",
       "       'bondimagename', 'bondtext', 'bondtextlocation', 'bondvalue',\n",
       "       'bubblefile', 'correctfractal', 'correctfractallocation', 'domain',\n",
       "       'facedomain', 'facefile', 'faceimage', 'facestockvalue', 'fracdomain',\n",
       "       'fracmagnitude', 'gender', 'incorectfractal',\n",
       "       'incorrectfractallocation', 'magnitude', 'oldfaceequalstrue',\n",
       "       'originalblock', 'originalparticipant', 'originalparticipantnumber',\n",
       "       'originalsubjectnumber', 'originaltrailnumber', 'originaltrialnumber',\n",
       "       'originaltrialorder', 'practice', 'stockfractallocation',\n",
       "       'stockfractallocationtype', 'stockimagename', 'stocktext',\n",
       "       'stocktextlocation', 'stockvalue', 'trueprobability'],\n",
       "      dtype='object')"
      ]
     },
     "execution_count": 42,
     "metadata": {},
     "output_type": "execute_result"
    }
   ],
   "source": [
    "main_df_3.columns"
   ]
  },
  {
   "cell_type": "code",
   "execution_count": 43,
   "metadata": {
    "scrolled": true
   },
   "outputs": [],
   "source": [
    "new_eye_columns = {\n",
    "    'originalparticipant':'subjnum',\n",
    "    'experimenter':'experimentername',\n",
    "    'stockimagename':'stockpic',\n",
    "    'bondimagename':'bondpic',\n",
    "    'originalblock':'block',\n",
    "    'originaltrialorder':'trial',\n",
    "    #'stockfractallocationtype':'cueonleft',\n",
    "    #'bondfractallocationtype':'cueonright',\n",
    "    'faceimage':'facepic',\n",
    "    #'selection':'stockchosen',\n",
    "    'rt':'choicert',\n",
    "    'estimationvalue':'estimation',\n",
    "    'trueprobability':'trueprob',\n",
    "    'accuracy':'genderjudgment',\n",
    "    'confidencevalue':'confidence',\n",
    "    'facert':'outcomert'\n",
    "    }"
   ]
  },
  {
   "cell_type": "code",
   "execution_count": 44,
   "metadata": {},
   "outputs": [],
   "source": [
    "main_df_3 = main_df_3.rename(columns=new_eye_columns)"
   ]
  },
  {
   "cell_type": "code",
   "execution_count": 45,
   "metadata": {},
   "outputs": [],
   "source": [
    "main_df_3 = main_df_3.drop([\n",
    "    'practice','bankaccount','bubblefile','bondvalue','stocktext','bondtext',\n",
    "    'stocktextlocation','bondtextlocation','emotionresponse','bypassed','agegroup','experimentername',\n",
    "    'date','correctfractallocation','incorrectfractallocation','paymentaccuracy','phase',\n",
    "    'stockfractallocation','bondfractallocation','showinstruction','gender',\n",
    "    'correctfractal','incorectfractal','oldfaceequalstrue','facefile','facekeypressed',\n",
    "    'originalsubjectnumber','originalparticipantnumber','originaltrialnumber','originaltrailnumber',\n",
    "    'fracdomain','facedomain','fracmagnitude','facestockvalue',\n",
    "    'genderjudgment'], axis=1)"
   ]
  },
  {
   "cell_type": "code",
   "execution_count": 47,
   "metadata": {
    "scrolled": true
   },
   "outputs": [],
   "source": [
    "main_df_3['study'] = main_df_3.apply(clean.label_study, axis=1)"
   ]
  },
  {
   "cell_type": "code",
   "execution_count": 48,
   "metadata": {},
   "outputs": [],
   "source": [
    "for col in ('choicert','outcomert'):\n",
    "    main_df_3[col] = main_df_3[col].astype(float) *.001"
   ]
  },
  {
   "cell_type": "markdown",
   "metadata": {},
   "source": [
    "### Unified columns"
   ]
  },
  {
   "cell_type": "markdown",
   "metadata": {},
   "source": [
    "#### final cleaning to put values in the same units, etc..."
   ]
  },
  {
   "cell_type": "code",
   "execution_count": 50,
   "metadata": {
    "scrolled": true
   },
   "outputs": [
    {
     "name": "stderr",
     "output_type": "stream",
     "text": [
      "/Library/Frameworks/Python.framework/Versions/3.7/lib/python3.7/site-packages/ipykernel-5.1.0-py3.7.egg/ipykernel_launcher.py:1: FutureWarning: Sorting because non-concatenation axis is not aligned. A future version\n",
      "of pandas will change to not sort by default.\n",
      "\n",
      "To accept the future behavior, pass 'sort=False'.\n",
      "\n",
      "To retain the current behavior and silence the warning, pass 'sort=True'.\n",
      "\n",
      "  \"\"\"Entry point for launching an IPython kernel.\n"
     ]
    }
   ],
   "source": [
    "main_df_all = pd.concat([main_df_1, main_df_2, main_df_3])"
   ]
  },
  {
   "cell_type": "code",
   "execution_count": 52,
   "metadata": {
    "scrolled": true
   },
   "outputs": [
    {
     "data": {
      "text/plain": [
       "18786"
      ]
     },
     "execution_count": 52,
     "metadata": {},
     "output_type": "execute_result"
    }
   ],
   "source": [
    "main_df_all['stockchosen'] = main_df_all.apply(clean.clean_stockchosen, axis=1)\n",
    "main_df_all['bondpic'] = main_df_all.apply(clean.clean_bondpic, axis=1)\n",
    "main_df_all['stockpic'] = main_df_all.apply(clean.clean_stockpic, axis=1)\n",
    "len(main_df_all)"
   ]
  },
  {
   "cell_type": "markdown",
   "metadata": {},
   "source": [
    "# Fractal Memory"
   ]
  },
  {
   "cell_type": "markdown",
   "metadata": {},
   "source": [
    "## ED-1"
   ]
  },
  {
   "cell_type": "code",
   "execution_count": 53,
   "metadata": {
    "scrolled": true
   },
   "outputs": [],
   "source": [
    "frac_df_1['oldfractal'] = frac_df_1.apply(clean.clean_paths, axis=1)"
   ]
  },
  {
   "cell_type": "code",
   "execution_count": 70,
   "metadata": {
    "scrolled": true
   },
   "outputs": [],
   "source": [
    "frac_lil_df_1 = frac_df_1[['subjectid','oldfractal','judgment']].sort_values(['subjectid','oldfractal'])"
   ]
  },
  {
   "cell_type": "code",
   "execution_count": 71,
   "metadata": {
    "scrolled": true
   },
   "outputs": [],
   "source": [
    "frac_lil_bond_df_1 = frac_lil_df_1.rename(columns={\n",
    "    'subjectid':'subjnum','oldfractal':'bondpic','judgment':'bondmem'\n",
    "})"
   ]
  },
  {
   "cell_type": "code",
   "execution_count": 72,
   "metadata": {
    "scrolled": true
   },
   "outputs": [],
   "source": [
    "frac_lil_stock_df_1 = frac_lil_df_1.rename(columns={\n",
    "    'subjectid':'subjnum','oldfractal':'stockpic','judgment':'stockmem'\n",
    "})"
   ]
  },
  {
   "cell_type": "markdown",
   "metadata": {},
   "source": [
    "## ED-2"
   ]
  },
  {
   "cell_type": "code",
   "execution_count": 73,
   "metadata": {
    "scrolled": true
   },
   "outputs": [],
   "source": [
    "frac_df_2['oldfractal'] = frac_df_2.apply(clean.clean_paths, axis=1)"
   ]
  },
  {
   "cell_type": "code",
   "execution_count": 74,
   "metadata": {
    "scrolled": true
   },
   "outputs": [],
   "source": [
    "frac_lil_df_2 = frac_df_2[['subjectid','oldfractal','judgment']].sort_values(['subjectid','oldfractal'])"
   ]
  },
  {
   "cell_type": "code",
   "execution_count": 75,
   "metadata": {
    "scrolled": true
   },
   "outputs": [],
   "source": [
    "frac_lil_bond_df_2 = frac_lil_df_2.rename(columns={\n",
    "    'subjectid':'subjnum','oldfractal':'bondpic','judgment':'bondmem'\n",
    "})"
   ]
  },
  {
   "cell_type": "code",
   "execution_count": 76,
   "metadata": {
    "scrolled": true
   },
   "outputs": [],
   "source": [
    "frac_lil_stock_df_2 = frac_lil_df_2.rename(columns={\n",
    "    'subjectid':'subjnum','oldfractal':'stockpic','judgment':'stockmem'\n",
    "})"
   ]
  },
  {
   "cell_type": "markdown",
   "metadata": {},
   "source": [
    "## ED-3"
   ]
  },
  {
   "cell_type": "code",
   "execution_count": 77,
   "metadata": {},
   "outputs": [
    {
     "name": "stderr",
     "output_type": "stream",
     "text": [
      "/Library/Frameworks/Python.framework/Versions/3.7/lib/python3.7/site-packages/ipykernel-5.1.0-py3.7.egg/ipykernel_launcher.py:2: SettingWithCopyWarning: \n",
      "A value is trying to be set on a copy of a slice from a DataFrame.\n",
      "Try using .loc[row_indexer,col_indexer] = value instead\n",
      "\n",
      "See the caveats in the documentation: http://pandas.pydata.org/pandas-docs/stable/indexing.html#indexing-view-versus-copy\n",
      "  \n"
     ]
    }
   ],
   "source": [
    "frac_lil_df_3 = frac_df_3[['originalparticipant','correctfractal','selection','correctfractallocation']]\n",
    "frac_lil_df_3['selection'] = frac_lil_df_3.apply(clean.clean_selection, axis=1)"
   ]
  },
  {
   "cell_type": "code",
   "execution_count": 79,
   "metadata": {},
   "outputs": [],
   "source": [
    "frac_lil_bond_df_3 = frac_lil_df_3.rename(columns={\n",
    "    'originalparticipant':'subjnum',\n",
    "    'correctfractal':'bondpic',\n",
    "    'selection':'bondmem'\n",
    "}).drop(columns='correctfractallocation')\n",
    "\n",
    "frac_lil_stock_df_3 = frac_lil_df_3.rename(columns={\n",
    "    'originalparticipant':'subjnum',\n",
    "    'correctfractal':'stockpic',\n",
    "    'selection':'stockmem'\n",
    "}).drop(columns='correctfractallocation')"
   ]
  },
  {
   "cell_type": "markdown",
   "metadata": {},
   "source": [
    "## Concatenate ED-1, ED-2, ED-3 Fractal Memory"
   ]
  },
  {
   "cell_type": "code",
   "execution_count": 80,
   "metadata": {},
   "outputs": [],
   "source": [
    "frac_lil_bond_df = pd.concat([\n",
    "    frac_lil_bond_df_1, frac_lil_bond_df_2, frac_lil_bond_df_3\n",
    "])\n",
    "\n",
    "frac_lil_stock_df = pd.concat([\n",
    "    frac_lil_stock_df_1, frac_lil_stock_df_2, frac_lil_stock_df_3\n",
    "])"
   ]
  },
  {
   "cell_type": "markdown",
   "metadata": {},
   "source": [
    "# Face Memory"
   ]
  },
  {
   "cell_type": "markdown",
   "metadata": {},
   "source": [
    "## ED-1"
   ]
  },
  {
   "cell_type": "code",
   "execution_count": 81,
   "metadata": {},
   "outputs": [],
   "source": [
    "face_lil_df_1 = face_df_1[['subjectid','face','subjresp']]\n",
    "face_lil_df_1 = face_lil_df_1.rename(columns={\n",
    "    'subjectid':'subjnum','face':'facepic','subjresp':'facemem'\n",
    "})"
   ]
  },
  {
   "cell_type": "markdown",
   "metadata": {},
   "source": [
    "## ED-2"
   ]
  },
  {
   "cell_type": "code",
   "execution_count": 82,
   "metadata": {},
   "outputs": [],
   "source": [
    "face_lil_df_2 = face_df_2[['subjectid','face','subjresp']]\n",
    "face_lil_df_2 = face_lil_df_2.rename(columns={\n",
    "    'subjectid':'subjnum','face':'facepic','subjresp':'facemem'\n",
    "})"
   ]
  },
  {
   "cell_type": "markdown",
   "metadata": {},
   "source": [
    "## ED-3"
   ]
  },
  {
   "cell_type": "code",
   "execution_count": 83,
   "metadata": {},
   "outputs": [],
   "source": [
    "face_lil_df_3 = face_df_3[\n",
    "    ['originalparticipant','facefile','selection']\n",
    "].rename(columns={\n",
    "    'originalparticipant':'subjnum',\n",
    "    'facefile':'facepic',\n",
    "    'selection':'facemem'\n",
    "})"
   ]
  },
  {
   "cell_type": "markdown",
   "metadata": {},
   "source": [
    "## Concatenate ED-1, ED-2, ED-3"
   ]
  },
  {
   "cell_type": "code",
   "execution_count": 84,
   "metadata": {},
   "outputs": [],
   "source": [
    "face_lil_df = pd.concat([\n",
    "    face_lil_df_1, face_lil_df_2, face_lil_df_3\n",
    "])"
   ]
  },
  {
   "cell_type": "markdown",
   "metadata": {},
   "source": [
    "# Output"
   ]
  },
  {
   "cell_type": "code",
   "execution_count": 85,
   "metadata": {},
   "outputs": [],
   "source": [
    "main_df_all = main_df_all.merge(frac_lil_bond_df, how='left')\n",
    "main_df_all = main_df_all.merge(frac_lil_stock_df, how='left')\n",
    "main_df_all = main_df_all.merge(face_lil_df, how='left')\n",
    "# unified_main_frame[['subjnum','stockpic','bondpic','stockmem','bondmem']]"
   ]
  },
  {
   "cell_type": "code",
   "execution_count": 90,
   "metadata": {},
   "outputs": [],
   "source": [
    "trials=[]\n",
    "for s in range(len(main_df_all.subjnum.unique())):\n",
    "    for t in range(1,73):\n",
    "        trials.append(t)"
   ]
  },
  {
   "cell_type": "code",
   "execution_count": 91,
   "metadata": {},
   "outputs": [],
   "source": [
    "blocks=[]\n",
    "for s in range(len(main_df_all.subjnum.unique())):\n",
    "    for b in range(1,13):\n",
    "        for x in range(6):\n",
    "            blocks.append(b)"
   ]
  },
  {
   "cell_type": "markdown",
   "metadata": {},
   "source": [
    "# Check size\n",
    "Final merged DataFrame compared to expected number of blocks & trials:"
   ]
  },
  {
   "cell_type": "code",
   "execution_count": 93,
   "metadata": {},
   "outputs": [
    {
     "name": "stdout",
     "output_type": "stream",
     "text": [
      "18792\n",
      "18792\n",
      "18786\n"
     ]
    }
   ],
   "source": [
    "print(len(blocks))\n",
    "print(len(trials))\n",
    "print(len(main_df_all))"
   ]
  },
  {
   "cell_type": "code",
   "execution_count": 99,
   "metadata": {},
   "outputs": [
    {
     "ename": "AssertionError",
     "evalue": "",
     "output_type": "error",
     "traceback": [
      "\u001b[0;31m---------------------------------------------------------------------------\u001b[0m",
      "\u001b[0;31mAssertionError\u001b[0m                            Traceback (most recent call last)",
      "\u001b[0;32m<ipython-input-99-ca6a03ee72fa>\u001b[0m in \u001b[0;36m<module>\u001b[0;34m\u001b[0m\n\u001b[1;32m      1\u001b[0m \u001b[0;32massert\u001b[0m \u001b[0mlen\u001b[0m\u001b[0;34m(\u001b[0m\u001b[0mblocks\u001b[0m\u001b[0;34m)\u001b[0m \u001b[0;34m==\u001b[0m \u001b[0mlen\u001b[0m\u001b[0;34m(\u001b[0m\u001b[0mtrials\u001b[0m\u001b[0;34m)\u001b[0m\u001b[0;34m\u001b[0m\u001b[0;34m\u001b[0m\u001b[0m\n\u001b[0;32m----> 2\u001b[0;31m \u001b[0;32massert\u001b[0m \u001b[0mlen\u001b[0m\u001b[0;34m(\u001b[0m\u001b[0mtrials\u001b[0m\u001b[0;34m)\u001b[0m \u001b[0;34m==\u001b[0m \u001b[0mlen\u001b[0m\u001b[0;34m(\u001b[0m\u001b[0mmain_df_all\u001b[0m\u001b[0;34m)\u001b[0m\u001b[0;34m\u001b[0m\u001b[0;34m\u001b[0m\u001b[0m\n\u001b[0m",
      "\u001b[0;31mAssertionError\u001b[0m: "
     ]
    }
   ],
   "source": [
    "assert len(blocks) == len(trials)\n",
    "assert len(trials) == len(main_df_all)"
   ]
  },
  {
   "cell_type": "markdown",
   "metadata": {},
   "source": [
    "6 ED3 subjects are missing a trial so the trial and block numbers won't match up if they are added here.\n",
    "\n",
    "Should move this step to early cleaning immediately after extraction."
   ]
  },
  {
   "cell_type": "code",
   "execution_count": null,
   "metadata": {},
   "outputs": [],
   "source": [
    "counts = main_df_all.groupby('subjnum').count()['block']\n",
    "counts[counts < 72]"
   ]
  },
  {
   "cell_type": "code",
   "execution_count": null,
   "metadata": {},
   "outputs": [],
   "source": [
    "main_df_all['trial'] = pd.Series(trials)\n",
    "main_df_all['block'] = pd.Series(blocks)"
   ]
  },
  {
   "cell_type": "markdown",
   "metadata": {},
   "source": [
    "# Output\n",
    "\n",
    "ONly when all data is fully aligned and homogenized.\n",
    "\n",
    "**ALL** cleaning steps should be done before this point."
   ]
  },
  {
   "cell_type": "code",
   "execution_count": null,
   "metadata": {},
   "outputs": [],
   "source": [
    "homog_dir = derivs_dir / '02.homogenized'\n",
    "if not Path.exists(homog_dir):\n",
    "    Path.mkdir(homog_dir)"
   ]
  },
  {
   "cell_type": "code",
   "execution_count": null,
   "metadata": {},
   "outputs": [],
   "source": [
    "fpath = homog_dir  / ('econdec-full_task-main_beh_' + date + '.csv')\n",
    "main_df_all.to_csv(fpath, index=False)"
   ]
  },
  {
   "cell_type": "code",
   "execution_count": 100,
   "metadata": {},
   "outputs": [
    {
     "data": {
      "text/plain": [
       "261"
      ]
     },
     "execution_count": 100,
     "metadata": {},
     "output_type": "execute_result"
    }
   ],
   "source": [
    "len(main_df_all.subjnum.unique())"
   ]
  },
  {
   "cell_type": "markdown",
   "metadata": {},
   "source": [
    "For reference:\n",
    "\n",
    "```\n",
    "final_columns=['study','subjnum','trial','block','domain','dom',\n",
    "               'estimation','trueprob','estdiff','valestdiff','valestdiffvalid',\n",
    "               'choicert','choicerta3sd','choicerti3sd','choicemed12v3','choicemed123'\n",
    "               'esttaskrt','esttaskrta3sd','esttaskrti3sd',\n",
    "               'outcomert','outcomerta3sd','outcomerti3sd','outcomemed12','outcomemed123'\n",
    "               'stockchosen','waschoiceoptimal','optimalchoiceshouldhavebeen',\n",
    "               'magnitude','stockvalue','absstockval','b4choiceprobability',\n",
    "               'stockpic','bondpic','facepic','stockmemresp','bondmemresp',\n",
    "               'studymedchoice','studysplitchoice','studymedoutcome','studysplitoutcome',\n",
    "               'primemedchoice','primesplitchoice','primemedoutcome','primesplitoutcome']\n",
    "               ```"
   ]
  }
 ],
 "metadata": {
  "kernelspec": {
   "display_name": "Python 3",
   "language": "python",
   "name": "python3"
  },
  "language_info": {
   "codemirror_mode": {
    "name": "ipython",
    "version": 3
   },
   "file_extension": ".py",
   "mimetype": "text/x-python",
   "name": "python",
   "nbconvert_exporter": "python",
   "pygments_lexer": "ipython3",
   "version": "3.7.1"
  }
 },
 "nbformat": 4,
 "nbformat_minor": 2
}
