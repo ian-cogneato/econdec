{
 "cells": [
  {
   "cell_type": "markdown",
   "metadata": {},
   "source": [
    "# Realign & Homogenize ED-1, ED-2, ED-3\n",
    "\n",
    "`2.clean_realign_homogenize_all`\n",
    "\n",
    "Realign and merge converted data from ED-3 into the concatenated data from ED-1 and ED-2.\n",
    "\n",
    "Differentiate, import, and reassociate memory data into the main-task trialwise dataset."
   ]
  },
  {
   "cell_type": "markdown",
   "metadata": {},
   "source": [
    "### Configuration"
   ]
  },
  {
   "cell_type": "code",
   "execution_count": 1,
   "metadata": {},
   "outputs": [],
   "source": [
    "from pathlib import Path\n",
    "\n",
    "import pandas as pd\n",
    "from datetime import datetime\n",
    "\n",
    "from _utils import clean"
   ]
  },
  {
   "cell_type": "code",
   "execution_count": 2,
   "metadata": {},
   "outputs": [],
   "source": [
    "date = datetime.today().strftime('%y%m%d')"
   ]
  },
  {
   "cell_type": "code",
   "execution_count": 3,
   "metadata": {},
   "outputs": [],
   "source": [
    "derivs_dir = Path('..') / 'derivatives'\n",
    "allsub_dir = derivs_dir / '00.allsub'"
   ]
  },
  {
   "cell_type": "markdown",
   "metadata": {},
   "source": [
    "## Pull Concatenated Taskwise data"
   ]
  },
  {
   "cell_type": "markdown",
   "metadata": {},
   "source": [
    "#### ED-1"
   ]
  },
  {
   "cell_type": "code",
   "execution_count": 4,
   "metadata": {},
   "outputs": [],
   "source": [
    "main_fpath_1 = allsub_dir / ('econdec-1_task-main_beh_' + date + '.csv')\n",
    "frac_fpath_1 = allsub_dir / ('econdec-1_task-frac_beh_' + date + '.csv')\n",
    "face_fpath_1 = allsub_dir / ('econdec-1_task-face_beh_' + date + '.csv')"
   ]
  },
  {
   "cell_type": "code",
   "execution_count": 5,
   "metadata": {},
   "outputs": [],
   "source": [
    "main_df_1 = clean.smooth_columns(pd.read_csv(main_fpath_1))\n",
    "frac_df_1 = clean.smooth_columns(pd.read_csv(frac_fpath_1))\n",
    "face_df_1 = clean.smooth_columns(pd.read_csv(face_fpath_1))"
   ]
  },
  {
   "cell_type": "markdown",
   "metadata": {},
   "source": [
    "#### ED-2"
   ]
  },
  {
   "cell_type": "code",
   "execution_count": 6,
   "metadata": {},
   "outputs": [],
   "source": [
    "main_fpath_2 = allsub_dir / ('econdec-2_task-main_beh_' + date + '.csv')\n",
    "frac_fpath_2 = allsub_dir / ('econdec-2_task-frac_beh_' + date + '.csv')\n",
    "face_fpath_2 = allsub_dir / ('econdec-2_task-face_beh_' + date + '.csv')"
   ]
  },
  {
   "cell_type": "code",
   "execution_count": 7,
   "metadata": {},
   "outputs": [],
   "source": [
    "main_df_2 = clean.smooth_columns(pd.read_csv(main_fpath_2))\n",
    "frac_df_2 = clean.smooth_columns(pd.read_csv(frac_fpath_2))\n",
    "face_df_2 = clean.smooth_columns(pd.read_csv(face_fpath_2))"
   ]
  },
  {
   "cell_type": "markdown",
   "metadata": {},
   "source": [
    "#### ED-3"
   ]
  },
  {
   "cell_type": "code",
   "execution_count": 8,
   "metadata": {},
   "outputs": [],
   "source": [
    "main_fpath_3 = allsub_dir / ('econdec-3_task-main_beh_' + date + '.csv')\n",
    "frac_fpath_3 = allsub_dir / ('econdec-3_task-frac_beh_' + date + '.csv')\n",
    "face_fpath_3 = allsub_dir / ('econdec-3_task-face_beh_' + date + '.csv')"
   ]
  },
  {
   "cell_type": "code",
   "execution_count": 9,
   "metadata": {},
   "outputs": [],
   "source": [
    "main_df_3 = clean.eye_cleanup(clean.smooth_columns(pd.read_csv(main_fpath_3)))\n",
    "frac_df_3 = clean.smooth_columns(pd.read_csv(frac_fpath_3))\n",
    "face_df_3 = clean.smooth_columns(pd.read_csv(face_fpath_3))"
   ]
  },
  {
   "cell_type": "markdown",
   "metadata": {},
   "source": [
    "We'll address the overall trial count by invoking `eye_cleanup`, a specially designed utility function for this purpose:"
   ]
  },
  {
   "cell_type": "code",
   "execution_count": 10,
   "metadata": {},
   "outputs": [
    {
     "name": "stdout",
     "output_type": "stream",
     "text": [
      "\n",
      "    Removes rows from a DataFrame based on predetermined indicators of extraneous data, or an indicator that the row represents unwanted practice data.\n",
      "    \n"
     ]
    }
   ],
   "source": [
    "print(clean.eye_cleanup.__doc__)"
   ]
  },
  {
   "cell_type": "markdown",
   "metadata": {},
   "source": [
    "## Note\n",
    "\n",
    "I'm unsure whether the above (repetitive), or one of the options below (unintuitive) is a cleaner way to represent the data corpus at this stage."
   ]
  },
  {
   "cell_type": "markdown",
   "metadata": {},
   "source": [
    "1. Still pretty repetitive here, but readable. Sets up better code efficiency later. (I'm leaning towards this option)"
   ]
  },
  {
   "cell_type": "raw",
   "metadata": {},
   "source": [
    "data = {\n",
    "    'main':{\n",
    "        1:smooth_columns(pd.read_csv(allsub_dir / ('econdec-1_task-main_beh_' + date + '.csv'))),\n",
    "        2:smooth_columns(pd.read_csv(allsub_dir / ('econdec-2_task-main_beh_' + date + '.csv'))),\n",
    "        3:smooth_columns(pd.read_csv(allsub_dir / ('econdec-3_task-main_beh_' + date + '.csv'))),\n",
    "    },\n",
    "    'frac':{\n",
    "        1:smooth_columns(pd.read_csv(allsub_dir / ('econdec-1_task-frac_beh_' + date + '.csv'))),\n",
    "        2:smooth_columns(pd.read_csv(allsub_dir / ('econdec-2_task-frac_beh_' + date + '.csv'))),\n",
    "        3:smooth_columns(pd.read_csv(allsub_dir / ('econdec-3_task-frac_beh_' + date + '.csv'))),\n",
    "    },\n",
    "    'face':{\n",
    "        1:smooth_columns(pd.read_csv(allsub_dir / ('econdec-1_task-face_beh_' + date + '.csv'))),\n",
    "        2:smooth_columns(pd.read_csv(allsub_dir / ('econdec-2_task-face_beh_' + date + '.csv'))),\n",
    "        3:smooth_columns(pd.read_csv(allsub_dir / ('econdec-3_task-face_beh_' + date + '.csv'))),\n",
    "    }\n",
    "}"
   ]
  },
  {
   "cell_type": "markdown",
   "metadata": {},
   "source": [
    "2. Harder to read, better code efficiency *now and later*."
   ]
  },
  {
   "cell_type": "raw",
   "metadata": {},
   "source": [
    "data = {}\n",
    "for task in ['main', 'frac', 'face']:\n",
    "    data[task] = {}\n",
    "    for ds in [1, 2, 3]:\n",
    "        data[task][ds] = smooth_columns(pd.read_csv(\n",
    "            allsub_dir / ('econdec-' + str(ds) + '_task-' + task + '_beh_' + date + '.csv')\n",
    "        ))"
   ]
  },
  {
   "cell_type": "markdown",
   "metadata": {},
   "source": [
    "# Homogenize main task column names"
   ]
  },
  {
   "cell_type": "code",
   "execution_count": 11,
   "metadata": {},
   "outputs": [],
   "source": [
    "from config import new_columns"
   ]
  },
  {
   "cell_type": "raw",
   "metadata": {},
   "source": [
    "from config import new_df_1_columns, new_df_2_columns, new_df_3_columns"
   ]
  },
  {
   "cell_type": "code",
   "execution_count": 12,
   "metadata": {
    "scrolled": true
   },
   "outputs": [],
   "source": [
    "main_df_1 = main_df_1.rename(columns = new_columns).set_index(['subjnum','block','trial']).reset_index()\n",
    "main_df_2 = main_df_2.rename(columns = new_columns).set_index(['subjnum','block','trial']).reset_index()\n",
    "main_df_3 = main_df_3.rename(columns = new_columns).set_index(['subjnum','block','trial']).reset_index()"
   ]
  },
  {
   "cell_type": "markdown",
   "metadata": {},
   "source": [
    "# Exclude bad subjects"
   ]
  },
  {
   "cell_type": "code",
   "execution_count": 13,
   "metadata": {},
   "outputs": [],
   "source": [
    "from config import exclusions"
   ]
  },
  {
   "cell_type": "code",
   "execution_count": 14,
   "metadata": {},
   "outputs": [],
   "source": [
    "main_df_1 = main_df_1[~main_df_1['subjnum'].isin(exclusions)]\n",
    "main_df_2 = main_df_2[~main_df_2['subjnum'].isin(exclusions)]\n",
    "main_df_3 = main_df_3[~main_df_3['subjnum'].isin(exclusions)]"
   ]
  },
  {
   "cell_type": "code",
   "execution_count": 15,
   "metadata": {},
   "outputs": [
    {
     "name": "stdout",
     "output_type": "stream",
     "text": [
      "88 101 72\n"
     ]
    }
   ],
   "source": [
    "print(\n",
    "    len(main_df_1.subjnum.unique()),\n",
    "    len(main_df_2.subjnum.unique()),\n",
    "    len(main_df_3.subjnum.unique()),\n",
    ")"
   ]
  },
  {
   "cell_type": "markdown",
   "metadata": {},
   "source": [
    "# Trial Counts"
   ]
  },
  {
   "cell_type": "code",
   "execution_count": 16,
   "metadata": {},
   "outputs": [
    {
     "data": {
      "text/plain": [
       "72    88\n",
       "Name: block, dtype: int64"
      ]
     },
     "execution_count": 16,
     "metadata": {},
     "output_type": "execute_result"
    }
   ],
   "source": [
    "main_df_1.groupby('subjnum').count().iloc[:,0].value_counts()"
   ]
  },
  {
   "cell_type": "code",
   "execution_count": 17,
   "metadata": {},
   "outputs": [
    {
     "data": {
      "text/plain": [
       "72    101\n",
       "Name: block, dtype: int64"
      ]
     },
     "execution_count": 17,
     "metadata": {},
     "output_type": "execute_result"
    }
   ],
   "source": [
    "main_df_2.groupby('subjnum').count().iloc[:,0].value_counts()"
   ]
  },
  {
   "cell_type": "code",
   "execution_count": 18,
   "metadata": {},
   "outputs": [
    {
     "data": {
      "text/plain": [
       "72    66\n",
       "71     6\n",
       "Name: block, dtype: int64"
      ]
     },
     "execution_count": 18,
     "metadata": {},
     "output_type": "execute_result"
    }
   ],
   "source": [
    "main_df_3.groupby('subjnum').count().iloc[:,0].value_counts()"
   ]
  },
  {
   "cell_type": "markdown",
   "metadata": {},
   "source": [
    "There are 2 problems with the behavioral data from ED-3 above:\n",
    "\n",
    "1. Subjects should each have 72 trials, but we see 90 for most trials. This is for two reasons:\n",
    "    1. Practice blocks are not separate from the Main task in ED-3, adding an additional 2 blocks of 2 trials (total of 4, bringing 72 up to 76)\n",
    "    2. Each block in the Practice and Main tasks comes with an additional trial row, repeating the data from the last trial in that block. This adds 12 rows for the Main task, and 2 for the Practice task (total of 14, bringing our 76 up to 90).\n",
    "2. Some (8) subjects are missing exactly 1 of those 90 trials.\n",
    "    1. We aren't exactly sure why this data was lost, but the EyeLink software seems to have failed to write it into the raw data during some instances of required recalibration of the eye-tracking sensor system. In any case, "
   ]
  },
  {
   "cell_type": "markdown",
   "metadata": {},
   "source": [
    "Now we still have to deal with the subjects who are missing trials. Invoking `eye_cleanup` seems to have cleared up the trial count discrepancy for 2 of these 8 subjects, leaving us with 6. This is curious, as it implies that the missing trials for those 2 were either practice trials or the extraneous block-repeat trial rows. We need to work to clarify why this is.\n",
    "\n",
    "In any case, the issue with the remaining 6 subjects can be remedied by adding a \"dummy\" trial in the position of the missing one."
   ]
  },
  {
   "cell_type": "raw",
   "metadata": {},
   "source": [
    "main_df_3['trial'].value_counts()"
   ]
  },
  {
   "cell_type": "markdown",
   "metadata": {},
   "source": [
    "Looks like the 6 missing trials are all in the 1st trial position within their block, judging by the 6 missing trial values at 1."
   ]
  },
  {
   "cell_type": "raw",
   "metadata": {},
   "source": [
    "counts = main_df_3.groupby('subjnum').count()['trial']\n",
    "print(counts[counts == 71])\n",
    "subs_missing_trials = counts[counts == 71].index"
   ]
  },
  {
   "cell_type": "markdown",
   "metadata": {},
   "source": [
    "There's our 6 offenders listed."
   ]
  },
  {
   "cell_type": "raw",
   "metadata": {},
   "source": [
    "main_df_3['trialnum'] = pd.concat([\n",
    "    main_df_3.groupby('subjnum').get_group(sub).reset_index().apply(\n",
    "        lambda row: ((int(row.name) // 6) * 6) + row['trial'], axis=1)\n",
    "    for sub in main_df_3['subjnum'].unique()\n",
    "]).reset_index(drop=True)"
   ]
  },
  {
   "cell_type": "raw",
   "metadata": {},
   "source": [
    "main_df_3['trialnum']"
   ]
  },
  {
   "cell_type": "markdown",
   "metadata": {},
   "source": [
    "# Cleaning"
   ]
  },
  {
   "cell_type": "markdown",
   "metadata": {},
   "source": [
    "Create `['study']` label for each DataFrame"
   ]
  },
  {
   "cell_type": "code",
   "execution_count": 19,
   "metadata": {},
   "outputs": [],
   "source": [
    "main_df_1['study'] = main_df_1.apply(clean.label_study, axis=1)\n",
    "main_df_2['study'] = main_df_2.apply(clean.label_study, axis=1)\n",
    "main_df_3['study'] = main_df_3.apply(clean.label_study, axis=1)"
   ]
  },
  {
   "cell_type": "markdown",
   "metadata": {},
   "source": [
    "Put `choicert` and `outcomert` in the same units as ED-1 and ED-2"
   ]
  },
  {
   "cell_type": "code",
   "execution_count": 20,
   "metadata": {},
   "outputs": [],
   "source": [
    "for col in ('choicert','outcomert'):\n",
    "    main_df_3[col] = main_df_3[col].astype(float) *.001"
   ]
  },
  {
   "cell_type": "markdown",
   "metadata": {},
   "source": [
    "# Cleaned Output with Exclusions"
   ]
  },
  {
   "cell_type": "code",
   "execution_count": 21,
   "metadata": {},
   "outputs": [],
   "source": [
    "exclusions_dir = derivs_dir / '01.exclusions'\n",
    "if not Path.exists(exclusions_dir): Path.mkdir(exclusions_dir)"
   ]
  },
  {
   "cell_type": "code",
   "execution_count": 22,
   "metadata": {},
   "outputs": [],
   "source": [
    "main_df_1.to_csv(exclusions_dir / ('econdec-1_task-main_beh_' + date + '.csv'))\n",
    "main_df_2.to_csv(exclusions_dir / ('econdec-2_task-main_beh_' + date + '.csv'))\n",
    "main_df_3.to_csv(exclusions_dir / ('exondec-3_task-main_beh_' + date + '.csv'))"
   ]
  },
  {
   "cell_type": "markdown",
   "metadata": {},
   "source": [
    "# Main task"
   ]
  },
  {
   "cell_type": "markdown",
   "metadata": {},
   "source": [
    "#### ED-1"
   ]
  },
  {
   "cell_type": "code",
   "execution_count": 23,
   "metadata": {
    "scrolled": true
   },
   "outputs": [
    {
     "data": {
      "text/html": [
       "<div>\n",
       "<style scoped>\n",
       "    .dataframe tbody tr th:only-of-type {\n",
       "        vertical-align: middle;\n",
       "    }\n",
       "\n",
       "    .dataframe tbody tr th {\n",
       "        vertical-align: top;\n",
       "    }\n",
       "\n",
       "    .dataframe thead th {\n",
       "        text-align: right;\n",
       "    }\n",
       "</style>\n",
       "<table border=\"1\" class=\"dataframe\">\n",
       "  <thead>\n",
       "    <tr style=\"text-align: right;\">\n",
       "      <th></th>\n",
       "      <th>subjnum</th>\n",
       "      <th>block</th>\n",
       "      <th>trial</th>\n",
       "      <th>agegroup</th>\n",
       "      <th>experimentername</th>\n",
       "      <th>date</th>\n",
       "      <th>time</th>\n",
       "      <th>trialnumbydomdist</th>\n",
       "      <th>domain</th>\n",
       "      <th>magnitude</th>\n",
       "      <th>...</th>\n",
       "      <th>confidence</th>\n",
       "      <th>confidencest</th>\n",
       "      <th>confidencert</th>\n",
       "      <th>stocknumber</th>\n",
       "      <th>bondnumber</th>\n",
       "      <th>genderjudgment</th>\n",
       "      <th>bankaccount</th>\n",
       "      <th>trueprob</th>\n",
       "      <th>estwithinrange?</th>\n",
       "      <th>study</th>\n",
       "    </tr>\n",
       "  </thead>\n",
       "  <tbody>\n",
       "    <tr>\n",
       "      <th>0</th>\n",
       "      <td>100</td>\n",
       "      <td>1</td>\n",
       "      <td>1</td>\n",
       "      <td>1</td>\n",
       "      <td>kf</td>\n",
       "      <td>10_12</td>\n",
       "      <td>11:31:01.963000</td>\n",
       "      <td>1</td>\n",
       "      <td>LOSS</td>\n",
       "      <td>low</td>\n",
       "      <td>...</td>\n",
       "      <td>8</td>\n",
       "      <td>2.141471e+06</td>\n",
       "      <td>3.022637</td>\n",
       "      <td>16</td>\n",
       "      <td>9</td>\n",
       "      <td>1</td>\n",
       "      <td>-6</td>\n",
       "      <td>0.300000</td>\n",
       "      <td>0</td>\n",
       "      <td>1</td>\n",
       "    </tr>\n",
       "    <tr>\n",
       "      <th>1</th>\n",
       "      <td>100</td>\n",
       "      <td>1</td>\n",
       "      <td>2</td>\n",
       "      <td>1</td>\n",
       "      <td>kf</td>\n",
       "      <td>10_12</td>\n",
       "      <td>11:31:01.963000</td>\n",
       "      <td>2</td>\n",
       "      <td>LOSS</td>\n",
       "      <td>low</td>\n",
       "      <td>...</td>\n",
       "      <td>8</td>\n",
       "      <td>2.141525e+06</td>\n",
       "      <td>3.695852</td>\n",
       "      <td>16</td>\n",
       "      <td>9</td>\n",
       "      <td>1</td>\n",
       "      <td>-12</td>\n",
       "      <td>0.155172</td>\n",
       "      <td>0</td>\n",
       "      <td>1</td>\n",
       "    </tr>\n",
       "    <tr>\n",
       "      <th>2</th>\n",
       "      <td>100</td>\n",
       "      <td>1</td>\n",
       "      <td>3</td>\n",
       "      <td>1</td>\n",
       "      <td>kf</td>\n",
       "      <td>10_12</td>\n",
       "      <td>11:31:01.963000</td>\n",
       "      <td>3</td>\n",
       "      <td>LOSS</td>\n",
       "      <td>low</td>\n",
       "      <td>...</td>\n",
       "      <td>8</td>\n",
       "      <td>2.141546e+06</td>\n",
       "      <td>3.121775</td>\n",
       "      <td>16</td>\n",
       "      <td>9</td>\n",
       "      <td>1</td>\n",
       "      <td>-18</td>\n",
       "      <td>0.300000</td>\n",
       "      <td>1</td>\n",
       "      <td>1</td>\n",
       "    </tr>\n",
       "    <tr>\n",
       "      <th>3</th>\n",
       "      <td>100</td>\n",
       "      <td>1</td>\n",
       "      <td>4</td>\n",
       "      <td>1</td>\n",
       "      <td>kf</td>\n",
       "      <td>10_12</td>\n",
       "      <td>11:31:01.963000</td>\n",
       "      <td>4</td>\n",
       "      <td>LOSS</td>\n",
       "      <td>low</td>\n",
       "      <td>...</td>\n",
       "      <td>7</td>\n",
       "      <td>2.141574e+06</td>\n",
       "      <td>3.406241</td>\n",
       "      <td>16</td>\n",
       "      <td>9</td>\n",
       "      <td>1</td>\n",
       "      <td>-24</td>\n",
       "      <td>0.500000</td>\n",
       "      <td>0</td>\n",
       "      <td>1</td>\n",
       "    </tr>\n",
       "    <tr>\n",
       "      <th>4</th>\n",
       "      <td>100</td>\n",
       "      <td>1</td>\n",
       "      <td>5</td>\n",
       "      <td>1</td>\n",
       "      <td>kf</td>\n",
       "      <td>10_12</td>\n",
       "      <td>11:31:01.963000</td>\n",
       "      <td>5</td>\n",
       "      <td>LOSS</td>\n",
       "      <td>low</td>\n",
       "      <td>...</td>\n",
       "      <td>8</td>\n",
       "      <td>2.141602e+06</td>\n",
       "      <td>4.553061</td>\n",
       "      <td>16</td>\n",
       "      <td>9</td>\n",
       "      <td>1</td>\n",
       "      <td>-26</td>\n",
       "      <td>0.700000</td>\n",
       "      <td>0</td>\n",
       "      <td>1</td>\n",
       "    </tr>\n",
       "  </tbody>\n",
       "</table>\n",
       "<p>5 rows × 35 columns</p>\n",
       "</div>"
      ],
      "text/plain": [
       "   subjnum  block  trial  agegroup experimentername   date             time  \\\n",
       "0      100      1      1         1               kf  10_12  11:31:01.963000   \n",
       "1      100      1      2         1               kf  10_12  11:31:01.963000   \n",
       "2      100      1      3         1               kf  10_12  11:31:01.963000   \n",
       "3      100      1      4         1               kf  10_12  11:31:01.963000   \n",
       "4      100      1      5         1               kf  10_12  11:31:01.963000   \n",
       "\n",
       "   trialnumbydomdist domain magnitude  ...  confidence  confidencest  \\\n",
       "0                  1   LOSS       low  ...           8  2.141471e+06   \n",
       "1                  2   LOSS       low  ...           8  2.141525e+06   \n",
       "2                  3   LOSS       low  ...           8  2.141546e+06   \n",
       "3                  4   LOSS       low  ...           7  2.141574e+06   \n",
       "4                  5   LOSS       low  ...           8  2.141602e+06   \n",
       "\n",
       "  confidencert stocknumber bondnumber genderjudgment  bankaccount  trueprob  \\\n",
       "0     3.022637          16          9              1           -6  0.300000   \n",
       "1     3.695852          16          9              1          -12  0.155172   \n",
       "2     3.121775          16          9              1          -18  0.300000   \n",
       "3     3.406241          16          9              1          -24  0.500000   \n",
       "4     4.553061          16          9              1          -26  0.700000   \n",
       "\n",
       "   estwithinrange? study  \n",
       "0                0     1  \n",
       "1                0     1  \n",
       "2                1     1  \n",
       "3                0     1  \n",
       "4                0     1  \n",
       "\n",
       "[5 rows x 35 columns]"
      ]
     },
     "execution_count": 23,
     "metadata": {},
     "output_type": "execute_result"
    }
   ],
   "source": [
    "main_df_1.head()"
   ]
  },
  {
   "cell_type": "markdown",
   "metadata": {},
   "source": [
    "#### ED-2"
   ]
  },
  {
   "cell_type": "code",
   "execution_count": 24,
   "metadata": {},
   "outputs": [
    {
     "data": {
      "text/html": [
       "<div>\n",
       "<style scoped>\n",
       "    .dataframe tbody tr th:only-of-type {\n",
       "        vertical-align: middle;\n",
       "    }\n",
       "\n",
       "    .dataframe tbody tr th {\n",
       "        vertical-align: top;\n",
       "    }\n",
       "\n",
       "    .dataframe thead th {\n",
       "        text-align: right;\n",
       "    }\n",
       "</style>\n",
       "<table border=\"1\" class=\"dataframe\">\n",
       "  <thead>\n",
       "    <tr style=\"text-align: right;\">\n",
       "      <th></th>\n",
       "      <th>subjnum</th>\n",
       "      <th>block</th>\n",
       "      <th>trial</th>\n",
       "      <th>agegroup</th>\n",
       "      <th>experimentername</th>\n",
       "      <th>date</th>\n",
       "      <th>time</th>\n",
       "      <th>trialnumbydomdist</th>\n",
       "      <th>domain</th>\n",
       "      <th>magnitude</th>\n",
       "      <th>...</th>\n",
       "      <th>confidence</th>\n",
       "      <th>confidencest</th>\n",
       "      <th>confidencert</th>\n",
       "      <th>stocknumber</th>\n",
       "      <th>bondnumber</th>\n",
       "      <th>genderjudgment</th>\n",
       "      <th>bankaccount</th>\n",
       "      <th>trueprob</th>\n",
       "      <th>estwithinrange?</th>\n",
       "      <th>study</th>\n",
       "    </tr>\n",
       "  </thead>\n",
       "  <tbody>\n",
       "    <tr>\n",
       "      <th>0</th>\n",
       "      <td>2001</td>\n",
       "      <td>1</td>\n",
       "      <td>1</td>\n",
       "      <td>1</td>\n",
       "      <td>ed</td>\n",
       "      <td>9_7</td>\n",
       "      <td>14:56:22.840000</td>\n",
       "      <td>1</td>\n",
       "      <td>GAIN</td>\n",
       "      <td>low</td>\n",
       "      <td>...</td>\n",
       "      <td>9.0</td>\n",
       "      <td>22151.347369</td>\n",
       "      <td>2.155163</td>\n",
       "      <td>18</td>\n",
       "      <td>1</td>\n",
       "      <td>0</td>\n",
       "      <td>6</td>\n",
       "      <td>0.700000</td>\n",
       "      <td>0</td>\n",
       "      <td>2</td>\n",
       "    </tr>\n",
       "    <tr>\n",
       "      <th>1</th>\n",
       "      <td>2001</td>\n",
       "      <td>1</td>\n",
       "      <td>2</td>\n",
       "      <td>1</td>\n",
       "      <td>ed</td>\n",
       "      <td>9_7</td>\n",
       "      <td>14:56:22.840000</td>\n",
       "      <td>2</td>\n",
       "      <td>GAIN</td>\n",
       "      <td>low</td>\n",
       "      <td>...</td>\n",
       "      <td>9.0</td>\n",
       "      <td>22168.689525</td>\n",
       "      <td>0.900590</td>\n",
       "      <td>18</td>\n",
       "      <td>1</td>\n",
       "      <td>1</td>\n",
       "      <td>12</td>\n",
       "      <td>0.844828</td>\n",
       "      <td>0</td>\n",
       "      <td>2</td>\n",
       "    </tr>\n",
       "    <tr>\n",
       "      <th>2</th>\n",
       "      <td>2001</td>\n",
       "      <td>1</td>\n",
       "      <td>3</td>\n",
       "      <td>1</td>\n",
       "      <td>ed</td>\n",
       "      <td>9_7</td>\n",
       "      <td>14:56:22.840000</td>\n",
       "      <td>3</td>\n",
       "      <td>GAIN</td>\n",
       "      <td>low</td>\n",
       "      <td>...</td>\n",
       "      <td>8.0</td>\n",
       "      <td>22185.804354</td>\n",
       "      <td>1.129109</td>\n",
       "      <td>18</td>\n",
       "      <td>1</td>\n",
       "      <td>1</td>\n",
       "      <td>14</td>\n",
       "      <td>0.927027</td>\n",
       "      <td>0</td>\n",
       "      <td>2</td>\n",
       "    </tr>\n",
       "    <tr>\n",
       "      <th>3</th>\n",
       "      <td>2001</td>\n",
       "      <td>1</td>\n",
       "      <td>4</td>\n",
       "      <td>1</td>\n",
       "      <td>ed</td>\n",
       "      <td>9_7</td>\n",
       "      <td>14:56:22.840000</td>\n",
       "      <td>4</td>\n",
       "      <td>GAIN</td>\n",
       "      <td>low</td>\n",
       "      <td>...</td>\n",
       "      <td>8.0</td>\n",
       "      <td>22206.712546</td>\n",
       "      <td>1.060679</td>\n",
       "      <td>18</td>\n",
       "      <td>1</td>\n",
       "      <td>1</td>\n",
       "      <td>16</td>\n",
       "      <td>0.967365</td>\n",
       "      <td>0</td>\n",
       "      <td>2</td>\n",
       "    </tr>\n",
       "    <tr>\n",
       "      <th>4</th>\n",
       "      <td>2001</td>\n",
       "      <td>1</td>\n",
       "      <td>5</td>\n",
       "      <td>1</td>\n",
       "      <td>ed</td>\n",
       "      <td>9_7</td>\n",
       "      <td>14:56:22.840000</td>\n",
       "      <td>5</td>\n",
       "      <td>GAIN</td>\n",
       "      <td>low</td>\n",
       "      <td>...</td>\n",
       "      <td>8.0</td>\n",
       "      <td>22223.815899</td>\n",
       "      <td>1.148896</td>\n",
       "      <td>18</td>\n",
       "      <td>1</td>\n",
       "      <td>1</td>\n",
       "      <td>22</td>\n",
       "      <td>0.985748</td>\n",
       "      <td>0</td>\n",
       "      <td>2</td>\n",
       "    </tr>\n",
       "  </tbody>\n",
       "</table>\n",
       "<p>5 rows × 35 columns</p>\n",
       "</div>"
      ],
      "text/plain": [
       "   subjnum  block  trial  agegroup experimentername date             time  \\\n",
       "0     2001      1      1         1               ed  9_7  14:56:22.840000   \n",
       "1     2001      1      2         1               ed  9_7  14:56:22.840000   \n",
       "2     2001      1      3         1               ed  9_7  14:56:22.840000   \n",
       "3     2001      1      4         1               ed  9_7  14:56:22.840000   \n",
       "4     2001      1      5         1               ed  9_7  14:56:22.840000   \n",
       "\n",
       "   trialnumbydomdist domain magnitude  ...  confidence  confidencest  \\\n",
       "0                  1   GAIN       low  ...         9.0  22151.347369   \n",
       "1                  2   GAIN       low  ...         9.0  22168.689525   \n",
       "2                  3   GAIN       low  ...         8.0  22185.804354   \n",
       "3                  4   GAIN       low  ...         8.0  22206.712546   \n",
       "4                  5   GAIN       low  ...         8.0  22223.815899   \n",
       "\n",
       "  confidencert stocknumber bondnumber genderjudgment  bankaccount  trueprob  \\\n",
       "0     2.155163          18          1              0            6  0.700000   \n",
       "1     0.900590          18          1              1           12  0.844828   \n",
       "2     1.129109          18          1              1           14  0.927027   \n",
       "3     1.060679          18          1              1           16  0.967365   \n",
       "4     1.148896          18          1              1           22  0.985748   \n",
       "\n",
       "   estwithinrange? study  \n",
       "0                0     2  \n",
       "1                0     2  \n",
       "2                0     2  \n",
       "3                0     2  \n",
       "4                0     2  \n",
       "\n",
       "[5 rows x 35 columns]"
      ]
     },
     "execution_count": 24,
     "metadata": {},
     "output_type": "execute_result"
    }
   ],
   "source": [
    "main_df_2.head()"
   ]
  },
  {
   "cell_type": "markdown",
   "metadata": {},
   "source": [
    "#### ED-3"
   ]
  },
  {
   "cell_type": "code",
   "execution_count": 25,
   "metadata": {},
   "outputs": [
    {
     "data": {
      "text/html": [
       "<div>\n",
       "<style scoped>\n",
       "    .dataframe tbody tr th:only-of-type {\n",
       "        vertical-align: middle;\n",
       "    }\n",
       "\n",
       "    .dataframe tbody tr th {\n",
       "        vertical-align: top;\n",
       "    }\n",
       "\n",
       "    .dataframe thead th {\n",
       "        text-align: right;\n",
       "    }\n",
       "</style>\n",
       "<table border=\"1\" class=\"dataframe\">\n",
       "  <thead>\n",
       "    <tr style=\"text-align: right;\">\n",
       "      <th></th>\n",
       "      <th>subjnum</th>\n",
       "      <th>block</th>\n",
       "      <th>trial</th>\n",
       "      <th>agegroup</th>\n",
       "      <th>genderjudgment</th>\n",
       "      <th>bankaccount</th>\n",
       "      <th>bypassed</th>\n",
       "      <th>confidence</th>\n",
       "      <th>date</th>\n",
       "      <th>emotionresponse</th>\n",
       "      <th>...</th>\n",
       "      <th>originaltrialnumber</th>\n",
       "      <th>practice</th>\n",
       "      <th>stockfractallocation</th>\n",
       "      <th>stockfractallocationtype</th>\n",
       "      <th>stockpic</th>\n",
       "      <th>stocktext</th>\n",
       "      <th>stocktextlocation</th>\n",
       "      <th>stockvalue</th>\n",
       "      <th>trueprob</th>\n",
       "      <th>study</th>\n",
       "    </tr>\n",
       "  </thead>\n",
       "  <tbody>\n",
       "    <tr>\n",
       "      <th>0</th>\n",
       "      <td>301</td>\n",
       "      <td>5</td>\n",
       "      <td>1</td>\n",
       "      <td>1</td>\n",
       "      <td>1</td>\n",
       "      <td>-6.0</td>\n",
       "      <td>0</td>\n",
       "      <td>8.0</td>\n",
       "      <td>11041300</td>\n",
       "      <td>58</td>\n",
       "      <td>...</td>\n",
       "      <td>1.0</td>\n",
       "      <td>3</td>\n",
       "      <td>(565, 540)</td>\n",
       "      <td>L</td>\n",
       "      <td>fractal12b.jpg</td>\n",
       "      <td>-$2   or  -$10</td>\n",
       "      <td>(640, 510)</td>\n",
       "      <td>-2</td>\n",
       "      <td>0.7</td>\n",
       "      <td>3</td>\n",
       "    </tr>\n",
       "    <tr>\n",
       "      <th>1</th>\n",
       "      <td>301</td>\n",
       "      <td>5</td>\n",
       "      <td>2</td>\n",
       "      <td>1</td>\n",
       "      <td>1</td>\n",
       "      <td>-12.0</td>\n",
       "      <td>0</td>\n",
       "      <td>8.0</td>\n",
       "      <td>11041300</td>\n",
       "      <td>58</td>\n",
       "      <td>...</td>\n",
       "      <td>1.0</td>\n",
       "      <td>3</td>\n",
       "      <td>(1355, 540)</td>\n",
       "      <td>R</td>\n",
       "      <td>fractal12b.jpg</td>\n",
       "      <td>-$2   or  -$10</td>\n",
       "      <td>(1280, 510)</td>\n",
       "      <td>-10</td>\n",
       "      <td>0.5</td>\n",
       "      <td>3</td>\n",
       "    </tr>\n",
       "    <tr>\n",
       "      <th>2</th>\n",
       "      <td>301</td>\n",
       "      <td>5</td>\n",
       "      <td>3</td>\n",
       "      <td>1</td>\n",
       "      <td>1</td>\n",
       "      <td>-18.0</td>\n",
       "      <td>0</td>\n",
       "      <td>7.0</td>\n",
       "      <td>11041300</td>\n",
       "      <td>58</td>\n",
       "      <td>...</td>\n",
       "      <td>1.0</td>\n",
       "      <td>3</td>\n",
       "      <td>(1355, 540)</td>\n",
       "      <td>R</td>\n",
       "      <td>fractal12b.jpg</td>\n",
       "      <td>-$2   or  -$10</td>\n",
       "      <td>(1280, 510)</td>\n",
       "      <td>-10</td>\n",
       "      <td>0.3</td>\n",
       "      <td>3</td>\n",
       "    </tr>\n",
       "    <tr>\n",
       "      <th>3</th>\n",
       "      <td>301</td>\n",
       "      <td>5</td>\n",
       "      <td>4</td>\n",
       "      <td>1</td>\n",
       "      <td>1</td>\n",
       "      <td>-20.0</td>\n",
       "      <td>0</td>\n",
       "      <td>6.0</td>\n",
       "      <td>11041300</td>\n",
       "      <td>58</td>\n",
       "      <td>...</td>\n",
       "      <td>1.0</td>\n",
       "      <td>3</td>\n",
       "      <td>(1355, 540)</td>\n",
       "      <td>R</td>\n",
       "      <td>fractal12b.jpg</td>\n",
       "      <td>-$2   or  -$10</td>\n",
       "      <td>(1280, 510)</td>\n",
       "      <td>-2</td>\n",
       "      <td>0.5</td>\n",
       "      <td>3</td>\n",
       "    </tr>\n",
       "    <tr>\n",
       "      <th>4</th>\n",
       "      <td>301</td>\n",
       "      <td>5</td>\n",
       "      <td>5</td>\n",
       "      <td>1</td>\n",
       "      <td>1</td>\n",
       "      <td>-30.0</td>\n",
       "      <td>0</td>\n",
       "      <td>7.0</td>\n",
       "      <td>11041300</td>\n",
       "      <td>58</td>\n",
       "      <td>...</td>\n",
       "      <td>1.0</td>\n",
       "      <td>3</td>\n",
       "      <td>(1355, 540)</td>\n",
       "      <td>R</td>\n",
       "      <td>fractal12b.jpg</td>\n",
       "      <td>-$2   or  -$10</td>\n",
       "      <td>(1280, 510)</td>\n",
       "      <td>-10</td>\n",
       "      <td>0.3</td>\n",
       "      <td>3</td>\n",
       "    </tr>\n",
       "  </tbody>\n",
       "</table>\n",
       "<p>5 rows × 53 columns</p>\n",
       "</div>"
      ],
      "text/plain": [
       "   subjnum  block  trial  agegroup  genderjudgment  bankaccount  bypassed  \\\n",
       "0      301      5      1         1               1         -6.0         0   \n",
       "1      301      5      2         1               1        -12.0         0   \n",
       "2      301      5      3         1               1        -18.0         0   \n",
       "3      301      5      4         1               1        -20.0         0   \n",
       "4      301      5      5         1               1        -30.0         0   \n",
       "\n",
       "   confidence      date  emotionresponse  ...   originaltrialnumber practice  \\\n",
       "0         8.0  11041300               58  ...                   1.0        3   \n",
       "1         8.0  11041300               58  ...                   1.0        3   \n",
       "2         7.0  11041300               58  ...                   1.0        3   \n",
       "3         6.0  11041300               58  ...                   1.0        3   \n",
       "4         7.0  11041300               58  ...                   1.0        3   \n",
       "\n",
       "   stockfractallocation stockfractallocationtype        stockpic  \\\n",
       "0            (565, 540)                        L  fractal12b.jpg   \n",
       "1           (1355, 540)                        R  fractal12b.jpg   \n",
       "2           (1355, 540)                        R  fractal12b.jpg   \n",
       "3           (1355, 540)                        R  fractal12b.jpg   \n",
       "4           (1355, 540)                        R  fractal12b.jpg   \n",
       "\n",
       "        stocktext  stocktextlocation  stockvalue  trueprob study  \n",
       "0  -$2   or  -$10         (640, 510)          -2       0.7     3  \n",
       "1  -$2   or  -$10        (1280, 510)         -10       0.5     3  \n",
       "2  -$2   or  -$10        (1280, 510)         -10       0.3     3  \n",
       "3  -$2   or  -$10        (1280, 510)          -2       0.5     3  \n",
       "4  -$2   or  -$10        (1280, 510)         -10       0.3     3  \n",
       "\n",
       "[5 rows x 53 columns]"
      ]
     },
     "execution_count": 25,
     "metadata": {},
     "output_type": "execute_result"
    }
   ],
   "source": [
    "main_df_3.head()"
   ]
  },
  {
   "cell_type": "markdown",
   "metadata": {},
   "source": [
    "### Unified columns"
   ]
  },
  {
   "cell_type": "code",
   "execution_count": 26,
   "metadata": {
    "scrolled": true
   },
   "outputs": [
    {
     "name": "stderr",
     "output_type": "stream",
     "text": [
      "c:\\users\\ia406477\\appdata\\local\\programs\\python\\python37-32\\lib\\site-packages\\ipykernel_launcher.py:1: FutureWarning: Sorting because non-concatenation axis is not aligned. A future version\n",
      "of pandas will change to not sort by default.\n",
      "\n",
      "To accept the future behavior, pass 'sort=False'.\n",
      "\n",
      "To retain the current behavior and silence the warning, pass 'sort=True'.\n",
      "\n",
      "  \"\"\"Entry point for launching an IPython kernel.\n"
     ]
    }
   ],
   "source": [
    "main_df_all = pd.concat([main_df_1, main_df_2, main_df_3])"
   ]
  },
  {
   "cell_type": "code",
   "execution_count": 27,
   "metadata": {},
   "outputs": [
    {
     "name": "stdout",
     "output_type": "stream",
     "text": [
      "\n",
      "    INtended for use with DataFrame.apply()\n",
      "\n",
      "    Composes a boolean 'stockchosen' column from atomic indicators:\n",
      "\n",
      "    - Whether the stock was on the left or right side of the screen\n",
      "    - Which button was pressed at selection (left or right)\n",
      "    \n"
     ]
    }
   ],
   "source": [
    "print(clean.clean_stockchosen.__doc__)"
   ]
  },
  {
   "cell_type": "code",
   "execution_count": 28,
   "metadata": {},
   "outputs": [
    {
     "name": "stdout",
     "output_type": "stream",
     "text": [
      "\n",
      "    Intended for use with DataFrame.apply()\n",
      "\n",
      "    Calls the split function from os.path on the 'bondpic' element\n",
      "    \n"
     ]
    }
   ],
   "source": [
    "print(clean.clean_bondpic.__doc__)"
   ]
  },
  {
   "cell_type": "code",
   "execution_count": 29,
   "metadata": {
    "scrolled": true
   },
   "outputs": [
    {
     "data": {
      "text/plain": [
       "18786"
      ]
     },
     "execution_count": 29,
     "metadata": {},
     "output_type": "execute_result"
    }
   ],
   "source": [
    "main_df_all['stockchosen'] = main_df_all.apply(clean.clean_stockchosen, axis=1)\n",
    "main_df_all['bondpic'] = main_df_all.apply(clean.clean_bondpic, axis=1)\n",
    "main_df_all['stockpic'] = main_df_all.apply(clean.clean_stockpic, axis=1)\n",
    "len(main_df_all)"
   ]
  },
  {
   "cell_type": "code",
   "execution_count": 30,
   "metadata": {},
   "outputs": [
    {
     "data": {
      "text/html": [
       "<div>\n",
       "<style scoped>\n",
       "    .dataframe tbody tr th:only-of-type {\n",
       "        vertical-align: middle;\n",
       "    }\n",
       "\n",
       "    .dataframe tbody tr th {\n",
       "        vertical-align: top;\n",
       "    }\n",
       "\n",
       "    .dataframe thead th {\n",
       "        text-align: right;\n",
       "    }\n",
       "</style>\n",
       "<table border=\"1\" class=\"dataframe\">\n",
       "  <thead>\n",
       "    <tr style=\"text-align: right;\">\n",
       "      <th></th>\n",
       "      <th>agegroup</th>\n",
       "      <th>bankaccount</th>\n",
       "      <th>block</th>\n",
       "      <th>bondfractallocation</th>\n",
       "      <th>bondfractallocationtype</th>\n",
       "      <th>bondnumber</th>\n",
       "      <th>bondpic</th>\n",
       "      <th>bondtext</th>\n",
       "      <th>bondtextlocation</th>\n",
       "      <th>bondvalue</th>\n",
       "      <th>...</th>\n",
       "      <th>stockpic</th>\n",
       "      <th>stocktext</th>\n",
       "      <th>stocktextlocation</th>\n",
       "      <th>stockvalue</th>\n",
       "      <th>study</th>\n",
       "      <th>subjnum</th>\n",
       "      <th>time</th>\n",
       "      <th>trial</th>\n",
       "      <th>trialnumbydomdist</th>\n",
       "      <th>trueprob</th>\n",
       "    </tr>\n",
       "  </thead>\n",
       "  <tbody>\n",
       "    <tr>\n",
       "      <th>0</th>\n",
       "      <td>1</td>\n",
       "      <td>-6.0</td>\n",
       "      <td>1</td>\n",
       "      <td>NaN</td>\n",
       "      <td>NaN</td>\n",
       "      <td>9.0</td>\n",
       "      <td>fractal9b.jpg</td>\n",
       "      <td>NaN</td>\n",
       "      <td>NaN</td>\n",
       "      <td>NaN</td>\n",
       "      <td>...</td>\n",
       "      <td>fractal16b.jpg</td>\n",
       "      <td>NaN</td>\n",
       "      <td>NaN</td>\n",
       "      <td>-10</td>\n",
       "      <td>1</td>\n",
       "      <td>100</td>\n",
       "      <td>11:31:01.963000</td>\n",
       "      <td>1</td>\n",
       "      <td>1.0</td>\n",
       "      <td>0.300000</td>\n",
       "    </tr>\n",
       "    <tr>\n",
       "      <th>1</th>\n",
       "      <td>1</td>\n",
       "      <td>-12.0</td>\n",
       "      <td>1</td>\n",
       "      <td>NaN</td>\n",
       "      <td>NaN</td>\n",
       "      <td>9.0</td>\n",
       "      <td>fractal9b.jpg</td>\n",
       "      <td>NaN</td>\n",
       "      <td>NaN</td>\n",
       "      <td>NaN</td>\n",
       "      <td>...</td>\n",
       "      <td>fractal16b.jpg</td>\n",
       "      <td>NaN</td>\n",
       "      <td>NaN</td>\n",
       "      <td>-10</td>\n",
       "      <td>1</td>\n",
       "      <td>100</td>\n",
       "      <td>11:31:01.963000</td>\n",
       "      <td>2</td>\n",
       "      <td>2.0</td>\n",
       "      <td>0.155172</td>\n",
       "    </tr>\n",
       "    <tr>\n",
       "      <th>2</th>\n",
       "      <td>1</td>\n",
       "      <td>-18.0</td>\n",
       "      <td>1</td>\n",
       "      <td>NaN</td>\n",
       "      <td>NaN</td>\n",
       "      <td>9.0</td>\n",
       "      <td>fractal9b.jpg</td>\n",
       "      <td>NaN</td>\n",
       "      <td>NaN</td>\n",
       "      <td>NaN</td>\n",
       "      <td>...</td>\n",
       "      <td>fractal16b.jpg</td>\n",
       "      <td>NaN</td>\n",
       "      <td>NaN</td>\n",
       "      <td>-2</td>\n",
       "      <td>1</td>\n",
       "      <td>100</td>\n",
       "      <td>11:31:01.963000</td>\n",
       "      <td>3</td>\n",
       "      <td>3.0</td>\n",
       "      <td>0.300000</td>\n",
       "    </tr>\n",
       "    <tr>\n",
       "      <th>3</th>\n",
       "      <td>1</td>\n",
       "      <td>-24.0</td>\n",
       "      <td>1</td>\n",
       "      <td>NaN</td>\n",
       "      <td>NaN</td>\n",
       "      <td>9.0</td>\n",
       "      <td>fractal9b.jpg</td>\n",
       "      <td>NaN</td>\n",
       "      <td>NaN</td>\n",
       "      <td>NaN</td>\n",
       "      <td>...</td>\n",
       "      <td>fractal16b.jpg</td>\n",
       "      <td>NaN</td>\n",
       "      <td>NaN</td>\n",
       "      <td>-2</td>\n",
       "      <td>1</td>\n",
       "      <td>100</td>\n",
       "      <td>11:31:01.963000</td>\n",
       "      <td>4</td>\n",
       "      <td>4.0</td>\n",
       "      <td>0.500000</td>\n",
       "    </tr>\n",
       "    <tr>\n",
       "      <th>4</th>\n",
       "      <td>1</td>\n",
       "      <td>-26.0</td>\n",
       "      <td>1</td>\n",
       "      <td>NaN</td>\n",
       "      <td>NaN</td>\n",
       "      <td>9.0</td>\n",
       "      <td>fractal9b.jpg</td>\n",
       "      <td>NaN</td>\n",
       "      <td>NaN</td>\n",
       "      <td>NaN</td>\n",
       "      <td>...</td>\n",
       "      <td>fractal16b.jpg</td>\n",
       "      <td>NaN</td>\n",
       "      <td>NaN</td>\n",
       "      <td>-2</td>\n",
       "      <td>1</td>\n",
       "      <td>100</td>\n",
       "      <td>11:31:01.963000</td>\n",
       "      <td>5</td>\n",
       "      <td>5.0</td>\n",
       "      <td>0.700000</td>\n",
       "    </tr>\n",
       "  </tbody>\n",
       "</table>\n",
       "<p>5 rows × 68 columns</p>\n",
       "</div>"
      ],
      "text/plain": [
       "   agegroup  bankaccount  block bondfractallocation bondfractallocationtype  \\\n",
       "0         1         -6.0      1                 NaN                     NaN   \n",
       "1         1        -12.0      1                 NaN                     NaN   \n",
       "2         1        -18.0      1                 NaN                     NaN   \n",
       "3         1        -24.0      1                 NaN                     NaN   \n",
       "4         1        -26.0      1                 NaN                     NaN   \n",
       "\n",
       "   bondnumber        bondpic bondtext bondtextlocation  bondvalue    ...     \\\n",
       "0         9.0  fractal9b.jpg      NaN              NaN        NaN    ...      \n",
       "1         9.0  fractal9b.jpg      NaN              NaN        NaN    ...      \n",
       "2         9.0  fractal9b.jpg      NaN              NaN        NaN    ...      \n",
       "3         9.0  fractal9b.jpg      NaN              NaN        NaN    ...      \n",
       "4         9.0  fractal9b.jpg      NaN              NaN        NaN    ...      \n",
       "\n",
       "         stockpic  stocktext  stocktextlocation  stockvalue study  subjnum  \\\n",
       "0  fractal16b.jpg        NaN                NaN         -10     1      100   \n",
       "1  fractal16b.jpg        NaN                NaN         -10     1      100   \n",
       "2  fractal16b.jpg        NaN                NaN          -2     1      100   \n",
       "3  fractal16b.jpg        NaN                NaN          -2     1      100   \n",
       "4  fractal16b.jpg        NaN                NaN          -2     1      100   \n",
       "\n",
       "              time trial trialnumbydomdist  trueprob  \n",
       "0  11:31:01.963000     1               1.0  0.300000  \n",
       "1  11:31:01.963000     2               2.0  0.155172  \n",
       "2  11:31:01.963000     3               3.0  0.300000  \n",
       "3  11:31:01.963000     4               4.0  0.500000  \n",
       "4  11:31:01.963000     5               5.0  0.700000  \n",
       "\n",
       "[5 rows x 68 columns]"
      ]
     },
     "execution_count": 30,
     "metadata": {},
     "output_type": "execute_result"
    }
   ],
   "source": [
    "main_df_all.head()"
   ]
  },
  {
   "cell_type": "markdown",
   "metadata": {},
   "source": [
    "# Fractal Memory"
   ]
  },
  {
   "cell_type": "markdown",
   "metadata": {},
   "source": [
    "#### ED-1"
   ]
  },
  {
   "cell_type": "code",
   "execution_count": 31,
   "metadata": {
    "scrolled": true
   },
   "outputs": [],
   "source": [
    "frac_df_1['oldfractal'] = frac_df_1.apply(clean.clean_paths, axis=1)"
   ]
  },
  {
   "cell_type": "code",
   "execution_count": 32,
   "metadata": {
    "scrolled": true
   },
   "outputs": [],
   "source": [
    "frac_lil_df_1 = frac_df_1[['subjectid','oldfractal','judgment']].sort_values(['subjectid','oldfractal'])"
   ]
  },
  {
   "cell_type": "code",
   "execution_count": 33,
   "metadata": {
    "scrolled": true
   },
   "outputs": [],
   "source": [
    "frac_lil_bond_df_1 = frac_lil_df_1.rename(columns={\n",
    "    'subjectid':'subjnum','oldfractal':'bondpic','judgment':'bondmem'\n",
    "})"
   ]
  },
  {
   "cell_type": "code",
   "execution_count": 34,
   "metadata": {
    "scrolled": true
   },
   "outputs": [],
   "source": [
    "frac_lil_stock_df_1 = frac_lil_df_1.rename(columns={\n",
    "    'subjectid':'subjnum','oldfractal':'stockpic','judgment':'stockmem'\n",
    "})"
   ]
  },
  {
   "cell_type": "markdown",
   "metadata": {},
   "source": [
    "#### ED-2"
   ]
  },
  {
   "cell_type": "code",
   "execution_count": 35,
   "metadata": {
    "scrolled": true
   },
   "outputs": [],
   "source": [
    "frac_df_2['oldfractal'] = frac_df_2.apply(clean.clean_paths, axis=1)"
   ]
  },
  {
   "cell_type": "code",
   "execution_count": 36,
   "metadata": {
    "scrolled": true
   },
   "outputs": [],
   "source": [
    "frac_lil_df_2 = frac_df_2[['subjectid','oldfractal','judgment']].sort_values(['subjectid','oldfractal'])"
   ]
  },
  {
   "cell_type": "code",
   "execution_count": 37,
   "metadata": {
    "scrolled": true
   },
   "outputs": [],
   "source": [
    "frac_lil_bond_df_2 = frac_lil_df_2.rename(columns={\n",
    "    'subjectid':'subjnum','oldfractal':'bondpic','judgment':'bondmem'\n",
    "})"
   ]
  },
  {
   "cell_type": "code",
   "execution_count": 38,
   "metadata": {
    "scrolled": true
   },
   "outputs": [],
   "source": [
    "frac_lil_stock_df_2 = frac_lil_df_2.rename(columns={\n",
    "    'subjectid':'subjnum','oldfractal':'stockpic','judgment':'stockmem'\n",
    "})"
   ]
  },
  {
   "cell_type": "markdown",
   "metadata": {},
   "source": [
    "#### ED-3"
   ]
  },
  {
   "cell_type": "code",
   "execution_count": 39,
   "metadata": {},
   "outputs": [
    {
     "name": "stderr",
     "output_type": "stream",
     "text": [
      "c:\\users\\ia406477\\appdata\\local\\programs\\python\\python37-32\\lib\\site-packages\\ipykernel_launcher.py:2: SettingWithCopyWarning: \n",
      "A value is trying to be set on a copy of a slice from a DataFrame.\n",
      "Try using .loc[row_indexer,col_indexer] = value instead\n",
      "\n",
      "See the caveats in the documentation: http://pandas.pydata.org/pandas-docs/stable/indexing.html#indexing-view-versus-copy\n",
      "  \n"
     ]
    }
   ],
   "source": [
    "frac_lil_df_3 = frac_df_3[['originalparticipant','correctfractal','selection','correctfractallocation']]\n",
    "frac_lil_df_3['selection'] = frac_lil_df_3.apply(clean.clean_selection, axis=1)"
   ]
  },
  {
   "cell_type": "code",
   "execution_count": 40,
   "metadata": {},
   "outputs": [],
   "source": [
    "frac_lil_bond_df_3 = frac_lil_df_3.rename(columns={\n",
    "    'originalparticipant':'subjnum',\n",
    "    'correctfractal':'bondpic',\n",
    "    'selection':'bondmem'\n",
    "}).drop(columns='correctfractallocation')\n",
    "\n",
    "frac_lil_stock_df_3 = frac_lil_df_3.rename(columns={\n",
    "    'originalparticipant':'subjnum',\n",
    "    'correctfractal':'stockpic',\n",
    "    'selection':'stockmem'\n",
    "}).drop(columns='correctfractallocation')"
   ]
  },
  {
   "cell_type": "markdown",
   "metadata": {},
   "source": [
    "## Concatenate ED-1, ED-2, ED-3 Fractal Memory"
   ]
  },
  {
   "cell_type": "code",
   "execution_count": 41,
   "metadata": {},
   "outputs": [],
   "source": [
    "frac_lil_bond_df = pd.concat([\n",
    "    frac_lil_bond_df_1, frac_lil_bond_df_2, frac_lil_bond_df_3\n",
    "])\n",
    "\n",
    "frac_lil_stock_df = pd.concat([\n",
    "    frac_lil_stock_df_1, frac_lil_stock_df_2, frac_lil_stock_df_3\n",
    "])"
   ]
  },
  {
   "cell_type": "markdown",
   "metadata": {},
   "source": [
    "# Face Memory"
   ]
  },
  {
   "cell_type": "markdown",
   "metadata": {},
   "source": [
    "#### ED-1"
   ]
  },
  {
   "cell_type": "code",
   "execution_count": 42,
   "metadata": {},
   "outputs": [],
   "source": [
    "face_lil_df_1 = face_df_1[['subjectid','face','subjresp']]\n",
    "face_lil_df_1 = face_lil_df_1.rename(columns={\n",
    "    'subjectid':'subjnum','face':'facepic','subjresp':'facemem'\n",
    "})"
   ]
  },
  {
   "cell_type": "markdown",
   "metadata": {},
   "source": [
    "#### ED-2"
   ]
  },
  {
   "cell_type": "code",
   "execution_count": 43,
   "metadata": {},
   "outputs": [],
   "source": [
    "face_lil_df_2 = face_df_2[['subjectid','face','subjresp']]\n",
    "face_lil_df_2 = face_lil_df_2.rename(columns={\n",
    "    'subjectid':'subjnum','face':'facepic','subjresp':'facemem'\n",
    "})"
   ]
  },
  {
   "cell_type": "markdown",
   "metadata": {},
   "source": [
    "#### ED-3"
   ]
  },
  {
   "cell_type": "code",
   "execution_count": 44,
   "metadata": {},
   "outputs": [],
   "source": [
    "face_lil_df_3 = face_df_3[\n",
    "    ['originalparticipant','facefile','selection']\n",
    "].rename(columns={\n",
    "    'originalparticipant':'subjnum',\n",
    "    'facefile':'facepic',\n",
    "    'selection':'facemem'\n",
    "})"
   ]
  },
  {
   "cell_type": "markdown",
   "metadata": {},
   "source": [
    "## Concatenate ED-1, ED-2, ED-3"
   ]
  },
  {
   "cell_type": "code",
   "execution_count": 45,
   "metadata": {},
   "outputs": [],
   "source": [
    "face_lil_df = pd.concat([\n",
    "    face_lil_df_1, face_lil_df_2, face_lil_df_3\n",
    "])"
   ]
  },
  {
   "cell_type": "markdown",
   "metadata": {},
   "source": [
    "# Reintroduce contextual memory data"
   ]
  },
  {
   "cell_type": "code",
   "execution_count": 46,
   "metadata": {},
   "outputs": [],
   "source": [
    "main_df_all = main_df_all.merge(frac_lil_bond_df, how='left')\n",
    "main_df_all = main_df_all.merge(frac_lil_stock_df, how='left')\n",
    "main_df_all = main_df_all.merge(face_lil_df, how='left')\n",
    "# unified_main_frame[['subjnum','stockpic','bondpic','stockmem','bondmem']]"
   ]
  },
  {
   "cell_type": "code",
   "execution_count": 47,
   "metadata": {},
   "outputs": [],
   "source": [
    "trials=[]\n",
    "for s in range(len(main_df_all.subjnum.unique())):\n",
    "    for t in range(1,73):\n",
    "        trials.append(t)"
   ]
  },
  {
   "cell_type": "code",
   "execution_count": 48,
   "metadata": {},
   "outputs": [],
   "source": [
    "blocks=[]\n",
    "for s in range(len(main_df_all.subjnum.unique())):\n",
    "    for b in range(1,13):\n",
    "        for x in range(6):\n",
    "            blocks.append(b)"
   ]
  },
  {
   "cell_type": "markdown",
   "metadata": {},
   "source": [
    "## Check size\n",
    "Final merged DataFrame compared to expected number of blocks & trials:"
   ]
  },
  {
   "cell_type": "code",
   "execution_count": 49,
   "metadata": {},
   "outputs": [
    {
     "name": "stdout",
     "output_type": "stream",
     "text": [
      "18792\n",
      "18792\n",
      "18786\n"
     ]
    }
   ],
   "source": [
    "print(len(blocks))\n",
    "print(len(trials))\n",
    "print(len(main_df_all))"
   ]
  },
  {
   "cell_type": "markdown",
   "metadata": {},
   "source": [
    "6 ED3 subjects are missing a trial so the trial and block numbers won't match up here."
   ]
  },
  {
   "cell_type": "raw",
   "metadata": {},
   "source": [
    "assert len(blocks) == len(trials)\n",
    "assert len(trials) == len(main_df_all)"
   ]
  },
  {
   "cell_type": "raw",
   "metadata": {},
   "source": [
    "main_df_all['trial'] = pd.Series(trials)\n",
    "main_df_all['block'] = pd.Series(blocks)"
   ]
  },
  {
   "cell_type": "markdown",
   "metadata": {},
   "source": [
    "# Drop Unnecessary Columns?"
   ]
  },
  {
   "cell_type": "raw",
   "metadata": {},
   "source": [
    "df_1_drop_columns = [\n",
    "    'agegroup','experimentername','date','time','trialnumbydomdist',\n",
    "    'choicest','outcomest','esttaskst',\n",
    "    'confidencest','stocknumber','bondnumber','genderjudgment',\n",
    "    'fractalchosen','estwithinrange?','confidencert'\n",
    "]\n",
    "df_2_drop_columns = df_1_drop_columns"
   ]
  },
  {
   "cell_type": "raw",
   "metadata": {},
   "source": [
    "df_3_drop_columns = [\n",
    "    'practice','bubblefile','bondvalue','stocktext','bondtext',\n",
    "    'stocktextlocation','bondtextlocation','emotionresponse','bypassed','agegroup','experimentername',\n",
    "    'date','correctfractallocation','incorrectfractallocation','paymentaccuracy','phase',\n",
    "    'stockfractallocation','bondfractallocation','stockfractallocationtype','bondfractallocationtype',\n",
    "    'showinstruction','gender','selection',\n",
    "    'correctfractal','incorectfractal','oldfaceequalstrue','facefile','facekeypressed',\n",
    "    'originalsubjectnumber','originalparticipantnumber','originaltrialnumber','originaltrailnumber',\n",
    "    'fracdomain','facedomain','fracmagnitude','facestockvalue','genderjudgment',\n",
    "    \n",
    "]"
   ]
  },
  {
   "cell_type": "raw",
   "metadata": {},
   "source": [
    "main_df_1 = main_df_1.drop(df_1_drop_columns, axis=1)\n",
    "main_df_2 = main_df_2.drop(df_2_drop_columns, axis=1)\n",
    "main_df_3 = main_df_3.drop(df_3_drop_columns, axis=1)"
   ]
  },
  {
   "cell_type": "code",
   "execution_count": 50,
   "metadata": {},
   "outputs": [],
   "source": [
    "df_all_drop_columns = [\n",
    "    'agegroup','experimentername','date','time','trialnumbydomdist',\n",
    "    'choicest','outcomest','esttaskst',\n",
    "    'confidencest','stocknumber','bondnumber','genderjudgment',\n",
    "    'fractalchosen','estwithinrange?','confidencert',\n",
    "    'practice','bubblefile','bondvalue','stocktext','bondtext',\n",
    "    'stocktextlocation','bondtextlocation','emotionresponse','bypassed','agegroup','experimentername',\n",
    "    'date','correctfractallocation','incorrectfractallocation','paymentaccuracy','phase',\n",
    "    'stockfractallocation','bondfractallocation','stockfractallocationtype','bondfractallocationtype',\n",
    "    'showinstruction','gender','selection','cueonleft','cueonright',\n",
    "    'correctfractal','incorectfractal','oldfaceequalstrue','facefile','facekeypressed',\n",
    "    'originalsubjectnumber','originalparticipantnumber','originaltrialnumber','originaltrailnumber',\n",
    "    'fracdomain','facedomain','fracmagnitude','facestockvalue','genderjudgment',\n",
    "]"
   ]
  },
  {
   "cell_type": "markdown",
   "metadata": {},
   "source": [
    "We're not using any of the columns listed above. There's no real reason to remove the data, but it makes the output cleaner and easier to look at without all the extraneous information."
   ]
  },
  {
   "cell_type": "code",
   "execution_count": 51,
   "metadata": {},
   "outputs": [],
   "source": [
    "main_df_all = main_df_all.drop(df_all_drop_columns, axis=1).set_index([\n",
    "    'subjnum','block','trial'\n",
    "]).reset_index()"
   ]
  },
  {
   "cell_type": "markdown",
   "metadata": {},
   "source": [
    "# Output\n",
    "\n",
    "ONly when all data is fully aligned and homogenized.\n",
    "\n",
    "**ALL** cleaning steps should be done before this point."
   ]
  },
  {
   "cell_type": "code",
   "execution_count": 52,
   "metadata": {},
   "outputs": [],
   "source": [
    "homog_dir = derivs_dir / '02.homogenized'\n",
    "if not Path.exists(homog_dir):\n",
    "    Path.mkdir(homog_dir)"
   ]
  },
  {
   "cell_type": "code",
   "execution_count": 53,
   "metadata": {},
   "outputs": [],
   "source": [
    "fpath = homog_dir  / ('econdec-full_task-main_beh_' + date + '.csv')\n",
    "main_df_all.to_csv(fpath, index=False)"
   ]
  },
  {
   "cell_type": "code",
   "execution_count": 54,
   "metadata": {},
   "outputs": [
    {
     "data": {
      "text/plain": [
       "261"
      ]
     },
     "execution_count": 54,
     "metadata": {},
     "output_type": "execute_result"
    }
   ],
   "source": [
    "len(main_df_all.subjnum.unique())"
   ]
  },
  {
   "cell_type": "markdown",
   "metadata": {},
   "source": [
    "For reference:\n",
    "\n",
    "```\n",
    "final_columns=['study','subjnum','trial','block','domain','dom',\n",
    "               'estimation','trueprob','estdiff','valestdiff','valestdiffvalid',\n",
    "               'choicert','choicerta3sd','choicerti3sd','choicemed12v3','choicemed123'\n",
    "               'esttaskrt','esttaskrta3sd','esttaskrti3sd',\n",
    "               'outcomert','outcomerta3sd','outcomerti3sd','outcomemed12','outcomemed123'\n",
    "               'stockchosen','waschoiceoptimal','optimalchoiceshouldhavebeen',\n",
    "               'magnitude','stockvalue','absstockval','b4choiceprobability',\n",
    "               'stockpic','bondpic','facepic','stockmemresp','bondmemresp',\n",
    "               'studymedchoice','studysplitchoice','studymedoutcome','studysplitoutcome',\n",
    "               'primemedchoice','primesplitchoice','primemedoutcome','primesplitoutcome']\n",
    "               ```"
   ]
  }
 ],
 "metadata": {
  "kernelspec": {
   "display_name": "Python 3",
   "language": "python",
   "name": "python3"
  },
  "language_info": {
   "codemirror_mode": {
    "name": "ipython",
    "version": 3
   },
   "file_extension": ".py",
   "mimetype": "text/x-python",
   "name": "python",
   "nbconvert_exporter": "python",
   "pygments_lexer": "ipython3",
   "version": "3.7.0"
  }
 },
 "nbformat": 4,
 "nbformat_minor": 2
}
