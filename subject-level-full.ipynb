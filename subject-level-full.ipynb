{
 "cells": [
  {
   "cell_type": "code",
   "execution_count": 126,
   "metadata": {
    "collapsed": true
   },
   "outputs": [],
   "source": [
    "import os\n",
    "import pandas as pd\n",
    "import numpy as np"
   ]
  },
  {
   "cell_type": "code",
   "execution_count": 2,
   "metadata": {
    "collapsed": true
   },
   "outputs": [],
   "source": [
    "derivs_dir = os.path.join('..','derivatives')\n",
    "scales_dir = os.path.join(derivs_dir,'qualtrics','2.subscaled')\n",
    "output_dir = os.path.join(derivs_dir,'subject-level')"
   ]
  },
  {
   "cell_type": "code",
   "execution_count": 8,
   "metadata": {},
   "outputs": [
    {
     "name": "stdout",
     "output_type": "stream",
     "text": [
      "[Error 183] Cannot create a file when that file already exists: '..\\\\derivatives\\\\subject-level'\n"
     ]
    }
   ],
   "source": [
    "try:os.mkdir(output_dir)\n",
    "except WindowsError as e: print(e)"
   ]
  },
  {
   "cell_type": "markdown",
   "metadata": {},
   "source": [
    "Import data"
   ]
  },
  {
   "cell_type": "code",
   "execution_count": 10,
   "metadata": {
    "collapsed": true,
    "scrolled": true
   },
   "outputs": [],
   "source": [
    "fname=os.path.join(derivs_dir,'sub-all_task-all_VALUES.xlsx')\n",
    "behav_data = pd.read_excel(fname)"
   ]
  },
  {
   "cell_type": "code",
   "execution_count": 14,
   "metadata": {
    "collapsed": true
   },
   "outputs": [],
   "source": [
    "fname=os.path.join(scales_dir,'all_subscales.csv')\n",
    "scale_data = pd.read_csv(fname)"
   ]
  },
  {
   "cell_type": "code",
   "execution_count": 15,
   "metadata": {},
   "outputs": [
    {
     "data": {
      "text/html": [
       "<div>\n",
       "<style scoped>\n",
       "    .dataframe tbody tr th:only-of-type {\n",
       "        vertical-align: middle;\n",
       "    }\n",
       "\n",
       "    .dataframe tbody tr th {\n",
       "        vertical-align: top;\n",
       "    }\n",
       "\n",
       "    .dataframe thead th {\n",
       "        text-align: right;\n",
       "    }\n",
       "</style>\n",
       "<table border=\"1\" class=\"dataframe\">\n",
       "  <thead>\n",
       "    <tr style=\"text-align: right;\">\n",
       "      <th></th>\n",
       "      <th>ssid</th>\n",
       "      <th>ZIP</th>\n",
       "      <th>Relative Sleep</th>\n",
       "      <th>Relative Stress</th>\n",
       "      <th>Financial Difficulty</th>\n",
       "      <th>PAS</th>\n",
       "      <th>NAS</th>\n",
       "      <th>BAS Drive</th>\n",
       "      <th>BAS Fun Seeking</th>\n",
       "      <th>BAS Reward Responsiveness</th>\n",
       "      <th>BIS</th>\n",
       "      <th>Intuitive DMS</th>\n",
       "      <th>Rational DMS</th>\n",
       "      <th>Dependent DMS</th>\n",
       "      <th>Spontaneous DMS</th>\n",
       "      <th>Avoidant DMS</th>\n",
       "      <th>Financial Literacy</th>\n",
       "    </tr>\n",
       "  </thead>\n",
       "  <tbody>\n",
       "    <tr>\n",
       "      <th>0</th>\n",
       "      <td>201.0</td>\n",
       "      <td>00233</td>\n",
       "      <td>-1.0</td>\n",
       "      <td>1.0</td>\n",
       "      <td>1.0</td>\n",
       "      <td>32.0</td>\n",
       "      <td>17.0</td>\n",
       "      <td>12.0</td>\n",
       "      <td>8.0</td>\n",
       "      <td>20.0</td>\n",
       "      <td>20.0</td>\n",
       "      <td>18.0</td>\n",
       "      <td>22.0</td>\n",
       "      <td>21.0</td>\n",
       "      <td>11.0</td>\n",
       "      <td>16.0</td>\n",
       "      <td>1.0</td>\n",
       "    </tr>\n",
       "    <tr>\n",
       "      <th>1</th>\n",
       "      <td>202.0</td>\n",
       "      <td>34109</td>\n",
       "      <td>0.0</td>\n",
       "      <td>-1.0</td>\n",
       "      <td>0.0</td>\n",
       "      <td>39.0</td>\n",
       "      <td>10.0</td>\n",
       "      <td>13.0</td>\n",
       "      <td>15.0</td>\n",
       "      <td>20.0</td>\n",
       "      <td>16.0</td>\n",
       "      <td>24.0</td>\n",
       "      <td>25.0</td>\n",
       "      <td>8.0</td>\n",
       "      <td>15.0</td>\n",
       "      <td>9.0</td>\n",
       "      <td>1.0</td>\n",
       "    </tr>\n",
       "    <tr>\n",
       "      <th>2</th>\n",
       "      <td>203.0</td>\n",
       "      <td>33071</td>\n",
       "      <td>-1.0</td>\n",
       "      <td>0.0</td>\n",
       "      <td>0.0</td>\n",
       "      <td>33.0</td>\n",
       "      <td>13.0</td>\n",
       "      <td>13.0</td>\n",
       "      <td>13.0</td>\n",
       "      <td>20.0</td>\n",
       "      <td>25.0</td>\n",
       "      <td>18.0</td>\n",
       "      <td>20.0</td>\n",
       "      <td>25.0</td>\n",
       "      <td>15.0</td>\n",
       "      <td>23.0</td>\n",
       "      <td>1.0</td>\n",
       "    </tr>\n",
       "    <tr>\n",
       "      <th>3</th>\n",
       "      <td>146.0</td>\n",
       "      <td>32828</td>\n",
       "      <td>0.0</td>\n",
       "      <td>0.0</td>\n",
       "      <td>0.0</td>\n",
       "      <td>36.0</td>\n",
       "      <td>15.0</td>\n",
       "      <td>12.0</td>\n",
       "      <td>11.0</td>\n",
       "      <td>17.0</td>\n",
       "      <td>21.0</td>\n",
       "      <td>16.0</td>\n",
       "      <td>22.0</td>\n",
       "      <td>17.0</td>\n",
       "      <td>7.0</td>\n",
       "      <td>13.0</td>\n",
       "      <td>0.0</td>\n",
       "    </tr>\n",
       "    <tr>\n",
       "      <th>4</th>\n",
       "      <td>205.0</td>\n",
       "      <td>33027</td>\n",
       "      <td>-1.0</td>\n",
       "      <td>-1.0</td>\n",
       "      <td>1.0</td>\n",
       "      <td>26.0</td>\n",
       "      <td>25.0</td>\n",
       "      <td>14.0</td>\n",
       "      <td>12.0</td>\n",
       "      <td>19.0</td>\n",
       "      <td>24.0</td>\n",
       "      <td>23.0</td>\n",
       "      <td>23.0</td>\n",
       "      <td>22.0</td>\n",
       "      <td>14.0</td>\n",
       "      <td>14.0</td>\n",
       "      <td>2.0</td>\n",
       "    </tr>\n",
       "  </tbody>\n",
       "</table>\n",
       "</div>"
      ],
      "text/plain": [
       "    ssid    ZIP  Relative Sleep  Relative Stress  Financial Difficulty   PAS  \\\n",
       "0  201.0  00233            -1.0              1.0                   1.0  32.0   \n",
       "1  202.0  34109             0.0             -1.0                   0.0  39.0   \n",
       "2  203.0  33071            -1.0              0.0                   0.0  33.0   \n",
       "3  146.0  32828             0.0              0.0                   0.0  36.0   \n",
       "4  205.0  33027            -1.0             -1.0                   1.0  26.0   \n",
       "\n",
       "    NAS  BAS Drive  BAS Fun Seeking  BAS Reward Responsiveness   BIS  \\\n",
       "0  17.0       12.0              8.0                       20.0  20.0   \n",
       "1  10.0       13.0             15.0                       20.0  16.0   \n",
       "2  13.0       13.0             13.0                       20.0  25.0   \n",
       "3  15.0       12.0             11.0                       17.0  21.0   \n",
       "4  25.0       14.0             12.0                       19.0  24.0   \n",
       "\n",
       "   Intuitive DMS  Rational DMS  Dependent DMS  Spontaneous DMS  Avoidant DMS  \\\n",
       "0           18.0          22.0           21.0             11.0          16.0   \n",
       "1           24.0          25.0            8.0             15.0           9.0   \n",
       "2           18.0          20.0           25.0             15.0          23.0   \n",
       "3           16.0          22.0           17.0              7.0          13.0   \n",
       "4           23.0          23.0           22.0             14.0          14.0   \n",
       "\n",
       "   Financial Literacy  \n",
       "0                 1.0  \n",
       "1                 1.0  \n",
       "2                 1.0  \n",
       "3                 0.0  \n",
       "4                 2.0  "
      ]
     },
     "execution_count": 15,
     "metadata": {},
     "output_type": "execute_result"
    }
   ],
   "source": [
    "scale_data.head()"
   ]
  },
  {
   "cell_type": "markdown",
   "metadata": {},
   "source": [
    "Normalize PANAS and BISBAS subscales"
   ]
  },
  {
   "cell_type": "markdown",
   "metadata": {},
   "source": [
    "3sd trial exclusions"
   ]
  },
  {
   "cell_type": "code",
   "execution_count": 205,
   "metadata": {
    "collapsed": true,
    "scrolled": true
   },
   "outputs": [],
   "source": [
    "df=behav_data[['subjnum','block','trial','domain','estimation','trueprob','val-estdiff-valid']]"
   ]
  },
  {
   "cell_type": "code",
   "execution_count": 206,
   "metadata": {
    "scrolled": true
   },
   "outputs": [
    {
     "data": {
      "text/plain": [
       "subjnum\n",
       "100    0.548469\n",
       "101    0.262039\n",
       "102    0.358415\n",
       "103    0.620042\n",
       "104    0.809025\n",
       "Name: val-estdiff-valid, dtype: float64"
      ]
     },
     "execution_count": 206,
     "metadata": {},
     "output_type": "execute_result"
    }
   ],
   "source": [
    "subj_3sd = df.groupby('subjnum').std()['val-estdiff-valid'] * 3\n",
    "subj_3sd.head()"
   ]
  },
  {
   "cell_type": "code",
   "execution_count": 207,
   "metadata": {},
   "outputs": [
    {
     "data": {
      "text/plain": [
       "subjnum\n",
       "100    0.046724\n",
       "101   -0.014427\n",
       "102    0.014467\n",
       "103    0.036173\n",
       "104    0.070082\n",
       "Name: val-estdiff-valid, dtype: float64"
      ]
     },
     "execution_count": 207,
     "metadata": {},
     "output_type": "execute_result"
    }
   ],
   "source": [
    "subj_means = df.groupby('subjnum').mean()['val-estdiff-valid']\n",
    "subj_means.head()"
   ]
  },
  {
   "cell_type": "code",
   "execution_count": 208,
   "metadata": {
    "collapsed": true
   },
   "outputs": [],
   "source": [
    "def exclude_3sd(row):\n",
    "    ssid,val = row['subjnum'],row['val-estdiff-valid']\n",
    "    mean,bound = subj_means[ssid],subj_3sd[ssid]\n",
    "    diff = abs(val - mean)\n",
    "    if diff < bound:\n",
    "        return(val)\n",
    "    else: return(np.nan)\n",
    "    "
   ]
  },
  {
   "cell_type": "code",
   "execution_count": 211,
   "metadata": {
    "scrolled": true
   },
   "outputs": [
    {
     "name": "stderr",
     "output_type": "stream",
     "text": [
      "C:\\Users\\ia406477\\AppData\\Local\\Continuum\\anaconda2\\lib\\site-packages\\ipykernel_launcher.py:1: SettingWithCopyWarning: \n",
      "A value is trying to be set on a copy of a slice from a DataFrame.\n",
      "Try using .loc[row_indexer,col_indexer] = value instead\n",
      "\n",
      "See the caveats in the documentation: http://pandas.pydata.org/pandas-docs/stable/indexing.html#indexing-view-versus-copy\n",
      "  \"\"\"Entry point for launching an IPython kernel.\n"
     ]
    },
    {
     "data": {
      "text/html": [
       "<div>\n",
       "<style scoped>\n",
       "    .dataframe tbody tr th:only-of-type {\n",
       "        vertical-align: middle;\n",
       "    }\n",
       "\n",
       "    .dataframe tbody tr th {\n",
       "        vertical-align: top;\n",
       "    }\n",
       "\n",
       "    .dataframe thead th {\n",
       "        text-align: right;\n",
       "    }\n",
       "</style>\n",
       "<table border=\"1\" class=\"dataframe\">\n",
       "  <thead>\n",
       "    <tr style=\"text-align: right;\">\n",
       "      <th></th>\n",
       "      <th>subjnum</th>\n",
       "      <th>block</th>\n",
       "      <th>trial</th>\n",
       "      <th>domain</th>\n",
       "      <th>estimation</th>\n",
       "      <th>trueprob</th>\n",
       "      <th>val-estdiff-valid</th>\n",
       "      <th>val-error-3sd</th>\n",
       "    </tr>\n",
       "  </thead>\n",
       "  <tbody>\n",
       "    <tr>\n",
       "      <th>0</th>\n",
       "      <td>100</td>\n",
       "      <td>1</td>\n",
       "      <td>1</td>\n",
       "      <td>LOSS</td>\n",
       "      <td>50</td>\n",
       "      <td>0.300000</td>\n",
       "      <td>2.000001e-01</td>\n",
       "      <td>2.000001e-01</td>\n",
       "    </tr>\n",
       "    <tr>\n",
       "      <th>1</th>\n",
       "      <td>100</td>\n",
       "      <td>1</td>\n",
       "      <td>2</td>\n",
       "      <td>LOSS</td>\n",
       "      <td>30</td>\n",
       "      <td>0.155172</td>\n",
       "      <td>1.448277e-01</td>\n",
       "      <td>1.448277e-01</td>\n",
       "    </tr>\n",
       "    <tr>\n",
       "      <th>2</th>\n",
       "      <td>100</td>\n",
       "      <td>1</td>\n",
       "      <td>3</td>\n",
       "      <td>LOSS</td>\n",
       "      <td>30</td>\n",
       "      <td>0.300000</td>\n",
       "      <td>1.038193e-07</td>\n",
       "      <td>1.038193e-07</td>\n",
       "    </tr>\n",
       "    <tr>\n",
       "      <th>3</th>\n",
       "      <td>100</td>\n",
       "      <td>1</td>\n",
       "      <td>4</td>\n",
       "      <td>LOSS</td>\n",
       "      <td>40</td>\n",
       "      <td>0.500000</td>\n",
       "      <td>-1.000000e-01</td>\n",
       "      <td>-1.000000e-01</td>\n",
       "    </tr>\n",
       "    <tr>\n",
       "      <th>4</th>\n",
       "      <td>100</td>\n",
       "      <td>1</td>\n",
       "      <td>5</td>\n",
       "      <td>LOSS</td>\n",
       "      <td>60</td>\n",
       "      <td>0.700000</td>\n",
       "      <td>-1.000001e-01</td>\n",
       "      <td>-1.000001e-01</td>\n",
       "    </tr>\n",
       "  </tbody>\n",
       "</table>\n",
       "</div>"
      ],
      "text/plain": [
       "   subjnum  block  trial domain estimation  trueprob  val-estdiff-valid  \\\n",
       "0      100      1      1   LOSS         50  0.300000       2.000001e-01   \n",
       "1      100      1      2   LOSS         30  0.155172       1.448277e-01   \n",
       "2      100      1      3   LOSS         30  0.300000       1.038193e-07   \n",
       "3      100      1      4   LOSS         40  0.500000      -1.000000e-01   \n",
       "4      100      1      5   LOSS         60  0.700000      -1.000001e-01   \n",
       "\n",
       "   val-error-3sd  \n",
       "0   2.000001e-01  \n",
       "1   1.448277e-01  \n",
       "2   1.038193e-07  \n",
       "3  -1.000000e-01  \n",
       "4  -1.000001e-01  "
      ]
     },
     "execution_count": 211,
     "metadata": {},
     "output_type": "execute_result"
    }
   ],
   "source": [
    "df['val-error-3sd'] = df.apply(exclude_3sd,axis=1)\n",
    "df.head()"
   ]
  },
  {
   "cell_type": "markdown",
   "metadata": {},
   "source": [
    "subject-level means"
   ]
  },
  {
   "cell_type": "code",
   "execution_count": 238,
   "metadata": {},
   "outputs": [
    {
     "data": {
      "text/html": [
       "<div>\n",
       "<style scoped>\n",
       "    .dataframe tbody tr th:only-of-type {\n",
       "        vertical-align: middle;\n",
       "    }\n",
       "\n",
       "    .dataframe tbody tr th {\n",
       "        vertical-align: top;\n",
       "    }\n",
       "\n",
       "    .dataframe thead th {\n",
       "        text-align: right;\n",
       "    }\n",
       "</style>\n",
       "<table border=\"1\" class=\"dataframe\">\n",
       "  <thead>\n",
       "    <tr style=\"text-align: right;\">\n",
       "      <th></th>\n",
       "      <th>subjnum</th>\n",
       "      <th>domain</th>\n",
       "      <th>block</th>\n",
       "      <th>trial</th>\n",
       "      <th>trueprob</th>\n",
       "      <th>val-estdiff-valid</th>\n",
       "      <th>val-error-3sd</th>\n",
       "    </tr>\n",
       "  </thead>\n",
       "  <tbody>\n",
       "    <tr>\n",
       "      <th>0</th>\n",
       "      <td>100</td>\n",
       "      <td>GAIN</td>\n",
       "      <td>6.666667</td>\n",
       "      <td>37.5</td>\n",
       "      <td>0.333548</td>\n",
       "      <td>0.102563</td>\n",
       "      <td>0.102563</td>\n",
       "    </tr>\n",
       "    <tr>\n",
       "      <th>1</th>\n",
       "      <td>100</td>\n",
       "      <td>LOSS</td>\n",
       "      <td>6.333333</td>\n",
       "      <td>35.5</td>\n",
       "      <td>0.473004</td>\n",
       "      <td>-0.009115</td>\n",
       "      <td>-0.009115</td>\n",
       "    </tr>\n",
       "    <tr>\n",
       "      <th>2</th>\n",
       "      <td>101</td>\n",
       "      <td>GAIN</td>\n",
       "      <td>7.500000</td>\n",
       "      <td>42.5</td>\n",
       "      <td>0.552187</td>\n",
       "      <td>0.003091</td>\n",
       "      <td>0.003091</td>\n",
       "    </tr>\n",
       "    <tr>\n",
       "      <th>3</th>\n",
       "      <td>101</td>\n",
       "      <td>LOSS</td>\n",
       "      <td>5.500000</td>\n",
       "      <td>30.5</td>\n",
       "      <td>0.500000</td>\n",
       "      <td>-0.031944</td>\n",
       "      <td>-0.031944</td>\n",
       "    </tr>\n",
       "    <tr>\n",
       "      <th>4</th>\n",
       "      <td>102</td>\n",
       "      <td>GAIN</td>\n",
       "      <td>8.000000</td>\n",
       "      <td>45.5</td>\n",
       "      <td>0.420043</td>\n",
       "      <td>0.034123</td>\n",
       "      <td>0.034123</td>\n",
       "    </tr>\n",
       "  </tbody>\n",
       "</table>\n",
       "</div>"
      ],
      "text/plain": [
       "   subjnum domain     block  trial  trueprob  val-estdiff-valid  val-error-3sd\n",
       "0      100   GAIN  6.666667   37.5  0.333548           0.102563       0.102563\n",
       "1      100   LOSS  6.333333   35.5  0.473004          -0.009115      -0.009115\n",
       "2      101   GAIN  7.500000   42.5  0.552187           0.003091       0.003091\n",
       "3      101   LOSS  5.500000   30.5  0.500000          -0.031944      -0.031944\n",
       "4      102   GAIN  8.000000   45.5  0.420043           0.034123       0.034123"
      ]
     },
     "execution_count": 238,
     "metadata": {},
     "output_type": "execute_result"
    }
   ],
   "source": [
    "domain_means = df.groupby(['subjnum','domain']).mean().reset_index()\n",
    "domain_means.head()"
   ]
  },
  {
   "cell_type": "code",
   "execution_count": 239,
   "metadata": {
    "collapsed": true,
    "scrolled": true
   },
   "outputs": [],
   "source": [
    "gain_ave_val_error = domain_means[domain_means['domain'] == 'GAIN']['val-error-3sd']"
   ]
  },
  {
   "cell_type": "code",
   "execution_count": 240,
   "metadata": {
    "collapsed": true,
    "scrolled": true
   },
   "outputs": [],
   "source": [
    "loss_ave_val_error = domain_means[domain_means['domain'] == 'LOSS']['val-error-3sd']"
   ]
  },
  {
   "cell_type": "code",
   "execution_count": 241,
   "metadata": {
    "collapsed": true,
    "scrolled": true
   },
   "outputs": [],
   "source": [
    "output = pd.DataFrame({\n",
    "    'ssid':list(subj_means.index),\n",
    "    'ValError':list(subj_means),\n",
    "    'gainValError':list(gain_ave_val_error),\n",
    "    'lossValError':list(loss_ave_val_error)\n",
    "})\n",
    "output['valWedge'] = abs(output['gainValError'] - output['lossValError'])"
   ]
  },
  {
   "cell_type": "code",
   "execution_count": 243,
   "metadata": {
    "collapsed": true
   },
   "outputs": [],
   "source": [
    "fname=os.path.join(output_dir,'subject-level.csv')\n",
    "output[[\n",
    "    'ssid','ValError','gainValError','lossValError','valWedge'\n",
    "]].to_csv(fname,index=False)"
   ]
  }
 ],
 "metadata": {
  "kernelspec": {
   "display_name": "Python 2",
   "language": "python",
   "name": "python2"
  },
  "language_info": {
   "codemirror_mode": {
    "name": "ipython",
    "version": 2
   },
   "file_extension": ".py",
   "mimetype": "text/x-python",
   "name": "python",
   "nbconvert_exporter": "python",
   "pygments_lexer": "ipython2",
   "version": "2.7.14"
  }
 },
 "nbformat": 4,
 "nbformat_minor": 2
}
