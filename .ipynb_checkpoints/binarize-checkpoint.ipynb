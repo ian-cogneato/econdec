{
 "cells": [
  {
   "cell_type": "code",
   "execution_count": 6,
   "metadata": {
    "collapsed": true
   },
   "outputs": [],
   "source": [
    "import os\n",
    "import pandas as pd\n",
    "import numpy as np\n",
    "import pickle"
   ]
  },
  {
   "cell_type": "code",
   "execution_count": 2,
   "metadata": {
    "collapsed": true
   },
   "outputs": [],
   "source": [
    "gaze_dir = os.path.join('..','derivatives','03.gaze-import')\n",
    "bins_dir = os.path.join('..','derivatives','04.binarized')"
   ]
  },
  {
   "cell_type": "code",
   "execution_count": 3,
   "metadata": {
    "collapsed": true
   },
   "outputs": [],
   "source": [
    "file = os.path.join(gaze_dir,'econdec-full_task-all_eye.xlsx')\n",
    "data = pd.read_excel(file)"
   ]
  },
  {
   "cell_type": "code",
   "execution_count": 16,
   "metadata": {
    "collapsed": true
   },
   "outputs": [],
   "source": [
    "columns=[\n",
    "    'study','subjnum','block','trial','domain',#'binary-domain',\n",
    "    'estimation','trueprob',\n",
    "    #'val-estdiff','val-estdiff-valid','val-estdiff-valid-mc-12','val-estdiff-valid-mc-123',\n",
    "    #'abs-estdiff','abs-estdiff-valid','abs-estdiff-valid-mc-12','abs-estdiff-valid-mc-123',\n",
    "    'choicert',#'choicert-3sd-12','esttaskrt-3sd-123','choicert-mc-12','choicert-mc-123',\n",
    "    'esttaskrt',#'esttaskrt-3sd-12','esttaskrt-3sd-123','esttaskrt-mc-12','esttaskrt-mc-123',\n",
    "    'outcomert',#'outcomert-3sd-12','outcomert-3sd-123','outcomert-mc-12','esttaskrt-mc-123',\n",
    "    'stockchosen',#'waschoiceoptimal','optimalchoicewas',\n",
    "    'stockvalue',#'abs-stockvalue','bin-abs-stockvalue',\n",
    "    #'bin-abs-stockvalue-mc-12','bin-abs-stockvalue-mc-123','b4choiceprob',\n",
    "    'stockpic','bondpic','facepic','bondmem','stockmem','facemem',\n",
    "    #'facemem-clean-reverse','facemem-mc-123','facemem-split-123','facemem-median-123',\n",
    "    #'choice-split-12','choice-split-123','outcome-split-12','outcome-split-123',\n",
    "    #'choice-median-12','choice-median-123','outcome-median-12','outcome-median-123'\n",
    "    'oscillations','dwell-time','osc-rate'\n",
    "]"
   ]
  },
  {
   "cell_type": "code",
   "execution_count": 42,
   "metadata": {
    "scrolled": true
   },
   "outputs": [],
   "source": [
    "data=data[columns]"
   ]
  },
  {
   "cell_type": "markdown",
   "metadata": {},
   "source": [
    "## Median Splits"
   ]
  },
  {
   "cell_type": "markdown",
   "metadata": {},
   "source": [
    "### ChoiceRT"
   ]
  },
  {
   "cell_type": "markdown",
   "metadata": {},
   "source": [
    "#### choicert-median-12"
   ]
  },
  {
   "cell_type": "code",
   "execution_count": 43,
   "metadata": {},
   "outputs": [
    {
     "data": {
      "text/plain": [
       "2.942747905079159"
      ]
     },
     "execution_count": 43,
     "metadata": {},
     "output_type": "execute_result"
    }
   ],
   "source": [
    "data[data['study'] != 3]['choicert'].median()"
   ]
  },
  {
   "cell_type": "markdown",
   "metadata": {},
   "source": [
    "#### choicert-median-123"
   ]
  },
  {
   "cell_type": "code",
   "execution_count": 44,
   "metadata": {},
   "outputs": [
    {
     "data": {
      "text/plain": [
       "study\n",
       "1    2.839088\n",
       "2    3.044866\n",
       "3    3.465500\n",
       "Name: choicert, dtype: float64"
      ]
     },
     "execution_count": 44,
     "metadata": {},
     "output_type": "execute_result"
    }
   ],
   "source": [
    "data.groupby(['study']).median()['choicert']"
   ]
  },
  {
   "cell_type": "markdown",
   "metadata": {},
   "source": [
    "### OutcomeRT"
   ]
  },
  {
   "cell_type": "markdown",
   "metadata": {},
   "source": [
    "#### outcomert-median-12"
   ]
  },
  {
   "cell_type": "code",
   "execution_count": 45,
   "metadata": {},
   "outputs": [
    {
     "data": {
      "text/plain": [
       "2.398511326755397"
      ]
     },
     "execution_count": 45,
     "metadata": {},
     "output_type": "execute_result"
    }
   ],
   "source": [
    "data[data['study'] != 3]['outcomert'].median()"
   ]
  },
  {
   "cell_type": "markdown",
   "metadata": {},
   "source": [
    "#### outcomert-median-123"
   ]
  },
  {
   "cell_type": "code",
   "execution_count": 46,
   "metadata": {},
   "outputs": [
    {
     "data": {
      "text/plain": [
       "study\n",
       "1    2.305666\n",
       "2    2.483841\n",
       "3    2.161500\n",
       "Name: outcomert, dtype: float64"
      ]
     },
     "execution_count": 46,
     "metadata": {},
     "output_type": "execute_result"
    }
   ],
   "source": [
    "data.groupby(['study']).median()['outcomert']"
   ]
  },
  {
   "cell_type": "markdown",
   "metadata": {},
   "source": [
    "### FaceMem"
   ]
  },
  {
   "cell_type": "markdown",
   "metadata": {},
   "source": [
    "#### facemem-median-12"
   ]
  },
  {
   "cell_type": "code",
   "execution_count": 75,
   "metadata": {
    "scrolled": true
   },
   "outputs": [
    {
     "name": "stderr",
     "output_type": "stream",
     "text": [
      "C:\\Users\\ia406477\\AppData\\Local\\Continuum\\anaconda2\\lib\\site-packages\\ipykernel_launcher.py:1: SettingWithCopyWarning: \n",
      "A value is trying to be set on a copy of a slice from a DataFrame.\n",
      "Try using .loc[row_indexer,col_indexer] = value instead\n",
      "\n",
      "See the caveats in the documentation: http://pandas.pydata.org/pandas-docs/stable/indexing.html#indexing-view-versus-copy\n",
      "  \"\"\"Entry point for launching an IPython kernel.\n"
     ]
    }
   ],
   "source": [
    "data['facemem-clean-reverse'] = (pd.to_numeric(data['facemem'], errors='coerce') * -1) + 5"
   ]
  },
  {
   "cell_type": "code",
   "execution_count": 79,
   "metadata": {
    "scrolled": true
   },
   "outputs": [
    {
     "data": {
      "text/plain": [
       "0        1.0\n",
       "1        4.0\n",
       "2        2.0\n",
       "3        2.0\n",
       "4        1.0\n",
       "5        4.0\n",
       "6        1.0\n",
       "7        2.0\n",
       "8        3.0\n",
       "9        4.0\n",
       "10       2.0\n",
       "11       2.0\n",
       "12       4.0\n",
       "13       2.0\n",
       "14       3.0\n",
       "15       3.0\n",
       "16       1.0\n",
       "17       2.0\n",
       "18       2.0\n",
       "19       4.0\n",
       "20       1.0\n",
       "21       4.0\n",
       "22       1.0\n",
       "23       1.0\n",
       "24       2.0\n",
       "25       4.0\n",
       "26       1.0\n",
       "27       3.0\n",
       "28       2.0\n",
       "29       1.0\n",
       "        ... \n",
       "15450    2.0\n",
       "15451    2.0\n",
       "15452    2.0\n",
       "15453    2.0\n",
       "15454    4.0\n",
       "15455    3.0\n",
       "15456    3.0\n",
       "15457    4.0\n",
       "15458    2.0\n",
       "15459    3.0\n",
       "15460    2.0\n",
       "15461    1.0\n",
       "15462    2.0\n",
       "15463    2.0\n",
       "15464    2.0\n",
       "15465    2.0\n",
       "15466    2.0\n",
       "15467    3.0\n",
       "15468    2.0\n",
       "15469    2.0\n",
       "15470    2.0\n",
       "15471    2.0\n",
       "15472    1.0\n",
       "15473    2.0\n",
       "15474    3.0\n",
       "15475    2.0\n",
       "15476    2.0\n",
       "15477    2.0\n",
       "15478    2.0\n",
       "15479    2.0\n",
       "Name: facemem-clean-reverse, Length: 15480, dtype: float64"
      ]
     },
     "execution_count": 79,
     "metadata": {},
     "output_type": "execute_result"
    }
   ],
   "source": [
    "data['facemem-clean-reverse']"
   ]
  },
  {
   "cell_type": "code",
   "execution_count": null,
   "metadata": {
    "collapsed": true
   },
   "outputs": [],
   "source": [
    "data[data['study'] != 3]['facemem']"
   ]
  }
 ],
 "metadata": {
  "kernelspec": {
   "display_name": "Python 2",
   "language": "python",
   "name": "python2"
  },
  "language_info": {
   "codemirror_mode": {
    "name": "ipython",
    "version": 2
   },
   "file_extension": ".py",
   "mimetype": "text/x-python",
   "name": "python",
   "nbconvert_exporter": "python",
   "pygments_lexer": "ipython2",
   "version": "2.7.14"
  }
 },
 "nbformat": 4,
 "nbformat_minor": 2
}
