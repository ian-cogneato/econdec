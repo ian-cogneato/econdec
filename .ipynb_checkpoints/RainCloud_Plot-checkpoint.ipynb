{
 "cells": [
  {
   "cell_type": "markdown",
   "metadata": {},
   "source": [
    "Today I tried to port to python the Raincloud plot (or PetitPrince plot, depending on the orientation) from R (under ggplot2) to Python.  The Raincloud plot is a variant of the violin plot written in R ggplot2 by [Micah Hallen](https://micahallen.org/2018/03/15/introducing-raincloud-plots/). Everithing started with  this xkcd comic, making fun of the violin plot.\n",
    "\n",
    "![xkcd](https://imgs.xkcd.com/comics/violin_plots.png)\n",
    "\n",
    "---\n",
    "\n",
    "I found a [tweet](https://twitter.com/flxrue/status/974639616912478210) asking for a .py version, and I agreed. Alas, the py version for ggplot2 does not allow to create new styles in a confortable way. So I decided to use the [seaborn](https://seaborn.pydata.org/) library and to rewrite a bit the `violin_plot` function. [This](half_viol.py) is the rewitten version.\n",
    "\n",
    "---\n",
    "\n",
    "Then I tried to replicate the plots from the [original post]([Micah Hallen](https://micahallen.org/2018/03/15/introducing-raincloud-plots/)), using Jupyter.\n"
   ]
  },
  {
   "cell_type": "code",
   "execution_count": 1,
   "metadata": {
    "collapsed": true
   },
   "outputs": [],
   "source": [
    "import seaborn as sns\n",
    "import matplotlib.pyplot as plt\n",
    "#sns.set(style=\"darkgrid\")\n",
    "#sns.set(style=\"whitegrid\")\n",
    "#sns.set_style(\"white\")\n",
    "sns.set(style=\"whitegrid\",font_scale=2)\n",
    "\n",
    "import pandas as pd"
   ]
  },
  {
   "cell_type": "code",
   "execution_count": 13,
   "metadata": {},
   "outputs": [],
   "source": [
    "df=pd.read_csv(\"2016.08.14_AnxietyPaper_DataSheet.csv\",sep=\",\")\n",
    "\n",
    "ddf=pd.melt(df, id_vars=[\"Participant\"], value_vars=[\"AngerUH\", \"DisgustUH\", \"FearUH\", \"HappyUH\"],\\\n",
    "           var_name=\"EmotionCondition\", value_name=\"Sensitivity\")"
   ]
  },
  {
   "cell_type": "code",
   "execution_count": 14,
   "metadata": {},
   "outputs": [],
   "source": [
    "import half_viol"
   ]
  },
  {
   "cell_type": "markdown",
   "metadata": {},
   "source": [
    "---\n",
    "\n",
    "This is the vertical version\n"
   ]
  },
  {
   "cell_type": "code",
   "execution_count": 20,
   "metadata": {},
   "outputs": [],
   "source": [
    "f, ax = plt.subplots(figsize=(12, 11))\n",
    "\n",
    "dy=\"Sensitivity\"; dx=\"EmotionCondition\"; ort=\"v\"\n",
    "# Draw a violinplot with a narrower bandwidth than the default\n",
    "ax=half_viol.violinplot(data=ddf, palette=\"Set2\", bw=.2,  linewidth=1,cut=0.,\\\n",
    "                   scale=\"area\", width=.8, inner=None,orient=ort,x=dx,y=dy)\n",
    "ax=sns.stripplot(data=ddf, palette=\"Set2\", edgecolor=\"white\",size=2,orient=ort,\\\n",
    "                 x=dx,y=dy,jitter=1,zorder=0)\n",
    "ax=sns.boxplot(data=ddf, color=\"black\",orient=ort,width=.15,x=dx,y=dy,zorder=10,\\\n",
    "              showcaps=True,boxprops={'facecolor':'none', \"zorder\":10},\\\n",
    "               showfliers=True,whiskerprops={'linewidth':2, \"zorder\":10},saturation=1)\n",
    "\n",
    "# Finalize the figure\n",
    "#ax.set(ylim=(3.5, -.7))\n",
    "sns.despine(left=True)\n"
   ]
  },
  {
   "cell_type": "markdown",
   "metadata": {},
   "source": [
    "---\n",
    "\n",
    "![png](output_4_0.png)\n",
    "\n",
    "---\n",
    "And the horizontal one."
   ]
  },
  {
   "cell_type": "code",
   "execution_count": 17,
   "metadata": {
    "attributes": {
     "classes": [
      "language-python"
     ],
     "id": ""
    }
   },
   "outputs": [],
   "source": [
    "f, ax = plt.subplots(figsize=(12, 11))\n",
    "\n",
    "dx=\"Sensitivity\"; dy=\"EmotionCondition\"; ort=\"h\"\n",
    "ax=half_viol.violinplot(data=ddf, palette=\"Set2\", bw=.2,  linewidth=1,cut=0.,\\\n",
    "                   scale=\"area\", width=.8, inner=None,orient=ort,x=dx,y=dy)\n",
    "ax=sns.stripplot(data=ddf, palette=\"Set2\", edgecolor=\"white\",size=2,orient=ort,\\\n",
    "                 x=dx,y=dy,jitter=1,zorder=0)\n",
    "ax=sns.boxplot(data=ddf, color=\"black\",orient=ort,width=.15,x=dx,y=dy,zorder=10,\\\n",
    "              showcaps=True,boxprops={'facecolor':'none', \"zorder\":10},\\\n",
    "               showfliers=True,whiskerprops={'linewidth':2, \"zorder\":10},saturation=1)\n",
    "\n",
    "# Finalize the figure\n",
    "#ax.set(ylim=(3.5, -.7))\n",
    "sns.despine(left=True)"
   ]
  },
  {
   "cell_type": "markdown",
   "metadata": {},
   "source": [
    "---\n",
    "\n",
    "![png](output_5_0.png)\n",
    "\n",
    "---\n",
    "\n",
    "I am quite satisfied about the results...moreover seaborn turns out to be a good choice, given the native integration with `pandas`."
   ]
  }
 ],
 "metadata": {
  "kernelspec": {
   "display_name": "Python 2",
   "language": "python",
   "name": "python2"
  },
  "language_info": {
   "codemirror_mode": {
    "name": "ipython",
    "version": 2
   },
   "file_extension": ".py",
   "mimetype": "text/x-python",
   "name": "python",
   "nbconvert_exporter": "python",
   "pygments_lexer": "ipython2",
   "version": "2.7.14"
  }
 },
 "nbformat": 4,
 "nbformat_minor": 2
}
