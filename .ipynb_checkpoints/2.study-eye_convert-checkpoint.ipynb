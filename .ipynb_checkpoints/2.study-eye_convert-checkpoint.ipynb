{
 "cells": [
  {
   "cell_type": "markdown",
   "metadata": {},
   "source": [
    "Created on Thu Feb 22 09:47:08 2018\n",
    "\n",
    "@author: ianad\n",
    "\n",
    "This script was used to extract data from the EyeLink native RESULTS_FILE.txt\n",
    "and convert it into BIDS format .xlsx files for inclusion in the full dataset\n",
    "\n",
    "Directory paths as written represent the structure in which the data was \n",
    "originally found, raw from the EyeLink. There were 2 separate versions of the \n",
    "experiment, containing different sets of subject-number-specific trial lists\n",
    "(300-322 && 323-345).\n",
    "\n",
    "The script was run from just outside these directories, and converted and\n",
    "wrote the BIDS-standard output at the same level.\n",
    "This output was then copy-pasted into econdec/derivatives/"
   ]
  },
  {
   "cell_type": "code",
   "execution_count": 1,
   "metadata": {},
   "outputs": [],
   "source": [
    "import os\n",
    "import pandas as pd"
   ]
  },
  {
   "cell_type": "markdown",
   "metadata": {},
   "source": [
    "We can either adapt the cell below to the drive letter of KF's external drive and put the three datasets in one place, or we can decide on a R: location for the datasets to reside, side-by-side."
   ]
  },
  {
   "cell_type": "code",
   "execution_count": 13,
   "metadata": {},
   "outputs": [],
   "source": [
    "drive_letter = 'D'\n",
    "sourcedir = os.path.join(drive_letter+':','datasets')"
   ]
  },
  {
   "cell_type": "code",
   "execution_count": 2,
   "metadata": {},
   "outputs": [],
   "source": [
    "dirlist=[os.path.join('iecondec300_322','results'),os.path.join('iecondecpart323_345','results')]\n",
    "subjs=[]\n",
    "Files=[]"
   ]
  },
  {
   "cell_type": "code",
   "execution_count": null,
   "metadata": {},
   "outputs": [],
   "source": [
    "for d in dirlist:\n",
    "    for s in os.listdir(d):\n",
    "        if s.startswith('3'):\n",
    "            subjs.append(s)\n",
    "            spath=os.path.join(d,s)\n",
    "            for f in os.listdir(spath):\n",
    "                if f.endswith('.txt'):\n",
    "                    fpath=os.path.join(spath,f)\n",
    "                    print fpath\n",
    "                    file=pd.read_csv(fpath, delimiter='\\t')\n",
    "                    Files.append(file)\n",
    "                    outdir='sub-'+s\n",
    "                    if not os.path.isdir(outdir):\n",
    "                        os.mkdir(outdir)\n",
    "                    outpath=os.path.join('sub-'+s,'sub-'+s+'_task-eye_beh.xlsx')                    \n",
    "                    file.to_excel(outpath)"
   ]
  },
  {
   "cell_type": "code",
   "execution_count": null,
   "metadata": {},
   "outputs": [],
   "source": [
    "Frame=pd.concat(Files)\n",
    "Frame.to_excel('study-eye_task-all_beh.xlsx')"
   ]
  }
 ],
 "metadata": {
  "kernelspec": {
   "display_name": "Python 3",
   "language": "python",
   "name": "python3"
  },
  "language_info": {
   "codemirror_mode": {
    "name": "ipython",
    "version": 3
   },
   "file_extension": ".py",
   "mimetype": "text/x-python",
   "name": "python",
   "nbconvert_exporter": "python",
   "pygments_lexer": "ipython3",
   "version": "3.7.0"
  }
 },
 "nbformat": 4,
 "nbformat_minor": 2
}
