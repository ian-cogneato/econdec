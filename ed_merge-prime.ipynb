{
 "cells": [
  {
   "cell_type": "code",
   "execution_count": 1,
   "metadata": {
    "collapsed": true
   },
   "outputs": [],
   "source": [
    "import os\n",
    "import pandas as pd\n"
   ]
  },
  {
   "cell_type": "code",
   "execution_count": 2,
   "metadata": {
    "collapsed": true
   },
   "outputs": [],
   "source": [
    "source_dir = os.path.abspath(os.path.join('..','sourcedata'))\n",
    "derivs_dir = os.path.abspath(os.path.join('..','derivatives'))"
   ]
  },
  {
   "cell_type": "code",
   "execution_count": 17,
   "metadata": {
    "scrolled": true
   },
   "outputs": [
    {
     "name": "stdout",
     "output_type": "stream",
     "text": [
      "[Errno 2] No such file or directory: 'R:\\\\experiments\\\\econdec\\\\sourcedata\\\\ds1\\\\sub-165\\\\sub-165_task-main_beh.xlsx'\n",
      "[Errno 2] No such file or directory: 'R:\\\\experiments\\\\econdec\\\\sourcedata\\\\ds1\\\\sub-183\\\\sub-183_task-main_beh.xlsx'\n",
      "[Errno 2] No such file or directory: 'R:\\\\experiments\\\\econdec\\\\sourcedata\\\\ds2\\\\sub-217\\\\sub-217_task-main_beh.xlsx'\n",
      "[Errno 2] No such file or directory: 'R:\\\\experiments\\\\econdec\\\\sourcedata\\\\ds2\\\\sub-265\\\\sub-265_task-main_beh.xlsx'\n",
      "[Errno 2] No such file or directory: 'R:\\\\experiments\\\\econdec\\\\sourcedata\\\\ds2\\\\sub-270\\\\sub-270_task-main_beh.xlsx'\n",
      "[Errno 2] No such file or directory: 'R:\\\\experiments\\\\econdec\\\\sourcedata\\\\ds2\\\\sub-283\\\\sub-283_task-main_beh.xlsx'\n",
      "[Errno 2] No such file or directory: 'R:\\\\experiments\\\\econdec\\\\sourcedata\\\\ds2\\\\sub-284\\\\sub-284_task-main_beh.xlsx'\n"
     ]
    }
   ],
   "source": [
    "datasets = ['ds1','ds2']\n",
    "frames=[]\n",
    "for ds in datasets:\n",
    "    dspath = os.path.join(source_dir,ds)\n",
    "    for sub in os.listdir(dspath):\n",
    "        fpath = os.path.join(dspath,sub,sub+'_task-main_beh.xlsx')\n",
    "        try:\n",
    "            frames.append(pd.read_excel(fpath))\n",
    "        except Exception as e:\n",
    "            print e\n",
    "            continue"
   ]
  },
  {
   "cell_type": "code",
   "execution_count": 18,
   "metadata": {
    "collapsed": true
   },
   "outputs": [],
   "source": [
    "output_path = os.path.join(derivs_dir,'sub-all_task-main_beh.xlsx')\n",
    "pd.concat(frames).to_excel(output_path)"
   ]
  },
  {
   "cell_type": "code",
   "execution_count": 19,
   "metadata": {},
   "outputs": [
    {
     "name": "stdout",
     "output_type": "stream",
     "text": [
      "[Errno 2] No such file or directory: 'R:\\\\experiments\\\\econdec\\\\sourcedata\\\\ds1\\\\sub-144\\\\sub-144_task-frac_beh.xlsx'\n",
      "[Errno 2] No such file or directory: 'R:\\\\experiments\\\\econdec\\\\sourcedata\\\\ds1\\\\sub-165\\\\sub-165_task-frac_beh.xlsx'\n",
      "[Errno 2] No such file or directory: 'R:\\\\experiments\\\\econdec\\\\sourcedata\\\\ds1\\\\sub-183\\\\sub-183_task-frac_beh.xlsx'\n",
      "[Errno 2] No such file or directory: 'R:\\\\experiments\\\\econdec\\\\sourcedata\\\\ds2\\\\sub-201\\\\sub-201_task-frac_beh.xlsx'\n",
      "[Errno 2] No such file or directory: 'R:\\\\experiments\\\\econdec\\\\sourcedata\\\\ds2\\\\sub-2010\\\\sub-2010_task-frac_beh.xlsx'\n",
      "[Errno 2] No such file or directory: 'R:\\\\experiments\\\\econdec\\\\sourcedata\\\\ds2\\\\sub-221\\\\sub-221_task-frac_beh.xlsx'\n",
      "[Errno 2] No such file or directory: 'R:\\\\experiments\\\\econdec\\\\sourcedata\\\\ds2\\\\sub-253\\\\sub-253_task-frac_beh.xlsx'\n",
      "[Errno 2] No such file or directory: 'R:\\\\experiments\\\\econdec\\\\sourcedata\\\\ds2\\\\sub-265\\\\sub-265_task-frac_beh.xlsx'\n",
      "[Errno 2] No such file or directory: 'R:\\\\experiments\\\\econdec\\\\sourcedata\\\\ds2\\\\sub-270\\\\sub-270_task-frac_beh.xlsx'\n",
      "[Errno 2] No such file or directory: 'R:\\\\experiments\\\\econdec\\\\sourcedata\\\\ds2\\\\sub-283\\\\sub-283_task-frac_beh.xlsx'\n",
      "[Errno 2] No such file or directory: 'R:\\\\experiments\\\\econdec\\\\sourcedata\\\\ds2\\\\sub-284\\\\sub-284_task-frac_beh.xlsx'\n",
      "[Errno 2] No such file or directory: 'R:\\\\experiments\\\\econdec\\\\sourcedata\\\\ds2\\\\sub-295\\\\sub-295_task-frac_beh.xlsx'\n"
     ]
    }
   ],
   "source": [
    "datasets = ['ds1','ds2']\n",
    "frames=[]\n",
    "for ds in datasets:\n",
    "    dspath = os.path.join(source_dir,ds)\n",
    "    for sub in os.listdir(dspath):\n",
    "        fpath = os.path.join(dspath,sub,sub+'_task-frac_beh.xlsx')\n",
    "        try:\n",
    "            frames.append(pd.read_excel(fpath))\n",
    "        except Exception as e:\n",
    "            print e\n",
    "            continue"
   ]
  },
  {
   "cell_type": "code",
   "execution_count": 20,
   "metadata": {
    "collapsed": true
   },
   "outputs": [],
   "source": [
    "output_path = os.path.join(derivs_dir,'sub-all_task-frac_beh.xlsx')\n",
    "pd.concat(frames).to_excel(output_path)"
   ]
  },
  {
   "cell_type": "code",
   "execution_count": 21,
   "metadata": {},
   "outputs": [
    {
     "name": "stdout",
     "output_type": "stream",
     "text": [
      "[Errno 2] No such file or directory: 'R:\\\\experiments\\\\econdec\\\\sourcedata\\\\ds1\\\\sub-144\\\\sub-144_task-face_beh.xlsx'\n",
      "[Errno 2] No such file or directory: 'R:\\\\experiments\\\\econdec\\\\sourcedata\\\\ds1\\\\sub-165\\\\sub-165_task-face_beh.xlsx'\n",
      "[Errno 2] No such file or directory: 'R:\\\\experiments\\\\econdec\\\\sourcedata\\\\ds1\\\\sub-183\\\\sub-183_task-face_beh.xlsx'\n",
      "[Errno 2] No such file or directory: 'R:\\\\experiments\\\\econdec\\\\sourcedata\\\\ds2\\\\sub-201\\\\sub-201_task-face_beh.xlsx'\n",
      "[Errno 2] No such file or directory: 'R:\\\\experiments\\\\econdec\\\\sourcedata\\\\ds2\\\\sub-2010\\\\sub-2010_task-face_beh.xlsx'\n",
      "[Errno 2] No such file or directory: 'R:\\\\experiments\\\\econdec\\\\sourcedata\\\\ds2\\\\sub-221\\\\sub-221_task-face_beh.xlsx'\n",
      "[Errno 2] No such file or directory: 'R:\\\\experiments\\\\econdec\\\\sourcedata\\\\ds2\\\\sub-226\\\\sub-226_task-face_beh.xlsx'\n",
      "[Errno 2] No such file or directory: 'R:\\\\experiments\\\\econdec\\\\sourcedata\\\\ds2\\\\sub-253\\\\sub-253_task-face_beh.xlsx'\n",
      "[Errno 2] No such file or directory: 'R:\\\\experiments\\\\econdec\\\\sourcedata\\\\ds2\\\\sub-265\\\\sub-265_task-face_beh.xlsx'\n",
      "[Errno 2] No such file or directory: 'R:\\\\experiments\\\\econdec\\\\sourcedata\\\\ds2\\\\sub-270\\\\sub-270_task-face_beh.xlsx'\n",
      "[Errno 2] No such file or directory: 'R:\\\\experiments\\\\econdec\\\\sourcedata\\\\ds2\\\\sub-283\\\\sub-283_task-face_beh.xlsx'\n",
      "[Errno 2] No such file or directory: 'R:\\\\experiments\\\\econdec\\\\sourcedata\\\\ds2\\\\sub-284\\\\sub-284_task-face_beh.xlsx'\n",
      "[Errno 2] No such file or directory: 'R:\\\\experiments\\\\econdec\\\\sourcedata\\\\ds2\\\\sub-295\\\\sub-295_task-face_beh.xlsx'\n"
     ]
    }
   ],
   "source": [
    "datasets = ['ds1','ds2']\n",
    "frames=[]\n",
    "for ds in datasets:\n",
    "    dspath = os.path.join(source_dir,ds)\n",
    "    for sub in os.listdir(dspath):\n",
    "        fpath = os.path.join(dspath,sub,sub+'_task-face_beh.xlsx')\n",
    "        try:\n",
    "            frames.append(pd.read_excel(fpath))\n",
    "        except Exception as e:\n",
    "            print e\n",
    "            continue"
   ]
  },
  {
   "cell_type": "code",
   "execution_count": 22,
   "metadata": {
    "collapsed": true
   },
   "outputs": [],
   "source": [
    "output_path = os.path.join(derivs_dir,'sub-all_task-face_beh.xlsx')\n",
    "pd.concat(frames).to_excel(output_path)"
   ]
  }
 ],
 "metadata": {
  "kernelspec": {
   "display_name": "Python 2",
   "language": "python",
   "name": "python2"
  },
  "language_info": {
   "codemirror_mode": {
    "name": "ipython",
    "version": 2
   },
   "file_extension": ".py",
   "mimetype": "text/x-python",
   "name": "python",
   "nbconvert_exporter": "python",
   "pygments_lexer": "ipython2",
   "version": "2.7.14"
  }
 },
 "nbformat": 4,
 "nbformat_minor": 2
}
