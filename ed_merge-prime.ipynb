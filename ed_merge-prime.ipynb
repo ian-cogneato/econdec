{
 "cells": [
  {
   "cell_type": "code",
   "execution_count": 1,
   "metadata": {
    "collapsed": true
   },
   "outputs": [],
   "source": [
    "import os\n",
    "import pandas as pd\n"
   ]
  },
  {
   "cell_type": "code",
   "execution_count": 2,
   "metadata": {
    "collapsed": true
   },
   "outputs": [],
   "source": [
    "source_dir = os.path.abspath(os.path.join('..','sourcedata'))"
   ]
  },
  {
   "cell_type": "code",
   "execution_count": 3,
   "metadata": {
    "collapsed": true
   },
   "outputs": [],
   "source": [
    "datasets = ['ds1','ds2']\n",
    "frames=[]\n",
    "for ds in datasets:\n",
    "    dspath = os.path.join(source_dir,ds)\n",
    "    for sub in os.listdir(dspath):\n",
    "        fpath = os.path.join(dspath,sub,sub+'_task-main_beh.xlsx')\n",
    "        try:\n",
    "            frames.append(pd.read_excel(fpath))\n",
    "        except: continue"
   ]
  },
  {
   "cell_type": "code",
   "execution_count": 4,
   "metadata": {
    "collapsed": true
   },
   "outputs": [],
   "source": [
    "output_path = os.path.join(source_dir,'sub-all_task-main_beh.xlsx')\n",
    "pd.concat(frames).to_excel(output_path)"
   ]
  }
 ],
 "metadata": {
  "kernelspec": {
   "display_name": "Python 2",
   "language": "python",
   "name": "python2"
  },
  "language_info": {
   "codemirror_mode": {
    "name": "ipython",
    "version": 2
   },
   "file_extension": ".py",
   "mimetype": "text/x-python",
   "name": "python",
   "nbconvert_exporter": "python",
   "pygments_lexer": "ipython2",
   "version": "2.7.14"
  }
 },
 "nbformat": 4,
 "nbformat_minor": 2
}
