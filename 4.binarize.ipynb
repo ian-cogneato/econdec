{
 "cells": [
  {
   "cell_type": "markdown",
   "metadata": {},
   "source": [
    "Binarize, apply median splits, mean-centering, and other secondary trial-level variant variables."
   ]
  },
  {
   "cell_type": "markdown",
   "metadata": {},
   "source": [
    "### Setup: Modules, Directories, & Data Import"
   ]
  },
  {
   "cell_type": "code",
   "execution_count": 1,
   "metadata": {},
   "outputs": [],
   "source": [
    "import os\n",
    "import pandas as pd\n",
    "import numpy as np"
   ]
  },
  {
   "cell_type": "code",
   "execution_count": 2,
   "metadata": {},
   "outputs": [
    {
     "name": "stdout",
     "output_type": "stream",
     "text": [
      "[WinError 183] Cannot create a file when that file already exists: '..\\\\derivatives\\\\04.binarized'\n"
     ]
    }
   ],
   "source": [
    "gaze_dir = os.path.join('..','derivatives','03.gaze-import')\n",
    "bins_dir = os.path.join('..','derivatives','04.binarized')\n",
    "try: os.mkdir(bins_dir)\n",
    "except OSError as e:\n",
    "    print(e)"
   ]
  },
  {
   "cell_type": "code",
   "execution_count": 3,
   "metadata": {},
   "outputs": [],
   "source": [
    "file = os.path.join(gaze_dir,'econdec-full_task-all_eye.csv')\n",
    "data = pd.read_csv(file)"
   ]
  },
  {
   "cell_type": "code",
   "execution_count": 4,
   "metadata": {},
   "outputs": [],
   "source": [
    "columns=[\n",
    "    'study','subjnum','block','trial','domain',#'binary-domain',\n",
    "    'estimation','trueprob',\n",
    "    #'val-estdiff','val-estdiff-valid','val-estdiff-valid-mc-12','val-estdiff-valid-mc-123',\n",
    "    #'abs-estdiff','abs-estdiff-valid','abs-estdiff-valid-mc-12','abs-estdiff-valid-mc-123',\n",
    "    'choicert',#'choicert-3sd-12','esttaskrt-3sd-123','choicert-mc-12','choicert-mc-123',\n",
    "    'esttaskrt',#'esttaskrt-3sd-12','esttaskrt-3sd-123','esttaskrt-mc-12','esttaskrt-mc-123',\n",
    "    'outcomert',#'outcomert-3sd-12','outcomert-3sd-123','outcomert-mc-12','esttaskrt-mc-123',\n",
    "    'stockchosen',#'waschoiceoptimal','optimalchoicewas',\n",
    "    'stockvalue',#'abs-stockvalue','bin-abs-stockvalue',\n",
    "    #'bin-abs-stockvalue-mc-12','bin-abs-stockvalue-mc-123','b4choiceprob',\n",
    "    'stockpic','bondpic','facepic','bondmem','stockmem','facemem',\n",
    "    #'facemem-clean-reverse','facemem-mc-123','facemem-split-123','facemem-median-123',\n",
    "    #'choice-split-12','choice-split-123','outcome-split-12','outcome-split-123',\n",
    "    #'choice-median-12','choice-median-123','outcome-median-12','outcome-median-123'\n",
    "    'oscillations','dwell-time','osc-rate'\n",
    "]"
   ]
  },
  {
   "cell_type": "code",
   "execution_count": 5,
   "metadata": {
    "scrolled": true
   },
   "outputs": [],
   "source": [
    "data=data[columns]"
   ]
  },
  {
   "cell_type": "markdown",
   "metadata": {},
   "source": [
    "## Median Splits"
   ]
  },
  {
   "cell_type": "markdown",
   "metadata": {},
   "source": [
    "### ChoiceRT"
   ]
  },
  {
   "cell_type": "markdown",
   "metadata": {},
   "source": [
    "#### choicert-median-12"
   ]
  },
  {
   "cell_type": "code",
   "execution_count": 6,
   "metadata": {},
   "outputs": [
    {
     "data": {
      "text/plain": [
       "2.942747905079159"
      ]
     },
     "execution_count": 6,
     "metadata": {},
     "output_type": "execute_result"
    }
   ],
   "source": [
    "data[data['study'] != 3]['choicert'].median()"
   ]
  },
  {
   "cell_type": "markdown",
   "metadata": {},
   "source": [
    "#### choicert-median-123"
   ]
  },
  {
   "cell_type": "code",
   "execution_count": 7,
   "metadata": {},
   "outputs": [
    {
     "data": {
      "text/plain": [
       "study\n",
       "1    2.839088\n",
       "2    3.044866\n",
       "3    3.431500\n",
       "Name: choicert, dtype: float64"
      ]
     },
     "execution_count": 7,
     "metadata": {},
     "output_type": "execute_result"
    }
   ],
   "source": [
    "data.groupby(['study']).median()['choicert']"
   ]
  },
  {
   "cell_type": "markdown",
   "metadata": {},
   "source": [
    "### OutcomeRT"
   ]
  },
  {
   "cell_type": "markdown",
   "metadata": {},
   "source": [
    "#### outcomert-median-12"
   ]
  },
  {
   "cell_type": "code",
   "execution_count": 8,
   "metadata": {},
   "outputs": [
    {
     "data": {
      "text/plain": [
       "2.398511326755397"
      ]
     },
     "execution_count": 8,
     "metadata": {},
     "output_type": "execute_result"
    }
   ],
   "source": [
    "data[data['study'] != 3]['outcomert'].median()"
   ]
  },
  {
   "cell_type": "markdown",
   "metadata": {},
   "source": [
    "#### outcomert-median-123"
   ]
  },
  {
   "cell_type": "code",
   "execution_count": 9,
   "metadata": {},
   "outputs": [
    {
     "data": {
      "text/plain": [
       "study\n",
       "1    2.305666\n",
       "2    2.483841\n",
       "3    2.123000\n",
       "Name: outcomert, dtype: float64"
      ]
     },
     "execution_count": 9,
     "metadata": {},
     "output_type": "execute_result"
    }
   ],
   "source": [
    "data.groupby(['study']).median()['outcomert']"
   ]
  },
  {
   "cell_type": "markdown",
   "metadata": {},
   "source": [
    "### FaceMem"
   ]
  },
  {
   "cell_type": "markdown",
   "metadata": {},
   "source": [
    "#### clean and reverse-scale"
   ]
  },
  {
   "cell_type": "code",
   "execution_count": 10,
   "metadata": {
    "scrolled": true
   },
   "outputs": [],
   "source": [
    "data['facemem-clean-reverse'] = (pd.to_numeric(data['facemem'], errors='coerce') * -1) + 5"
   ]
  },
  {
   "cell_type": "markdown",
   "metadata": {},
   "source": [
    "#### median-split not necessary. Mean-center?"
   ]
  },
  {
   "cell_type": "code",
   "execution_count": 11,
   "metadata": {
    "scrolled": true
   },
   "outputs": [
    {
     "data": {
      "text/plain": [
       "2.0"
      ]
     },
     "execution_count": 11,
     "metadata": {},
     "output_type": "execute_result"
    }
   ],
   "source": [
    "data[data['study'] != 3]['facemem-clean-reverse'].median()"
   ]
  },
  {
   "cell_type": "code",
   "execution_count": 12,
   "metadata": {},
   "outputs": [
    {
     "data": {
      "text/plain": [
       "study\n",
       "1    2.0\n",
       "2    2.0\n",
       "3    3.0\n",
       "Name: facemem-clean-reverse, dtype: float64"
      ]
     },
     "execution_count": 12,
     "metadata": {},
     "output_type": "execute_result"
    }
   ],
   "source": [
    "data.groupby(['study']).median()['facemem-clean-reverse']"
   ]
  },
  {
   "cell_type": "markdown",
   "metadata": {},
   "source": [
    "### Output"
   ]
  },
  {
   "cell_type": "code",
   "execution_count": 14,
   "metadata": {},
   "outputs": [],
   "source": [
    "file = os.path.join(bins_dir,'econdec-all_task-all.csv')\n",
    "data.to_csv(file, index=False)"
   ]
  }
 ],
 "metadata": {
  "kernelspec": {
   "display_name": "Python 3",
   "language": "python",
   "name": "python3"
  },
  "language_info": {
   "codemirror_mode": {
    "name": "ipython",
    "version": 3
   },
   "file_extension": ".py",
   "mimetype": "text/x-python",
   "name": "python",
   "nbconvert_exporter": "python",
   "pygments_lexer": "ipython3",
   "version": "3.7.0"
  }
 },
 "nbformat": 4,
 "nbformat_minor": 2
}
