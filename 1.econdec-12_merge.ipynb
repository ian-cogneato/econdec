{
 "cells": [
  {
   "cell_type": "markdown",
   "metadata": {},
   "source": [
    "# ED-1 & ED-2 Merge\n",
    "`1.econdec-12_merge`\n",
    "\n",
    "Combine task-specific datasets from EconDec-1 & EconDec-2 and situate for homogenization & merging with dataset from EconDec-3"
   ]
  },
  {
   "cell_type": "code",
   "execution_count": 1,
   "metadata": {},
   "outputs": [],
   "source": [
    "import os\n",
    "import pandas as pd\n",
    "from datetime import datetime"
   ]
  },
  {
   "cell_type": "code",
   "execution_count": 2,
   "metadata": {},
   "outputs": [],
   "source": [
    "date = datetime.today().strftime('%y%m%d')"
   ]
  },
  {
   "cell_type": "code",
   "execution_count": 3,
   "metadata": {},
   "outputs": [],
   "source": [
    "verbose = False"
   ]
  },
  {
   "cell_type": "code",
   "execution_count": 4,
   "metadata": {},
   "outputs": [],
   "source": [
    "source_dir = os.path.abspath(os.path.join('..','sourcedata'))\n",
    "output_dir = os.path.abspath(os.path.join('..','derivatives','00.allsub'))\n",
    "if not os.path.isdir(output_dir): os.mkdir(output_dir)"
   ]
  },
  {
   "cell_type": "code",
   "execution_count": 5,
   "metadata": {
    "scrolled": true
   },
   "outputs": [],
   "source": [
    "frames={'main':[],'frac':[],'face':[]}\n",
    "subs_missing_data=[]\n",
    "for dataset in ['ds1','ds2']:\n",
    "    dataset_dir = os.path.join(source_dir, dataset)\n",
    "    for sub in os.listdir(dataset_dir):\n",
    "        if verbose: print(sub)\n",
    "        sub_dir = os.path.join(dataset_dir, sub)\n",
    "        for task in ['main','frac','face']:\n",
    "            infile_name = sub +'_task-'+ task +'_beh.xlsx'\n",
    "            infile_path = os.path.join(sub_dir, infile_name)\n",
    "            try:\n",
    "                frames[task].append(pd.read_excel(infile_path))\n",
    "                if verbose: print('[Extract]', fname)\n",
    "            except IOError as e:\n",
    "                if verbose: print(e)\n",
    "                subs_missing_data.append(sub)\n",
    "                continue"
   ]
  },
  {
   "cell_type": "code",
   "execution_count": 6,
   "metadata": {},
   "outputs": [
    {
     "name": "stdout",
     "output_type": "stream",
     "text": [
      "[Missing data]: sub-144,sub-144,sub-165,sub-165,sub-165,sub-183,sub-183,sub-183,sub-201,sub-201,sub-2010,sub-2010,sub-217,sub-221,sub-221,sub-226,sub-253,sub-253,sub-265,sub-265,sub-265,sub-270,sub-270,sub-270,sub-278,sub-278,sub-278,sub-283,sub-283,sub-283,sub-284,sub-284,sub-284,sub-295,sub-295\n"
     ]
    }
   ],
   "source": [
    "log = '[Missing data]: ' +','.join(subs_missing_data)\n",
    "print(log)"
   ]
  },
  {
   "cell_type": "code",
   "execution_count": 7,
   "metadata": {},
   "outputs": [
    {
     "name": "stdout",
     "output_type": "stream",
     "text": [
      "[Output] R:\\experiments\\econdec\\derivatives\\00.allsub\\econdec-12_task-main_beh_181217.csv\n",
      "[Output] R:\\experiments\\econdec\\derivatives\\00.allsub\\econdec-12_task-frac_beh_181217.csv\n",
      "[Output] R:\\experiments\\econdec\\derivatives\\00.allsub\\econdec-12_task-face_beh_181217.csv\n"
     ]
    }
   ],
   "source": [
    "for task in ['main','frac','face']:\n",
    "    outfile_name = 'econdec-12_task-' + task + '_beh_' + date + '.csv'\n",
    "    outfile_path = os.path.join(output_dir, outfile_name)\n",
    "    pd.concat(frames[task]).to_csv(outfile_path, index=False)\n",
    "    print('[Output]',outfile_path)"
   ]
  }
 ],
 "metadata": {
  "kernelspec": {
   "display_name": "Python 3",
   "language": "python",
   "name": "python3"
  },
  "language_info": {
   "codemirror_mode": {
    "name": "ipython",
    "version": 3
   },
   "file_extension": ".py",
   "mimetype": "text/x-python",
   "name": "python",
   "nbconvert_exporter": "python",
   "pygments_lexer": "ipython3",
   "version": "3.7.0"
  }
 },
 "nbformat": 4,
 "nbformat_minor": 2
}
